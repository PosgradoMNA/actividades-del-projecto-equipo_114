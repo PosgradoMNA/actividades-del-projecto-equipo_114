{
 "cells": [
  {
   "cell_type": "markdown",
   "metadata": {
    "id": "27P_1QlhUEbm"
   },
   "source": []
  },
  {
   "cell_type": "markdown",
   "metadata": {
    "id": "ivVpIW2hUEcf"
   },
   "source": [
    "# Ciencia y analítica de datos\n",
    "# Alumnos:\n",
    "# Javier Granados - A00566717\n",
    "# Josías Ruiz - A00968460\n",
    "# Profesor:\n",
    "# María de la Paz Rico Fernández\n",
    "# Entrega:\n",
    "# Reto-> Entrega 1 (16/11) -> Limpieza, análisis, visualización y kmeans\n",
    "# Fecha:\n",
    "# 16/11/2022"
   ]
  },
  {
   "cell_type": "code",
   "execution_count": 1,
   "metadata": {
    "id": "FfZ5JiFCUFDD"
   },
   "outputs": [],
   "source": [
    "import pandas as pd\n",
    "import numpy as np\n",
    "import io\n",
    "import requests\n",
    "import urllib.request\n",
    "import csv\n",
    "import seaborn as sns\n",
    "import matplotlib.pyplot as plt\n",
    "import geopandas as gpd\n",
    "from shapely.geometry import Point\n",
    "\n",
    "pd.set_option('display.max_columns', None)"
   ]
  },
  {
   "cell_type": "code",
   "execution_count": 2,
   "metadata": {
    "id": "11kpWXLqUIIl"
   },
   "outputs": [],
   "source": [
    "url1 = 'https://raw.githubusercontent.com/PosgradoMNA/actividades-del-projecto-equipo_114/main/Reto1/Datos_de_calidad_del_agua_de_sitios_de_monitoreo_de_aguas_subterraneas_2020.csv'\n",
    "url2 = 'https://raw.githubusercontent.com/PosgradoMNA/actividades-del-projecto-equipo_114/main/Reto1/Datos_de_calidad_del_agua_de_sitios_de_monitoreo_de_aguas_superficiales_2020.csv'"
   ]
  },
  {
   "cell_type": "code",
   "execution_count": 3,
   "metadata": {
    "colab": {
     "base_uri": "https://localhost:8080/"
    },
    "id": "WNaJZ5YnVuOg",
    "outputId": "56654987-efc3-4a7e-e88a-4125cefb17f3"
   },
   "outputs": [
    {
     "name": "stderr",
     "output_type": "stream",
     "text": [
      "C:\\Users\\josia\\AppData\\Local\\Temp\\ipykernel_26600\\1998719280.py:1: FutureWarning: The error_bad_lines argument has been deprecated and will be removed in a future version. Use on_bad_lines in the future.\n",
      "\n",
      "\n",
      "  df_sub = pd.read_csv(url1, encoding_errors='ignore', error_bad_lines=False)\n",
      "C:\\Users\\josia\\AppData\\Local\\Temp\\ipykernel_26600\\1998719280.py:2: FutureWarning: The error_bad_lines argument has been deprecated and will be removed in a future version. Use on_bad_lines in the future.\n",
      "\n",
      "\n",
      "  df_sup = pd.read_csv(url2, encoding_errors='ignore', error_bad_lines=False)\n"
     ]
    }
   ],
   "source": [
    "df_sub = pd.read_csv(url1, encoding_errors='ignore', error_bad_lines=False)\n",
    "df_sup = pd.read_csv(url2, encoding_errors='ignore', error_bad_lines=False)"
   ]
  },
  {
   "cell_type": "markdown",
   "metadata": {
    "id": "oqrBec77V04w"
   },
   "source": [
    "# Mapeao de Indicadores de calidad"
   ]
  },
  {
   "cell_type": "code",
   "execution_count": 4,
   "metadata": {},
   "outputs": [
    {
     "data": {
      "text/plain": [
       "Index(['CLAVE', 'SITIO', 'ORGANISMO_DE_CUENCA', 'ESTADO', 'MUNICIPIO',\n",
       "       'CUENCA', 'CUERPO DE AGUA', 'TIPO', 'SUBTIPO', 'LONGITUD', 'LATITUD',\n",
       "       'PERIODO', 'DBO_mg/L', 'CALIDAD_DBO', 'DQO_mg/L', 'CALIDAD_DQO',\n",
       "       'SST_mg/L', 'CALIDAD_SST', 'COLI_FEC_NMP_100mL', 'CALIDAD_COLI_FEC',\n",
       "       'E_COLI_NMP_100mL', 'CALIDAD_E_COLI', 'ENTEROC_NMP_100mL',\n",
       "       'CALIDAD_ENTEROC', 'OD_PORC', 'CALIDAD_OD_PORC', 'OD_PORC_SUP',\n",
       "       'CALIDAD_OD_PORC_SUP', 'OD_PORC_MED', 'CALIDAD_OD_PORC_MED',\n",
       "       'OD_PORC_FON', 'CALIDAD_OD_PORC_FON', 'TOX_D_48_UT', 'CALIDAD_TOX_D_48',\n",
       "       'TOX_V_15_UT', 'CALIDAD_TOX_V_15', 'TOX_D_48_SUP_UT',\n",
       "       'CALIDAD TOX_D_48_SUP', 'TOX_D_48_FON_UT', 'CALIDAD_TOX_D_48_FON',\n",
       "       'TOX_FIS_SUP_15_UT', 'CALIDAD_TOX_FIS_SUP_15', 'TOX_FIS_FON_15_UT',\n",
       "       'CALIDAD_TOX_FIS_FON_15', 'SEMAFORO', 'CONTAMINANTES', 'CUMPLE_CON_DBO',\n",
       "       'CUMPLE_CON_DQO', 'CUMPLE_CON_SST', 'CUMPLE_CON_CF',\n",
       "       'CUMPLE_CON_E_COLI', 'CUMPLE_CON_ENTEROC', 'CUMPLE_CON_OD',\n",
       "       'CUMPLE_CON_TOX', 'GRUPO'],\n",
       "      dtype='object')"
      ]
     },
     "execution_count": 4,
     "metadata": {},
     "output_type": "execute_result"
    }
   ],
   "source": [
    "df_sup.columns"
   ]
  },
  {
   "cell_type": "code",
   "execution_count": 5,
   "metadata": {},
   "outputs": [],
   "source": [
    "indicadoresCalidadSup = ['CALIDAD_TOX_V_15',\n",
    "                      'CALIDAD_TOX_D_48',\n",
    "                      'CALIDAD_SST',\n",
    "                      'CALIDAD_ENTEROC',\n",
    "                      'CALIDAD_E_COLI',\n",
    "                      'CALIDAD_DQO',\n",
    "                      'CALIDAD_DBO',\n",
    "                      'CALIDAD_COLI_FEC',\n",
    "                      'CALIDAD_OD_PORC']"
   ]
  },
  {
   "cell_type": "code",
   "execution_count": 6,
   "metadata": {},
   "outputs": [
    {
     "name": "stdout",
     "output_type": "stream",
     "text": [
      "CALIDAD_TOX_V_15\n",
      "[nan 'No Toxico' 'Toxicidad moderada' 'Toxicidad alta' 'Toxicidad baja']\n",
      "CALIDAD_TOX_D_48\n",
      "[nan 'No Toxico' 'Toxicidad moderada' 'Toxicidad baja' 'Toxicidad alta']\n",
      "CALIDAD_SST\n",
      "['Excelente' 'Buena calidad' 'Contaminada' 'Aceptable' nan\n",
      " 'Fuertemente contaminada']\n",
      "CALIDAD_ENTEROC\n",
      "[nan 'Excelente' 'Contaminada' 'Fuertemente contaminada' 'Buena calidad']\n",
      "CALIDAD_E_COLI\n",
      "['Excelente' nan 'Buena calidad' 'Fuertemente contaminada' 'Contaminada'\n",
      " 'Aceptable']\n",
      "CALIDAD_DQO\n",
      "['Contaminada' nan 'Excelente' 'Aceptable' 'Buena calidad'\n",
      " 'Fuertemente contaminada']\n",
      "CALIDAD_DBO\n",
      "['Buena calidad' nan 'Excelente' 'Aceptable' 'Contaminada'\n",
      " 'Fuertemente contaminada']\n",
      "CALIDAD_COLI_FEC\n",
      "['Contaminada' nan 'Buena calidad' 'Fuertemente contaminada' 'Excelente'\n",
      " 'Aceptable']\n",
      "CALIDAD_OD_PORC\n",
      "[nan 'Excelente' 'Contaminada' 'Fuertemente contaminada' 'Aceptable'\n",
      " 'Buena calidad']\n"
     ]
    }
   ],
   "source": [
    "QtyLabels = []\n",
    "for x in indicadoresCalidadSup:\n",
    "    print(x)\n",
    "    #print(df_sup[x].isna().sum())\n",
    "    Qty=df_sup[x].unique()\n",
    "    print(Qty)\n",
    "    for y in Qty: \n",
    "        QtyLabels.append(y)\n"
   ]
  },
  {
   "cell_type": "code",
   "execution_count": 7,
   "metadata": {},
   "outputs": [
    {
     "data": {
      "text/plain": [
       "[nan,\n",
       " 'No Toxico',\n",
       " 'Toxicidad moderada',\n",
       " 'Toxicidad alta',\n",
       " 'Toxicidad baja',\n",
       " 'Excelente',\n",
       " 'Buena calidad',\n",
       " 'Contaminada',\n",
       " 'Aceptable',\n",
       " 'Fuertemente contaminada']"
      ]
     },
     "execution_count": 7,
     "metadata": {},
     "output_type": "execute_result"
    }
   ],
   "source": [
    "QtyLabels=list(dict.fromkeys(QtyLabels))\n",
    "QtyLabels"
   ]
  },
  {
   "cell_type": "code",
   "execution_count": 8,
   "metadata": {
    "colab": {
     "base_uri": "https://localhost:8080/"
    },
    "id": "XJyFDNFoVv76",
    "outputId": "41406f7d-6136-4c27-999e-fccfd84f3644"
   },
   "outputs": [],
   "source": [
    "df_sup.replace({\n",
    "    'Excelente':5,\n",
    "    'Buena calidad':4,\n",
    "    'Aceptable':3,\n",
    "    'Contaminada':2,\n",
    "    'Fuertemente contaminada':1,\n",
    "    'No Toxico':4,\n",
    "    'Toxicidad moderada':3,\n",
    "    'Toxicidad baja':2,\n",
    "    'Toxicidad alta':1,\n",
    "    np.NaN:0\n",
    "}, inplace=True)"
   ]
  },
  {
   "cell_type": "code",
   "execution_count": 9,
   "metadata": {
    "id": "erJvCAFiWMSH"
   },
   "outputs": [
    {
     "data": {
      "text/plain": [
       "['CALIDAD_TOX_V_15',\n",
       " 'CALIDAD_TOX_D_48',\n",
       " 'CALIDAD_SST',\n",
       " 'CALIDAD_ENTEROC',\n",
       " 'CALIDAD_E_COLI',\n",
       " 'CALIDAD_DQO',\n",
       " 'CALIDAD_DBO',\n",
       " 'CALIDAD_COLI_FEC',\n",
       " 'CALIDAD_OD_PORC',\n",
       " 'ESTADO',\n",
       " 'LATITUD',\n",
       " 'LONGITUD',\n",
       " 'SEMAFORO']"
      ]
     },
     "execution_count": 9,
     "metadata": {},
     "output_type": "execute_result"
    }
   ],
   "source": [
    "conservarCols =indicadoresCalidadSup + ['ESTADO',\n",
    " 'LATITUD',\n",
    " 'LONGITUD',\n",
    " 'SEMAFORO'                \n",
    "]\n",
    "\n",
    "conservarCols"
   ]
  },
  {
   "cell_type": "code",
   "execution_count": 10,
   "metadata": {},
   "outputs": [],
   "source": [
    "removerCols = [x for x in df_sup.columns if x not in conservarCols]"
   ]
  },
  {
   "cell_type": "code",
   "execution_count": 11,
   "metadata": {
    "id": "PW04mqvZWNmv"
   },
   "outputs": [],
   "source": [
    "# Remover columnas qeu no utilizaremos\n",
    "df_sup.drop(columns=removerCols, inplace=True)"
   ]
  },
  {
   "cell_type": "code",
   "execution_count": 12,
   "metadata": {
    "colab": {
     "base_uri": "https://localhost:8080/",
     "height": 283
    },
    "id": "Rai70P-tWxcP",
    "outputId": "0f71c9d3-a731-4abc-ee5e-6cf8b545cf6c",
    "scrolled": true
   },
   "outputs": [
    {
     "data": {
      "text/plain": [
       "<matplotlib.collections.PathCollection at 0x23a2d78dac0>"
      ]
     },
     "execution_count": 12,
     "metadata": {},
     "output_type": "execute_result"
    },
    {
     "data": {
      "image/png": "[encoded data removed]",
      "text/plain": [
       "<Figure size 640x480 with 1 Axes>"
      ]
     },
     "metadata": {},
     "output_type": "display_data"
    }
   ],
   "source": [
    "df_sup.replace({\n",
    "    'Verde':3,\n",
    "    'Amarillo':2,\n",
    "    'Rojo':1\n",
    "}, inplace=True)\n",
    "plt.scatter(df_sup.index, df_sup['SEMAFORO'])"
   ]
  },
  {
   "cell_type": "code",
   "execution_count": 13,
   "metadata": {
    "colab": {
     "base_uri": "https://localhost:8080/"
    },
    "id": "fprIl8Huiei9",
    "outputId": "3c3f40fa-0885-48f8-aad6-4353e6fd1fd2"
   },
   "outputs": [
    {
     "data": {
      "text/plain": [
       "count    3493.000000\n",
       "mean        2.050386\n",
       "std         0.820194\n",
       "min         1.000000\n",
       "25%         1.000000\n",
       "50%         2.000000\n",
       "75%         3.000000\n",
       "max         3.000000\n",
       "Name: SEMAFORO, dtype: float64"
      ]
     },
     "execution_count": 13,
     "metadata": {},
     "output_type": "execute_result"
    }
   ],
   "source": [
    "df_sup['SEMAFORO'].describe()"
   ]
  },
  {
   "cell_type": "code",
   "execution_count": 14,
   "metadata": {},
   "outputs": [
    {
     "data": {
      "text/plain": [
       "3    1267\n",
       "2    1135\n",
       "1    1091\n",
       "Name: SEMAFORO, dtype: int64"
      ]
     },
     "execution_count": 14,
     "metadata": {},
     "output_type": "execute_result"
    }
   ],
   "source": [
    "df_sup['SEMAFORO'].value_counts()"
   ]
  },
  {
   "cell_type": "code",
   "execution_count": 15,
   "metadata": {
    "colab": {
     "base_uri": "https://localhost:8080/",
     "height": 539
    },
    "id": "DiEolJ35inOf",
    "outputId": "bcd69ff4-8653-49c9-a346-179eb8c8f931"
   },
   "outputs": [
    {
     "data": {
      "text/html": [
       "<div>\n",
       "<style scoped>\n",
       "    .dataframe tbody tr th:only-of-type {\n",
       "        vertical-align: middle;\n",
       "    }\n",
       "\n",
       "    .dataframe tbody tr th {\n",
       "        vertical-align: top;\n",
       "    }\n",
       "\n",
       "    .dataframe thead th {\n",
       "        text-align: right;\n",
       "    }\n",
       "</style>\n",
       "<table border=\"1\" class=\"dataframe\">\n",
       "  <thead>\n",
       "    <tr style=\"text-align: right;\">\n",
       "      <th></th>\n",
       "      <th>ESTADO</th>\n",
       "      <th>LONGITUD</th>\n",
       "      <th>LATITUD</th>\n",
       "      <th>CALIDAD_DBO</th>\n",
       "      <th>CALIDAD_DQO</th>\n",
       "      <th>CALIDAD_SST</th>\n",
       "      <th>CALIDAD_COLI_FEC</th>\n",
       "      <th>CALIDAD_E_COLI</th>\n",
       "      <th>CALIDAD_ENTEROC</th>\n",
       "      <th>CALIDAD_OD_PORC</th>\n",
       "      <th>CALIDAD_TOX_D_48</th>\n",
       "      <th>CALIDAD_TOX_V_15</th>\n",
       "      <th>SEMAFORO</th>\n",
       "    </tr>\n",
       "  </thead>\n",
       "  <tbody>\n",
       "    <tr>\n",
       "      <th>0</th>\n",
       "      <td>AGUASCALIENTES</td>\n",
       "      <td>-102.33911</td>\n",
       "      <td>22.24730</td>\n",
       "      <td>4.0</td>\n",
       "      <td>2.0</td>\n",
       "      <td>5.0</td>\n",
       "      <td>2.0</td>\n",
       "      <td>5.0</td>\n",
       "      <td>0.0</td>\n",
       "      <td>0.0</td>\n",
       "      <td>0.0</td>\n",
       "      <td>0.0</td>\n",
       "      <td>1</td>\n",
       "    </tr>\n",
       "    <tr>\n",
       "      <th>1</th>\n",
       "      <td>BAJA CALIFORNIA SUR</td>\n",
       "      <td>-109.84290</td>\n",
       "      <td>22.90473</td>\n",
       "      <td>0.0</td>\n",
       "      <td>0.0</td>\n",
       "      <td>5.0</td>\n",
       "      <td>0.0</td>\n",
       "      <td>0.0</td>\n",
       "      <td>5.0</td>\n",
       "      <td>0.0</td>\n",
       "      <td>0.0</td>\n",
       "      <td>0.0</td>\n",
       "      <td>3</td>\n",
       "    </tr>\n",
       "    <tr>\n",
       "      <th>2</th>\n",
       "      <td>BAJA CALIFORNIA SUR</td>\n",
       "      <td>-109.86442</td>\n",
       "      <td>22.89880</td>\n",
       "      <td>0.0</td>\n",
       "      <td>0.0</td>\n",
       "      <td>5.0</td>\n",
       "      <td>0.0</td>\n",
       "      <td>0.0</td>\n",
       "      <td>5.0</td>\n",
       "      <td>0.0</td>\n",
       "      <td>0.0</td>\n",
       "      <td>0.0</td>\n",
       "      <td>3</td>\n",
       "    </tr>\n",
       "    <tr>\n",
       "      <th>3</th>\n",
       "      <td>BAJA CALIFORNIA SUR</td>\n",
       "      <td>-109.88604</td>\n",
       "      <td>22.89609</td>\n",
       "      <td>0.0</td>\n",
       "      <td>0.0</td>\n",
       "      <td>5.0</td>\n",
       "      <td>0.0</td>\n",
       "      <td>0.0</td>\n",
       "      <td>5.0</td>\n",
       "      <td>0.0</td>\n",
       "      <td>0.0</td>\n",
       "      <td>0.0</td>\n",
       "      <td>3</td>\n",
       "    </tr>\n",
       "    <tr>\n",
       "      <th>4</th>\n",
       "      <td>BAJA CALIFORNIA SUR</td>\n",
       "      <td>-109.89657</td>\n",
       "      <td>22.87694</td>\n",
       "      <td>0.0</td>\n",
       "      <td>0.0</td>\n",
       "      <td>5.0</td>\n",
       "      <td>0.0</td>\n",
       "      <td>0.0</td>\n",
       "      <td>5.0</td>\n",
       "      <td>0.0</td>\n",
       "      <td>0.0</td>\n",
       "      <td>0.0</td>\n",
       "      <td>3</td>\n",
       "    </tr>\n",
       "    <tr>\n",
       "      <th>...</th>\n",
       "      <td>...</td>\n",
       "      <td>...</td>\n",
       "      <td>...</td>\n",
       "      <td>...</td>\n",
       "      <td>...</td>\n",
       "      <td>...</td>\n",
       "      <td>...</td>\n",
       "      <td>...</td>\n",
       "      <td>...</td>\n",
       "      <td>...</td>\n",
       "      <td>...</td>\n",
       "      <td>...</td>\n",
       "      <td>...</td>\n",
       "    </tr>\n",
       "    <tr>\n",
       "      <th>3488</th>\n",
       "      <td>TAMAULIPAS</td>\n",
       "      <td>-99.42142</td>\n",
       "      <td>26.78971</td>\n",
       "      <td>5.0</td>\n",
       "      <td>5.0</td>\n",
       "      <td>3.0</td>\n",
       "      <td>2.0</td>\n",
       "      <td>1.0</td>\n",
       "      <td>0.0</td>\n",
       "      <td>4.0</td>\n",
       "      <td>4.0</td>\n",
       "      <td>4.0</td>\n",
       "      <td>2</td>\n",
       "    </tr>\n",
       "    <tr>\n",
       "      <th>3489</th>\n",
       "      <td>TAMAULIPAS</td>\n",
       "      <td>-99.53064</td>\n",
       "      <td>27.43714</td>\n",
       "      <td>2.0</td>\n",
       "      <td>2.0</td>\n",
       "      <td>4.0</td>\n",
       "      <td>2.0</td>\n",
       "      <td>5.0</td>\n",
       "      <td>0.0</td>\n",
       "      <td>0.0</td>\n",
       "      <td>0.0</td>\n",
       "      <td>0.0</td>\n",
       "      <td>1</td>\n",
       "    </tr>\n",
       "    <tr>\n",
       "      <th>3490</th>\n",
       "      <td>TAMAULIPAS</td>\n",
       "      <td>-99.50727</td>\n",
       "      <td>27.49901</td>\n",
       "      <td>4.0</td>\n",
       "      <td>2.0</td>\n",
       "      <td>4.0</td>\n",
       "      <td>3.0</td>\n",
       "      <td>5.0</td>\n",
       "      <td>0.0</td>\n",
       "      <td>5.0</td>\n",
       "      <td>4.0</td>\n",
       "      <td>4.0</td>\n",
       "      <td>1</td>\n",
       "    </tr>\n",
       "    <tr>\n",
       "      <th>3491</th>\n",
       "      <td>TAMAULIPAS</td>\n",
       "      <td>-99.52221</td>\n",
       "      <td>27.49631</td>\n",
       "      <td>5.0</td>\n",
       "      <td>3.0</td>\n",
       "      <td>4.0</td>\n",
       "      <td>2.0</td>\n",
       "      <td>5.0</td>\n",
       "      <td>0.0</td>\n",
       "      <td>5.0</td>\n",
       "      <td>4.0</td>\n",
       "      <td>4.0</td>\n",
       "      <td>2</td>\n",
       "    </tr>\n",
       "    <tr>\n",
       "      <th>3492</th>\n",
       "      <td>TAMAULIPAS</td>\n",
       "      <td>-99.52572</td>\n",
       "      <td>27.51697</td>\n",
       "      <td>5.0</td>\n",
       "      <td>3.0</td>\n",
       "      <td>4.0</td>\n",
       "      <td>2.0</td>\n",
       "      <td>5.0</td>\n",
       "      <td>0.0</td>\n",
       "      <td>5.0</td>\n",
       "      <td>4.0</td>\n",
       "      <td>4.0</td>\n",
       "      <td>2</td>\n",
       "    </tr>\n",
       "  </tbody>\n",
       "</table>\n",
       "<p>3493 rows × 13 columns</p>\n",
       "</div>"
      ],
      "text/plain": [
       "                   ESTADO   LONGITUD   LATITUD  CALIDAD_DBO  CALIDAD_DQO  \\\n",
       "0          AGUASCALIENTES -102.33911  22.24730          4.0          2.0   \n",
       "1     BAJA CALIFORNIA SUR -109.84290  22.90473          0.0          0.0   \n",
       "2     BAJA CALIFORNIA SUR -109.86442  22.89880          0.0          0.0   \n",
       "3     BAJA CALIFORNIA SUR -109.88604  22.89609          0.0          0.0   \n",
       "4     BAJA CALIFORNIA SUR -109.89657  22.87694          0.0          0.0   \n",
       "...                   ...        ...       ...          ...          ...   \n",
       "3488           TAMAULIPAS  -99.42142  26.78971          5.0          5.0   \n",
       "3489           TAMAULIPAS  -99.53064  27.43714          2.0          2.0   \n",
       "3490           TAMAULIPAS  -99.50727  27.49901          4.0          2.0   \n",
       "3491           TAMAULIPAS  -99.52221  27.49631          5.0          3.0   \n",
       "3492           TAMAULIPAS  -99.52572  27.51697          5.0          3.0   \n",
       "\n",
       "      CALIDAD_SST  CALIDAD_COLI_FEC  CALIDAD_E_COLI  CALIDAD_ENTEROC  \\\n",
       "0             5.0               2.0             5.0              0.0   \n",
       "1             5.0               0.0             0.0              5.0   \n",
       "2             5.0               0.0             0.0              5.0   \n",
       "3             5.0               0.0             0.0              5.0   \n",
       "4             5.0               0.0             0.0              5.0   \n",
       "...           ...               ...             ...              ...   \n",
       "3488          3.0               2.0             1.0              0.0   \n",
       "3489          4.0               2.0             5.0              0.0   \n",
       "3490          4.0               3.0             5.0              0.0   \n",
       "3491          4.0               2.0             5.0              0.0   \n",
       "3492          4.0               2.0             5.0              0.0   \n",
       "\n",
       "      CALIDAD_OD_PORC  CALIDAD_TOX_D_48  CALIDAD_TOX_V_15  SEMAFORO  \n",
       "0                 0.0               0.0               0.0         1  \n",
       "1                 0.0               0.0               0.0         3  \n",
       "2                 0.0               0.0               0.0         3  \n",
       "3                 0.0               0.0               0.0         3  \n",
       "4                 0.0               0.0               0.0         3  \n",
       "...               ...               ...               ...       ...  \n",
       "3488              4.0               4.0               4.0         2  \n",
       "3489              0.0               0.0               0.0         1  \n",
       "3490              5.0               4.0               4.0         1  \n",
       "3491              5.0               4.0               4.0         2  \n",
       "3492              5.0               4.0               4.0         2  \n",
       "\n",
       "[3493 rows x 13 columns]"
      ]
     },
     "execution_count": 15,
     "metadata": {},
     "output_type": "execute_result"
    }
   ],
   "source": [
    "df_sup"
   ]
  },
  {
   "cell_type": "code",
   "execution_count": 16,
   "metadata": {
    "id": "zuBxYSC5j1sD"
   },
   "outputs": [],
   "source": [
    "from sklearn.ensemble import RandomForestClassifier, AdaBoostClassifier\n",
    "from sklearn.model_selection import train_test_split\n",
    "from sklearn.model_selection import cross_validate, RepeatedStratifiedKFold\n",
    "from sklearn.pipeline import Pipeline\n",
    "from sklearn.model_selection import learning_curve, validation_curve\n",
    "from sklearn.tree import DecisionTreeClassifier\n"
   ]
  },
  {
   "cell_type": "code",
   "execution_count": 17,
   "metadata": {
    "id": "o5a1cVU7kNM0"
   },
   "outputs": [],
   "source": [
    "# Split data\n",
    "X = df_sup.iloc[:,1:-1]\n",
    "y = df_sup.iloc[:,-1]\n",
    "X_train, X_test, y_train, y_test = train_test_split(X, y, test_size=0.2, random_state=42)"
   ]
  },
  {
   "cell_type": "code",
   "execution_count": 18,
   "metadata": {
    "colab": {
     "base_uri": "https://localhost:8080/",
     "height": 487
    },
    "id": "hAoo78zg4GcM",
    "outputId": "d0ac05c7-5d03-483e-913f-b01ece91a6fb"
   },
   "outputs": [
    {
     "data": {
      "text/html": [
       "<div>\n",
       "<style scoped>\n",
       "    .dataframe tbody tr th:only-of-type {\n",
       "        vertical-align: middle;\n",
       "    }\n",
       "\n",
       "    .dataframe tbody tr th {\n",
       "        vertical-align: top;\n",
       "    }\n",
       "\n",
       "    .dataframe thead th {\n",
       "        text-align: right;\n",
       "    }\n",
       "</style>\n",
       "<table border=\"1\" class=\"dataframe\">\n",
       "  <thead>\n",
       "    <tr style=\"text-align: right;\">\n",
       "      <th></th>\n",
       "      <th>LONGITUD</th>\n",
       "      <th>LATITUD</th>\n",
       "      <th>CALIDAD_DBO</th>\n",
       "      <th>CALIDAD_DQO</th>\n",
       "      <th>CALIDAD_SST</th>\n",
       "      <th>CALIDAD_COLI_FEC</th>\n",
       "      <th>CALIDAD_E_COLI</th>\n",
       "      <th>CALIDAD_ENTEROC</th>\n",
       "      <th>CALIDAD_OD_PORC</th>\n",
       "      <th>CALIDAD_TOX_D_48</th>\n",
       "      <th>CALIDAD_TOX_V_15</th>\n",
       "    </tr>\n",
       "  </thead>\n",
       "  <tbody>\n",
       "    <tr>\n",
       "      <th>0</th>\n",
       "      <td>-102.33911</td>\n",
       "      <td>22.24730</td>\n",
       "      <td>4.0</td>\n",
       "      <td>2.0</td>\n",
       "      <td>5.0</td>\n",
       "      <td>2.0</td>\n",
       "      <td>5.0</td>\n",
       "      <td>0.0</td>\n",
       "      <td>0.0</td>\n",
       "      <td>0.0</td>\n",
       "      <td>0.0</td>\n",
       "    </tr>\n",
       "    <tr>\n",
       "      <th>1</th>\n",
       "      <td>-109.84290</td>\n",
       "      <td>22.90473</td>\n",
       "      <td>0.0</td>\n",
       "      <td>0.0</td>\n",
       "      <td>5.0</td>\n",
       "      <td>0.0</td>\n",
       "      <td>0.0</td>\n",
       "      <td>5.0</td>\n",
       "      <td>0.0</td>\n",
       "      <td>0.0</td>\n",
       "      <td>0.0</td>\n",
       "    </tr>\n",
       "    <tr>\n",
       "      <th>2</th>\n",
       "      <td>-109.86442</td>\n",
       "      <td>22.89880</td>\n",
       "      <td>0.0</td>\n",
       "      <td>0.0</td>\n",
       "      <td>5.0</td>\n",
       "      <td>0.0</td>\n",
       "      <td>0.0</td>\n",
       "      <td>5.0</td>\n",
       "      <td>0.0</td>\n",
       "      <td>0.0</td>\n",
       "      <td>0.0</td>\n",
       "    </tr>\n",
       "    <tr>\n",
       "      <th>3</th>\n",
       "      <td>-109.88604</td>\n",
       "      <td>22.89609</td>\n",
       "      <td>0.0</td>\n",
       "      <td>0.0</td>\n",
       "      <td>5.0</td>\n",
       "      <td>0.0</td>\n",
       "      <td>0.0</td>\n",
       "      <td>5.0</td>\n",
       "      <td>0.0</td>\n",
       "      <td>0.0</td>\n",
       "      <td>0.0</td>\n",
       "    </tr>\n",
       "    <tr>\n",
       "      <th>4</th>\n",
       "      <td>-109.89657</td>\n",
       "      <td>22.87694</td>\n",
       "      <td>0.0</td>\n",
       "      <td>0.0</td>\n",
       "      <td>5.0</td>\n",
       "      <td>0.0</td>\n",
       "      <td>0.0</td>\n",
       "      <td>5.0</td>\n",
       "      <td>0.0</td>\n",
       "      <td>0.0</td>\n",
       "      <td>0.0</td>\n",
       "    </tr>\n",
       "    <tr>\n",
       "      <th>...</th>\n",
       "      <td>...</td>\n",
       "      <td>...</td>\n",
       "      <td>...</td>\n",
       "      <td>...</td>\n",
       "      <td>...</td>\n",
       "      <td>...</td>\n",
       "      <td>...</td>\n",
       "      <td>...</td>\n",
       "      <td>...</td>\n",
       "      <td>...</td>\n",
       "      <td>...</td>\n",
       "    </tr>\n",
       "    <tr>\n",
       "      <th>3488</th>\n",
       "      <td>-99.42142</td>\n",
       "      <td>26.78971</td>\n",
       "      <td>5.0</td>\n",
       "      <td>5.0</td>\n",
       "      <td>3.0</td>\n",
       "      <td>2.0</td>\n",
       "      <td>1.0</td>\n",
       "      <td>0.0</td>\n",
       "      <td>4.0</td>\n",
       "      <td>4.0</td>\n",
       "      <td>4.0</td>\n",
       "    </tr>\n",
       "    <tr>\n",
       "      <th>3489</th>\n",
       "      <td>-99.53064</td>\n",
       "      <td>27.43714</td>\n",
       "      <td>2.0</td>\n",
       "      <td>2.0</td>\n",
       "      <td>4.0</td>\n",
       "      <td>2.0</td>\n",
       "      <td>5.0</td>\n",
       "      <td>0.0</td>\n",
       "      <td>0.0</td>\n",
       "      <td>0.0</td>\n",
       "      <td>0.0</td>\n",
       "    </tr>\n",
       "    <tr>\n",
       "      <th>3490</th>\n",
       "      <td>-99.50727</td>\n",
       "      <td>27.49901</td>\n",
       "      <td>4.0</td>\n",
       "      <td>2.0</td>\n",
       "      <td>4.0</td>\n",
       "      <td>3.0</td>\n",
       "      <td>5.0</td>\n",
       "      <td>0.0</td>\n",
       "      <td>5.0</td>\n",
       "      <td>4.0</td>\n",
       "      <td>4.0</td>\n",
       "    </tr>\n",
       "    <tr>\n",
       "      <th>3491</th>\n",
       "      <td>-99.52221</td>\n",
       "      <td>27.49631</td>\n",
       "      <td>5.0</td>\n",
       "      <td>3.0</td>\n",
       "      <td>4.0</td>\n",
       "      <td>2.0</td>\n",
       "      <td>5.0</td>\n",
       "      <td>0.0</td>\n",
       "      <td>5.0</td>\n",
       "      <td>4.0</td>\n",
       "      <td>4.0</td>\n",
       "    </tr>\n",
       "    <tr>\n",
       "      <th>3492</th>\n",
       "      <td>-99.52572</td>\n",
       "      <td>27.51697</td>\n",
       "      <td>5.0</td>\n",
       "      <td>3.0</td>\n",
       "      <td>4.0</td>\n",
       "      <td>2.0</td>\n",
       "      <td>5.0</td>\n",
       "      <td>0.0</td>\n",
       "      <td>5.0</td>\n",
       "      <td>4.0</td>\n",
       "      <td>4.0</td>\n",
       "    </tr>\n",
       "  </tbody>\n",
       "</table>\n",
       "<p>3493 rows × 11 columns</p>\n",
       "</div>"
      ],
      "text/plain": [
       "       LONGITUD   LATITUD  CALIDAD_DBO  CALIDAD_DQO  CALIDAD_SST  \\\n",
       "0    -102.33911  22.24730          4.0          2.0          5.0   \n",
       "1    -109.84290  22.90473          0.0          0.0          5.0   \n",
       "2    -109.86442  22.89880          0.0          0.0          5.0   \n",
       "3    -109.88604  22.89609          0.0          0.0          5.0   \n",
       "4    -109.89657  22.87694          0.0          0.0          5.0   \n",
       "...         ...       ...          ...          ...          ...   \n",
       "3488  -99.42142  26.78971          5.0          5.0          3.0   \n",
       "3489  -99.53064  27.43714          2.0          2.0          4.0   \n",
       "3490  -99.50727  27.49901          4.0          2.0          4.0   \n",
       "3491  -99.52221  27.49631          5.0          3.0          4.0   \n",
       "3492  -99.52572  27.51697          5.0          3.0          4.0   \n",
       "\n",
       "      CALIDAD_COLI_FEC  CALIDAD_E_COLI  CALIDAD_ENTEROC  CALIDAD_OD_PORC  \\\n",
       "0                  2.0             5.0              0.0              0.0   \n",
       "1                  0.0             0.0              5.0              0.0   \n",
       "2                  0.0             0.0              5.0              0.0   \n",
       "3                  0.0             0.0              5.0              0.0   \n",
       "4                  0.0             0.0              5.0              0.0   \n",
       "...                ...             ...              ...              ...   \n",
       "3488               2.0             1.0              0.0              4.0   \n",
       "3489               2.0             5.0              0.0              0.0   \n",
       "3490               3.0             5.0              0.0              5.0   \n",
       "3491               2.0             5.0              0.0              5.0   \n",
       "3492               2.0             5.0              0.0              5.0   \n",
       "\n",
       "      CALIDAD_TOX_D_48  CALIDAD_TOX_V_15  \n",
       "0                  0.0               0.0  \n",
       "1                  0.0               0.0  \n",
       "2                  0.0               0.0  \n",
       "3                  0.0               0.0  \n",
       "4                  0.0               0.0  \n",
       "...                ...               ...  \n",
       "3488               4.0               4.0  \n",
       "3489               0.0               0.0  \n",
       "3490               4.0               4.0  \n",
       "3491               4.0               4.0  \n",
       "3492               4.0               4.0  \n",
       "\n",
       "[3493 rows x 11 columns]"
      ]
     },
     "execution_count": 18,
     "metadata": {},
     "output_type": "execute_result"
    }
   ],
   "source": [
    "X"
   ]
  },
  {
   "cell_type": "code",
   "execution_count": 19,
   "metadata": {
    "colab": {
     "base_uri": "https://localhost:8080/"
    },
    "id": "MA1wxZsxkyuG",
    "outputId": "e84f862f-1c96-4d88-c2a7-aee28e5031a0"
   },
   "outputs": [
    {
     "data": {
      "text/plain": [
       "RandomForestClassifier(max_leaf_nodes=25, n_estimators=500, n_jobs=-1)"
      ]
     },
     "execution_count": 19,
     "metadata": {},
     "output_type": "execute_result"
    }
   ],
   "source": [
    "classifierRF = RandomForestClassifier(n_estimators=500, max_leaf_nodes=25, n_jobs=-1)\n",
    "classifierRF.fit(X_train, y_train)"
   ]
  },
  {
   "cell_type": "markdown",
   "metadata": {
    "id": "s-4uzJ58neMk"
   },
   "source": [
    "# Feature Importance"
   ]
  },
  {
   "cell_type": "code",
   "execution_count": 20,
   "metadata": {
    "colab": {
     "base_uri": "https://localhost:8080/"
    },
    "id": "VYpKzwCdlhrJ",
    "outputId": "b2bf2786-6f42-423c-94cb-c461f9638027"
   },
   "outputs": [
    {
     "name": "stdout",
     "output_type": "stream",
     "text": [
      "LONGITUD             ->  1.956\n",
      "LATITUD              ->  1.739\n",
      "CALIDAD_DBO          ->  8.725\n",
      "CALIDAD_DQO          -> 36.669\n",
      "CALIDAD_SST          ->  1.556\n",
      "CALIDAD_COLI_FEC     -> 21.035\n",
      "CALIDAD_E_COLI       ->  7.880\n",
      "CALIDAD_ENTEROC      -> 14.933\n",
      "CALIDAD_OD_PORC      ->  2.347\n",
      "CALIDAD_TOX_D_48     ->  1.049\n",
      "CALIDAD_TOX_V_15     ->  2.112\n"
     ]
    }
   ],
   "source": [
    "featureImportances = {}\n",
    "for name, score in zip(df_sup.columns[1:-1], classifierRF.feature_importances_):\n",
    "  featureImportances[name] = score\n",
    "  print('{0:20s} -> {1:6.3f}'.format(name, score*100))"
   ]
  },
  {
   "cell_type": "code",
   "execution_count": 21,
   "metadata": {},
   "outputs": [
    {
     "data": {
      "text/html": [
       "<div>\n",
       "<style scoped>\n",
       "    .dataframe tbody tr th:only-of-type {\n",
       "        vertical-align: middle;\n",
       "    }\n",
       "\n",
       "    .dataframe tbody tr th {\n",
       "        vertical-align: top;\n",
       "    }\n",
       "\n",
       "    .dataframe thead th {\n",
       "        text-align: right;\n",
       "    }\n",
       "</style>\n",
       "<table border=\"1\" class=\"dataframe\">\n",
       "  <thead>\n",
       "    <tr style=\"text-align: right;\">\n",
       "      <th></th>\n",
       "      <th>0</th>\n",
       "    </tr>\n",
       "  </thead>\n",
       "  <tbody>\n",
       "    <tr>\n",
       "      <th>LONGITUD</th>\n",
       "      <td>0.019565</td>\n",
       "    </tr>\n",
       "    <tr>\n",
       "      <th>LATITUD</th>\n",
       "      <td>0.017388</td>\n",
       "    </tr>\n",
       "    <tr>\n",
       "      <th>CALIDAD_DBO</th>\n",
       "      <td>0.087248</td>\n",
       "    </tr>\n",
       "    <tr>\n",
       "      <th>CALIDAD_DQO</th>\n",
       "      <td>0.366691</td>\n",
       "    </tr>\n",
       "    <tr>\n",
       "      <th>CALIDAD_SST</th>\n",
       "      <td>0.015556</td>\n",
       "    </tr>\n",
       "    <tr>\n",
       "      <th>CALIDAD_COLI_FEC</th>\n",
       "      <td>0.210346</td>\n",
       "    </tr>\n",
       "    <tr>\n",
       "      <th>CALIDAD_E_COLI</th>\n",
       "      <td>0.078802</td>\n",
       "    </tr>\n",
       "    <tr>\n",
       "      <th>CALIDAD_ENTEROC</th>\n",
       "      <td>0.149329</td>\n",
       "    </tr>\n",
       "    <tr>\n",
       "      <th>CALIDAD_OD_PORC</th>\n",
       "      <td>0.023471</td>\n",
       "    </tr>\n",
       "    <tr>\n",
       "      <th>CALIDAD_TOX_D_48</th>\n",
       "      <td>0.010487</td>\n",
       "    </tr>\n",
       "    <tr>\n",
       "      <th>CALIDAD_TOX_V_15</th>\n",
       "      <td>0.021117</td>\n",
       "    </tr>\n",
       "  </tbody>\n",
       "</table>\n",
       "</div>"
      ],
      "text/plain": [
       "                         0\n",
       "LONGITUD          0.019565\n",
       "LATITUD           0.017388\n",
       "CALIDAD_DBO       0.087248\n",
       "CALIDAD_DQO       0.366691\n",
       "CALIDAD_SST       0.015556\n",
       "CALIDAD_COLI_FEC  0.210346\n",
       "CALIDAD_E_COLI    0.078802\n",
       "CALIDAD_ENTEROC   0.149329\n",
       "CALIDAD_OD_PORC   0.023471\n",
       "CALIDAD_TOX_D_48  0.010487\n",
       "CALIDAD_TOX_V_15  0.021117"
      ]
     },
     "execution_count": 21,
     "metadata": {},
     "output_type": "execute_result"
    }
   ],
   "source": [
    "_ = pd.DataFrame(featureImportances, index=[0]).T\n",
    "_"
   ]
  },
  {
   "cell_type": "code",
   "execution_count": 22,
   "metadata": {
    "colab": {
     "base_uri": "https://localhost:8080/",
     "height": 606
    },
    "id": "b3pnnlvqoQl1",
    "outputId": "c44c1b32-2d03-4f14-e34f-85931383431c"
   },
   "outputs": [
    {
     "name": "stderr",
     "output_type": "stream",
     "text": [
      "C:\\Users\\josia\\AppData\\Local\\Temp\\ipykernel_26600\\160055749.py:18: UserWarning: FixedFormatter should only be used together with FixedLocator\n",
      "  ax.set_xticklabels(_.index, rotation = 45)\n"
     ]
    },
    {
     "data": {
      "image/png": "[encoded data removed]",
      "text/plain": [
       "<Figure size 1600x900 with 2 Axes>"
      ]
     },
     "metadata": {},
     "output_type": "display_data"
    }
   ],
   "source": [
    "import pandas as pd\n",
    "import matplotlib.pyplot as plt\n",
    "from matplotlib.ticker import PercentFormatter\n",
    "\n",
    "_.rename(columns={0:'Importancia'}, inplace=True)\n",
    "_ = _.sort_values(by='Importancia',ascending=False)\n",
    "_[\"Importancia_porcentaje\"] = _[\"Importancia\"].cumsum()/_[\"Importancia\"].sum()*100\n",
    "\n",
    "\n",
    "fig, ax = plt.subplots(figsize=(16,9))\n",
    "ax.bar(_.index, _[\"Importancia\"], color=\"C0\")\n",
    "ax2 = ax.twinx()\n",
    "ax2.plot(_.index, _[\"Importancia_porcentaje\"], color=\"C1\", marker=\"D\", ms=7)\n",
    "ax2.yaxis.set_major_formatter(PercentFormatter())\n",
    "\n",
    "ax.tick_params(axis=\"y\", colors=\"C0\")\n",
    "ax2.tick_params(axis=\"y\", colors=\"C1\")\n",
    "ax.set_xticklabels(_.index, rotation = 45)\n",
    "plt.show()\n"
   ]
  },
  {
   "cell_type": "code",
   "execution_count": 23,
   "metadata": {},
   "outputs": [
    {
     "data": {
      "text/html": [
       "<div>\n",
       "<style scoped>\n",
       "    .dataframe tbody tr th:only-of-type {\n",
       "        vertical-align: middle;\n",
       "    }\n",
       "\n",
       "    .dataframe tbody tr th {\n",
       "        vertical-align: top;\n",
       "    }\n",
       "\n",
       "    .dataframe thead th {\n",
       "        text-align: right;\n",
       "    }\n",
       "</style>\n",
       "<table border=\"1\" class=\"dataframe\">\n",
       "  <thead>\n",
       "    <tr style=\"text-align: right;\">\n",
       "      <th></th>\n",
       "      <th>Importancia</th>\n",
       "      <th>Importancia_porcentaje</th>\n",
       "    </tr>\n",
       "  </thead>\n",
       "  <tbody>\n",
       "    <tr>\n",
       "      <th>CALIDAD_DQO</th>\n",
       "      <td>0.366691</td>\n",
       "      <td>36.669089</td>\n",
       "    </tr>\n",
       "    <tr>\n",
       "      <th>CALIDAD_COLI_FEC</th>\n",
       "      <td>0.210346</td>\n",
       "      <td>57.703718</td>\n",
       "    </tr>\n",
       "    <tr>\n",
       "      <th>CALIDAD_ENTEROC</th>\n",
       "      <td>0.149329</td>\n",
       "      <td>72.636613</td>\n",
       "    </tr>\n",
       "    <tr>\n",
       "      <th>CALIDAD_DBO</th>\n",
       "      <td>0.087248</td>\n",
       "      <td>81.361423</td>\n",
       "    </tr>\n",
       "    <tr>\n",
       "      <th>CALIDAD_E_COLI</th>\n",
       "      <td>0.078802</td>\n",
       "      <td>89.241665</td>\n",
       "    </tr>\n",
       "    <tr>\n",
       "      <th>CALIDAD_OD_PORC</th>\n",
       "      <td>0.023471</td>\n",
       "      <td>91.588760</td>\n",
       "    </tr>\n",
       "    <tr>\n",
       "      <th>CALIDAD_TOX_V_15</th>\n",
       "      <td>0.021117</td>\n",
       "      <td>93.700423</td>\n",
       "    </tr>\n",
       "    <tr>\n",
       "      <th>LONGITUD</th>\n",
       "      <td>0.019565</td>\n",
       "      <td>95.656891</td>\n",
       "    </tr>\n",
       "    <tr>\n",
       "      <th>LATITUD</th>\n",
       "      <td>0.017388</td>\n",
       "      <td>97.395706</td>\n",
       "    </tr>\n",
       "    <tr>\n",
       "      <th>CALIDAD_SST</th>\n",
       "      <td>0.015556</td>\n",
       "      <td>98.951301</td>\n",
       "    </tr>\n",
       "    <tr>\n",
       "      <th>CALIDAD_TOX_D_48</th>\n",
       "      <td>0.010487</td>\n",
       "      <td>100.000000</td>\n",
       "    </tr>\n",
       "  </tbody>\n",
       "</table>\n",
       "</div>"
      ],
      "text/plain": [
       "                  Importancia  Importancia_porcentaje\n",
       "CALIDAD_DQO          0.366691               36.669089\n",
       "CALIDAD_COLI_FEC     0.210346               57.703718\n",
       "CALIDAD_ENTEROC      0.149329               72.636613\n",
       "CALIDAD_DBO          0.087248               81.361423\n",
       "CALIDAD_E_COLI       0.078802               89.241665\n",
       "CALIDAD_OD_PORC      0.023471               91.588760\n",
       "CALIDAD_TOX_V_15     0.021117               93.700423\n",
       "LONGITUD             0.019565               95.656891\n",
       "LATITUD              0.017388               97.395706\n",
       "CALIDAD_SST          0.015556               98.951301\n",
       "CALIDAD_TOX_D_48     0.010487              100.000000"
      ]
     },
     "execution_count": 23,
     "metadata": {},
     "output_type": "execute_result"
    }
   ],
   "source": [
    "_"
   ]
  },
  {
   "cell_type": "code",
   "execution_count": 24,
   "metadata": {
    "id": "S8Z9Vy0TqAm8"
   },
   "outputs": [
    {
     "data": {
      "text/plain": [
       "['CALIDAD_DQO',\n",
       " 'CALIDAD_COLI_FEC',\n",
       " 'CALIDAD_ENTEROC',\n",
       " 'CALIDAD_DBO',\n",
       " 'CALIDAD_E_COLI',\n",
       " 'CALIDAD_OD_PORC',\n",
       " 'CALIDAD_TOX_V_15']"
      ]
     },
     "execution_count": 24,
     "metadata": {},
     "output_type": "execute_result"
    }
   ],
   "source": [
    "# nos quedamos sólo con 11 de 15 propiedades\n",
    "mostImportantFeatures = []\n",
    "\n",
    "for i in range(len(_)):\n",
    "    vrow=_.iloc[i]['Importancia_porcentaje']\n",
    "    if vrow<95: \n",
    "        mostImportantFeatures.append(_.iloc[i].name)\n",
    "mostImportantFeatures"
   ]
  },
  {
   "cell_type": "markdown",
   "metadata": {},
   "source": [
    "# Model Scoring"
   ]
  },
  {
   "cell_type": "code",
   "execution_count": 25,
   "metadata": {
    "id": "ojkwWeTosy0m"
   },
   "outputs": [],
   "source": [
    "def mi_LearningCurvePlot(train_sizes, train_scores, val_scores, titulo, etiquetaX, etiquetaY):\n",
    "\n",
    "    train_mean = np.mean(train_scores, axis=1)\n",
    "    train_std = np.std(train_scores, axis=1)\n",
    "    val_mean = np.mean(val_scores, axis=1)\n",
    "    val_std = np.std(val_scores, axis=1)\n",
    "\n",
    "    plt.figure(figsize=(7,6))\n",
    "    plt.plot(train_sizes, train_mean, color='blue', marker='o', markersize=5, label='Training')\n",
    "    plt.fill_between(train_sizes, train_mean + train_std, train_mean - train_std, alpha=0.1, color='blue')\n",
    "    \n",
    "    plt.plot(train_sizes, val_mean, color='red', marker='+', markersize=5, linestyle='--', label='Validation')\n",
    "    plt.fill_between(train_sizes, val_mean + val_std, val_mean - val_std, alpha=0.1, color='red')\n",
    "    \n",
    "    plt.title(titulo)\n",
    "    plt.xlabel(etiquetaX)\n",
    "    plt.ylabel(etiquetaY)\n",
    "    plt.grid()\n",
    "    plt.legend(loc='lower left')\n",
    "    plt.show()"
   ]
  },
  {
   "cell_type": "code",
   "execution_count": 26,
   "metadata": {},
   "outputs": [],
   "source": [
    "# Split de información con los features más importantes\n",
    "df_sub2 = df_sup[mostImportantFeatures+['SEMAFORO']]\n",
    "X = df_sub2.iloc[:,:-1]\n",
    "y = df_sub2.iloc[:,-1]\n",
    "X_train, X_test, y_train, y_test = train_test_split(X, y, test_size=0.20, random_state=42)\n",
    "\n",
    "kfold = RepeatedStratifiedKFold(n_splits=5, n_repeats=3)"
   ]
  },
  {
   "cell_type": "code",
   "execution_count": 27,
   "metadata": {
    "colab": {
     "base_uri": "https://localhost:8080/"
    },
    "id": "2Oh6DethrNBe",
    "outputId": "49b4994c-3141-4fb3-9b4e-fe451c846792"
   },
   "outputs": [
    {
     "data": {
      "image/png": "[encoded data removed]",
      "text/plain": [
       "<Figure size 700x600 with 1 Axes>"
      ]
     },
     "metadata": {},
     "output_type": "display_data"
    }
   ],
   "source": [
    "#Model Random Forest\n",
    "pipeline = Pipeline(steps=[('rf', classifierRF)])\n",
    "delta_train_sz = np.linspace(0.1, 1.0, num=15, endpoint=True, retstep=False, dtype=None, axis=0)\n",
    "\n",
    "tr_sizes, tr_scores, val_scores = learning_curve(estimator = pipeline,    \n",
    "                                                X = X_train,\n",
    "                                                y = y_train,\n",
    "                                                cv = kfold,\n",
    "                                                train_sizes = delta_train_sz,\n",
    "                                                random_state=42)\n",
    "mi_LearningCurvePlot(tr_sizes, tr_scores, val_scores, 'Random Forest - Curvas de aprendizaje', 'Datos', 'Precisión')"
   ]
  },
  {
   "cell_type": "code",
   "execution_count": 28,
   "metadata": {
    "colab": {
     "base_uri": "https://localhost:8080/"
    },
    "id": "O8O5KHPGvflf",
    "outputId": "1d97f0b8-c30f-4529-f7fd-c36a5a9d2200"
   },
   "outputs": [
    {
     "data": {
      "image/png": "[encoded data removed]",
      "text/plain": [
       "<Figure size 700x600 with 1 Axes>"
      ]
     },
     "metadata": {},
     "output_type": "display_data"
    }
   ],
   "source": [
    "#Model Decision Tree\n",
    "\n",
    "classifierDT = DecisionTreeClassifier(max_leaf_nodes=25)\n",
    "pipeline2 = Pipeline(steps=[('dt', classifierDT)])\n",
    "\n",
    "delta_train_sz = np.linspace(0.1, 1.0, num=15, endpoint=True, retstep=False, dtype=None, axis=0)\n",
    "tr_sizes, tr_scores, val_scores = learning_curve(estimator = pipeline2,    \n",
    "                                                X = X_train,\n",
    "                                                y = y_train,\n",
    "                                                cv = kfold,\n",
    "                                                train_sizes = delta_train_sz,\n",
    "                                                random_state=42)\n",
    "mi_LearningCurvePlot(tr_sizes, tr_scores, val_scores, 'DecisionTree - Curvas de aprendizaje', 'Datos', 'Precisión')"
   ]
  }
 ],
 "metadata": {
  "colab": {
   "provenance": []
  },
  "kernelspec": {
   "display_name": "Python 3 (ipykernel)",
   "language": "python",
   "name": "python3"
  },
  "language_info": {
   "codemirror_mode": {
    "name": "ipython",
    "version": 3
   },
   "file_extension": ".py",
   "mimetype": "text/x-python",
   "name": "python",
   "nbconvert_exporter": "python",
   "pygments_lexer": "ipython3",
   "version": "3.9.13"
  }
 },
 "nbformat": 4,
 "nbformat_minor": 1
}
