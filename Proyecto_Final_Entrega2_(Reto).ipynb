{
  "nbformat": 4,
  "nbformat_minor": 0,
  "metadata": {
    "colab": {
      "provenance": [],
      "authorship_tag": "ABX9TyMvhLTsE56XWA2yUa1f9WrS",
      "include_colab_link": true
    },
    "kernelspec": {
      "name": "python3",
      "display_name": "Python 3"
    },
    "language_info": {
      "name": "python"
    }
  },
  "cells": [
    {
      "cell_type": "markdown",
      "metadata": {
        "id": "view-in-github",
        "colab_type": "text"
      },
      "source": [
        "<a href=\"https://colab.research.google.com/github/PosgradoMNA/actividades-del-projecto-equipo_114/blob/main/Proyecto_Final_Entrega2_(Reto).ipynb\" target=\"_parent\"><img src=\"https://colab.research.google.com/assets/colab-badge.svg\" alt=\"Open In Colab\"/></a>"
      ]
    },
    {
      "cell_type": "markdown",
      "source": [],
      "metadata": {
        "id": "27P_1QlhUEbm"
      }
    },
    {
      "cell_type": "markdown",
      "source": [
        "# Ciencia y analítica de datos\n",
        "# Alumnos:\n",
        "# Javier Granados - A00566717\n",
        "# Josías Ruiz - A00968460\n",
        "# Profesor:\n",
        "# María de la Paz Rico Fernández\n",
        "# Entrega:\n",
        "# Reto-> Entrega 1 (16/11) -> Limpieza, análisis, visualización y kmeans\n",
        "# Fecha:\n",
        "# 16/11/2022"
      ],
      "metadata": {
        "id": "ivVpIW2hUEcf"
      }
    },
    {
      "cell_type": "code",
      "source": [
        "pip install geopandas"
      ],
      "metadata": {
        "colab": {
          "base_uri": "https://localhost:8080/"
        },
        "id": "fqw-fUOYULF5",
        "outputId": "0a215b98-fad1-42ff-e89e-946a539fad21"
      },
      "execution_count": 198,
      "outputs": [
        {
          "output_type": "stream",
          "name": "stdout",
          "text": [
            "Looking in indexes: https://pypi.org/simple, https://us-python.pkg.dev/colab-wheels/public/simple/\n",
            "Requirement already satisfied: geopandas in /usr/local/lib/python3.7/dist-packages (0.10.2)\n",
            "Requirement already satisfied: shapely>=1.6 in /usr/local/lib/python3.7/dist-packages (from geopandas) (1.8.5.post1)\n",
            "Requirement already satisfied: pandas>=0.25.0 in /usr/local/lib/python3.7/dist-packages (from geopandas) (1.3.5)\n",
            "Requirement already satisfied: fiona>=1.8 in /usr/local/lib/python3.7/dist-packages (from geopandas) (1.8.22)\n",
            "Requirement already satisfied: pyproj>=2.2.0 in /usr/local/lib/python3.7/dist-packages (from geopandas) (3.2.1)\n",
            "Requirement already satisfied: click-plugins>=1.0 in /usr/local/lib/python3.7/dist-packages (from fiona>=1.8->geopandas) (1.1.1)\n",
            "Requirement already satisfied: setuptools in /usr/local/lib/python3.7/dist-packages (from fiona>=1.8->geopandas) (57.4.0)\n",
            "Requirement already satisfied: munch in /usr/local/lib/python3.7/dist-packages (from fiona>=1.8->geopandas) (2.5.0)\n",
            "Requirement already satisfied: cligj>=0.5 in /usr/local/lib/python3.7/dist-packages (from fiona>=1.8->geopandas) (0.7.2)\n",
            "Requirement already satisfied: click>=4.0 in /usr/local/lib/python3.7/dist-packages (from fiona>=1.8->geopandas) (7.1.2)\n",
            "Requirement already satisfied: six>=1.7 in /usr/local/lib/python3.7/dist-packages (from fiona>=1.8->geopandas) (1.15.0)\n",
            "Requirement already satisfied: attrs>=17 in /usr/local/lib/python3.7/dist-packages (from fiona>=1.8->geopandas) (22.1.0)\n",
            "Requirement already satisfied: certifi in /usr/local/lib/python3.7/dist-packages (from fiona>=1.8->geopandas) (2022.9.24)\n",
            "Requirement already satisfied: pytz>=2017.3 in /usr/local/lib/python3.7/dist-packages (from pandas>=0.25.0->geopandas) (2022.6)\n",
            "Requirement already satisfied: python-dateutil>=2.7.3 in /usr/local/lib/python3.7/dist-packages (from pandas>=0.25.0->geopandas) (2.8.2)\n",
            "Requirement already satisfied: numpy>=1.17.3 in /usr/local/lib/python3.7/dist-packages (from pandas>=0.25.0->geopandas) (1.21.6)\n"
          ]
        }
      ]
    },
    {
      "cell_type": "code",
      "source": [
        "import pandas as pd\n",
        "import numpy as np\n",
        "import io\n",
        "import requests\n",
        "import urllib.request\n",
        "import csv\n",
        "import seaborn as sns\n",
        "import matplotlib.pyplot as plt\n",
        "import geopandas as gpd\n",
        "from shapely.geometry import Point\n",
        "\n",
        "pd.set_option('display.max_columns', None)"
      ],
      "metadata": {
        "id": "FfZ5JiFCUFDD"
      },
      "execution_count": 199,
      "outputs": []
    },
    {
      "cell_type": "code",
      "source": [
        "url1 = 'https://raw.githubusercontent.com/PosgradoMNA/actividades-del-projecto-equipo_114/main/Reto1/Datos_de_calidad_del_agua_de_sitios_de_monitoreo_de_aguas_subterraneas_2020.csv'\n",
        "url2 = 'https://raw.githubusercontent.com/PosgradoMNA/actividades-del-projecto-equipo_114/main/Reto1/Datos_de_calidad_del_agua_de_sitios_de_monitoreo_de_aguas_superficiales_2020.csv'"
      ],
      "metadata": {
        "id": "11kpWXLqUIIl"
      },
      "execution_count": 200,
      "outputs": []
    },
    {
      "cell_type": "code",
      "source": [
        "df_sub = pd.read_csv(url1, encoding_errors='ignore', error_bad_lines=False)\n",
        "df_sup = pd.read_csv(url2, encoding_errors='ignore', error_bad_lines=False)"
      ],
      "metadata": {
        "colab": {
          "base_uri": "https://localhost:8080/"
        },
        "id": "WNaJZ5YnVuOg",
        "outputId": "56654987-efc3-4a7e-e88a-4125cefb17f3"
      },
      "execution_count": 201,
      "outputs": [
        {
          "output_type": "stream",
          "name": "stderr",
          "text": [
            "/usr/local/lib/python3.7/dist-packages/IPython/core/interactiveshell.py:3326: FutureWarning: The error_bad_lines argument has been deprecated and will be removed in a future version.\n",
            "\n",
            "\n",
            "  exec(code_obj, self.user_global_ns, self.user_ns)\n"
          ]
        }
      ]
    },
    {
      "cell_type": "markdown",
      "source": [
        "# Mapeao de Indicadores de calidad"
      ],
      "metadata": {
        "id": "oqrBec77V04w"
      }
    },
    {
      "cell_type": "code",
      "source": [
        "print(df_sub['CALIDAD_COLI_FEC'].isna().sum())\n",
        "print(df_sub['CALIDAD_COLI_FEC'].unique())\n",
        "df_sub['CALIDAD_COLI_FEC'].replace({\n",
        "    'Potable - Excelente':10,\n",
        "    'Buena calidad':1,\n",
        "    'Aceptable':0,\n",
        "    'Contaminada':-1,\n",
        "    'Fuertemente contaminada':-10\n",
        "}, inplace=True)"
      ],
      "metadata": {
        "colab": {
          "base_uri": "https://localhost:8080/"
        },
        "id": "XJyFDNFoVv76",
        "outputId": "41406f7d-6136-4c27-999e-fccfd84f3644"
      },
      "execution_count": 202,
      "outputs": [
        {
          "output_type": "stream",
          "name": "stdout",
          "text": [
            "0\n",
            "['Potable - Excelente' 'Aceptable' 'Contaminada' 'Buena calidad'\n",
            " 'Fuertemente contaminada']\n"
          ]
        }
      ]
    },
    {
      "cell_type": "code",
      "source": [
        "print(df_sub['CALIDAD_SDT_ra'].isna().sum())\n",
        "print(df_sub['CALIDAD_SDT_ra'].unique())\n",
        "df_sub['CALIDAD_SDT_ra'].fillna(df_sub['CALIDAD_SDT_ra'].mode().iloc[0], inplace=True)\n",
        "df_sub['CALIDAD_SDT_ra'].replace({\n",
        "    'Excelente para riego':10,\n",
        "    'Cultivos sensibles':1,\n",
        "    'Cultivos con manejo especial':1,\n",
        "    'Cultivos tolerantes':0,\n",
        "    'Indeseable para riego':-1\n",
        "}, inplace=True)"
      ],
      "metadata": {
        "colab": {
          "base_uri": "https://localhost:8080/"
        },
        "id": "rEAxvioaV4kG",
        "outputId": "2a3d4621-22da-4e9c-fd09-15e7cbce205d"
      },
      "execution_count": 203,
      "outputs": [
        {
          "output_type": "stream",
          "name": "stdout",
          "text": [
            "2\n",
            "['Cultivos sensibles' 'Excelente para riego'\n",
            " 'Cultivos con manejo especial' 'Cultivos tolerantes'\n",
            " 'Indeseable para riego' nan]\n"
          ]
        }
      ]
    },
    {
      "cell_type": "code",
      "source": [
        "print(df_sub['CALIDAD_SDT_salin'].isna().sum())\n",
        "print(df_sub['CALIDAD_SDT_salin'].unique())\n",
        "df_sub['CALIDAD_SDT_salin'].fillna(df_sub['CALIDAD_SDT_salin'].mode().iloc[0], inplace=True)\n",
        "df_sub['CALIDAD_SDT_salin'].replace({\n",
        "    'Potable - Dulce':10,\n",
        "    'Ligeramente salobres':0,\n",
        "    'Salobres':0,\n",
        "    'Salinas':-1\n",
        "}, inplace=True)"
      ],
      "metadata": {
        "colab": {
          "base_uri": "https://localhost:8080/"
        },
        "id": "RiYqmOvKV5nH",
        "outputId": "525ba207-d2f0-4e03-d775-6f09435b0068"
      },
      "execution_count": 204,
      "outputs": [
        {
          "output_type": "stream",
          "name": "stdout",
          "text": [
            "2\n",
            "['Potable - Dulce' 'Ligeramente salobres' 'Salobres' 'Salinas' nan]\n"
          ]
        }
      ]
    },
    {
      "cell_type": "code",
      "source": [
        "print(df_sub['CALIDAD_CR'].isna().sum())\n",
        "print(df_sub['CALIDAD_CR'].unique())\n",
        "df_sub['CALIDAD_CR'].replace({\n",
        "    'Potable - Excelente':10,\n",
        "    'No apta como FAAP':-10\n",
        "}, inplace=True)"
      ],
      "metadata": {
        "colab": {
          "base_uri": "https://localhost:8080/"
        },
        "id": "wDFLM13KV7Ku",
        "outputId": "2db58a3e-06ea-4640-a32e-ed5dac17b57c"
      },
      "execution_count": 205,
      "outputs": [
        {
          "output_type": "stream",
          "name": "stdout",
          "text": [
            "0\n",
            "['Potable - Excelente' 'No apta como FAAP']\n"
          ]
        }
      ]
    },
    {
      "cell_type": "code",
      "source": [
        "print(df_sub['CALIDAD_CONDUC'].isna().sum())\n",
        "print(df_sub['CALIDAD_CONDUC'].unique())\n",
        "df_sub['CALIDAD_CONDUC'].fillna(df_sub['CALIDAD_CONDUC'].mode().iloc[0], inplace=True)\n",
        "df_sub['CALIDAD_CONDUC'].replace({\n",
        "    'Permisible para riego':0,\n",
        "    'Buena para riego':1,\n",
        "    'Excelente para riego':10,\n",
        "    'Dudosa para riego':-1,\n",
        "    'Indeseable para riego':-10\n",
        "},inplace=True)"
      ],
      "metadata": {
        "colab": {
          "base_uri": "https://localhost:8080/"
        },
        "id": "jBtVbnsQV8eX",
        "outputId": "6e526300-5177-4db0-af67-0a0492e59f9f"
      },
      "execution_count": 206,
      "outputs": [
        {
          "output_type": "stream",
          "name": "stdout",
          "text": [
            "6\n",
            "['Permisible para riego' 'Buena para riego' 'Dudosa para riego'\n",
            " 'Indeseable para riego' nan 'Excelente para riego']\n"
          ]
        }
      ]
    },
    {
      "cell_type": "code",
      "source": [
        "print(df_sub['CALIDAD_CD'].isna().sum())\n",
        "print(df_sub['CALIDAD_CD'].unique())\n",
        "df_sub['CALIDAD_CD'].replace({\n",
        "    'Potable - Excelente':10,\n",
        "    'No apta como FAAP':-10\n",
        "}, inplace=True)"
      ],
      "metadata": {
        "colab": {
          "base_uri": "https://localhost:8080/"
        },
        "id": "C4R75UkpV91z",
        "outputId": "2d3cb31b-3cb0-4657-988d-33293fde7ec1"
      },
      "execution_count": 207,
      "outputs": [
        {
          "output_type": "stream",
          "name": "stdout",
          "text": [
            "0\n",
            "['Potable - Excelente' 'No apta como FAAP']\n"
          ]
        }
      ]
    },
    {
      "cell_type": "code",
      "source": [
        "print(df_sub['CALIDAD_AS'].isna().sum())\n",
        "print(df_sub['CALIDAD_AS'].unique())\n",
        "df_sub['CALIDAD_AS'].replace({\n",
        "    'Apta como FAAP':0,\n",
        "    'No apta como FAAP':-10,\n",
        "    'Potable - Excelente':10,\n",
        "}, inplace=True)"
      ],
      "metadata": {
        "colab": {
          "base_uri": "https://localhost:8080/"
        },
        "id": "w1Rj6R-TV_G9",
        "outputId": "8b9a6b9b-7a29-49fe-c38f-801780cb5b8b"
      },
      "execution_count": 208,
      "outputs": [
        {
          "output_type": "stream",
          "name": "stdout",
          "text": [
            "0\n",
            "['Apta como FAAP' 'No apta como FAAP' 'Potable - Excelente']\n"
          ]
        }
      ]
    },
    {
      "cell_type": "code",
      "source": [
        "print(df_sub['CALIDAD_ALC'].isna().sum())\n",
        "print(df_sub['CALIDAD_ALC'].unique())\n",
        "df_sub['CALIDAD_ALC'].fillna(df_sub['CALIDAD_ALC'].mode().iloc[0], inplace=True)\n",
        "df_sub['CALIDAD_ALC'].replace({\n",
        "    'Alta':10,\n",
        "    'Media':0,\n",
        "    'Baja':-1,\n",
        "    'Indeseable como FAAP':-10,\n",
        "}, inplace=True)"
      ],
      "metadata": {
        "colab": {
          "base_uri": "https://localhost:8080/"
        },
        "id": "4IYGDQ9oWAme",
        "outputId": "b0f08967-1594-4457-e3b5-03a3a37a890f"
      },
      "execution_count": 209,
      "outputs": [
        {
          "output_type": "stream",
          "name": "stdout",
          "text": [
            "4\n",
            "['Alta' 'Media' 'Baja' 'Indeseable como FAAP' nan]\n"
          ]
        }
      ]
    },
    {
      "cell_type": "code",
      "source": [
        "print(df_sub['CALIDAD_PB'].isna().sum())\n",
        "print(df_sub['CALIDAD_PB'].unique())\n",
        "df_sub['CALIDAD_PB'].replace({\n",
        "    'Potable - Excelente':10,\n",
        "    'No apta como FAAP':-10,\n",
        "}, inplace=True)"
      ],
      "metadata": {
        "colab": {
          "base_uri": "https://localhost:8080/"
        },
        "id": "e6nvVPOnWBiQ",
        "outputId": "b57bdee4-bc40-474e-bc2d-468f81dd43b2"
      },
      "execution_count": 210,
      "outputs": [
        {
          "output_type": "stream",
          "name": "stdout",
          "text": [
            "0\n",
            "['Potable - Excelente' 'No apta como FAAP']\n"
          ]
        }
      ]
    },
    {
      "cell_type": "code",
      "source": [
        "print(df_sub['CALIDAD_N_NO3'].isna().sum())\n",
        "print(df_sub['CALIDAD_N_NO3'].unique())\n",
        "df_sub['CALIDAD_N_NO3'].fillna(df_sub['CALIDAD_N_NO3'].mode().iloc[0], inplace=True)\n",
        "df_sub['CALIDAD_N_NO3'].replace({\n",
        "    'Potable - Excelente':10,\n",
        "    'Potable - Buena calidad':0,\n",
        "    'No apta como FAAP':-10,\n",
        "}, inplace=True)\n"
      ],
      "metadata": {
        "colab": {
          "base_uri": "https://localhost:8080/"
        },
        "id": "OQKN1ZX5WC0d",
        "outputId": "96867864-37b3-4718-a13a-39a35ad8e91b"
      },
      "execution_count": 211,
      "outputs": [
        {
          "output_type": "stream",
          "name": "stdout",
          "text": [
            "1\n",
            "['Potable - Excelente' 'Potable - Buena calidad' 'No apta como FAAP' nan]\n"
          ]
        }
      ]
    },
    {
      "cell_type": "code",
      "source": [
        "print(df_sub['CALIDAD_MN'].isna().sum())\n",
        "print(df_sub['CALIDAD_MN'].unique())\n",
        "df_sub['CALIDAD_MN'].replace({\n",
        "    'Potable - Excelente':10,\n",
        "    'Puede afectar la salud':-10,\n",
        "    'Sin efectos en la salud - Puede dar color al agua':-1,\n",
        "}, inplace=True)"
      ],
      "metadata": {
        "colab": {
          "base_uri": "https://localhost:8080/"
        },
        "id": "UXQYtq9pWELh",
        "outputId": "9aa133fa-a5e4-4411-ac63-eb3061d83812"
      },
      "execution_count": 212,
      "outputs": [
        {
          "output_type": "stream",
          "name": "stdout",
          "text": [
            "0\n",
            "['Potable - Excelente' 'Puede afectar la salud'\n",
            " 'Sin efectos en la salud - Puede dar color al agua']\n"
          ]
        }
      ]
    },
    {
      "cell_type": "code",
      "source": [
        "print(df_sub['CALIDAD_HG'].isna().sum())\n",
        "print(df_sub['CALIDAD_HG'].unique())\n",
        "df_sub['CALIDAD_HG'].replace({\n",
        "    'Potable - Excelente':10,\n",
        "    'No apta como FAAP':-10,\n",
        "}, inplace=True)"
      ],
      "metadata": {
        "colab": {
          "base_uri": "https://localhost:8080/"
        },
        "id": "UwJMYBxTWGGw",
        "outputId": "47636127-b1ec-4761-8c87-6250949bb6f8"
      },
      "execution_count": 213,
      "outputs": [
        {
          "output_type": "stream",
          "name": "stdout",
          "text": [
            "0\n",
            "['Potable - Excelente' 'No apta como FAAP']\n"
          ]
        }
      ]
    },
    {
      "cell_type": "code",
      "source": [
        "print(df_sub['CALIDAD_FLUO'].isna().sum())\n",
        "print(df_sub['CALIDAD_FLUO'].unique())\n",
        "df_sub['CALIDAD_FLUO'].replace({\n",
        "    'Potable - Optima':10,\n",
        "    'Alta':1,\n",
        "    'Baja':-10,\n",
        "    'Media':0,\n",
        "}, inplace=True)"
      ],
      "metadata": {
        "colab": {
          "base_uri": "https://localhost:8080/"
        },
        "id": "C61aQP9EWHdW",
        "outputId": "56d762fd-256a-480c-a028-c8b917e8588e"
      },
      "execution_count": 214,
      "outputs": [
        {
          "output_type": "stream",
          "name": "stdout",
          "text": [
            "0\n",
            "['Potable - Optima' 'Alta' 'Baja' 'Media']\n"
          ]
        }
      ]
    },
    {
      "cell_type": "code",
      "source": [
        "print(df_sub['CALIDAD_FE'].isna().sum())\n",
        "print(df_sub['CALIDAD_FE'].unique())\n",
        "df_sub['CALIDAD_FE'].replace({\n",
        "    'Potable - Excelente':10,\n",
        "    'Sin efectos en la salud - Puede dar color al agua':-1,\n",
        "}, inplace=True)"
      ],
      "metadata": {
        "colab": {
          "base_uri": "https://localhost:8080/"
        },
        "id": "gx8A0E4dWJKp",
        "outputId": "bef222dd-d9c8-47b6-fae8-e996376575ce"
      },
      "execution_count": 215,
      "outputs": [
        {
          "output_type": "stream",
          "name": "stdout",
          "text": [
            "0\n",
            "['Potable - Excelente' 'Sin efectos en la salud - Puede dar color al agua']\n"
          ]
        }
      ]
    },
    {
      "cell_type": "code",
      "source": [
        "print(df_sub['CALIDAD_DUR'].isna().sum())\n",
        "print(df_sub['CALIDAD_DUR'].unique())\n",
        "df_sub['CALIDAD_DUR'].fillna(df_sub['CALIDAD_DUR'].mode().iloc[0], inplace=True)\n",
        "df_sub['CALIDAD_DUR'].replace({\n",
        "    'Potable - Dura':0,\n",
        "    'Muy dura e indeseable usos industrial y domestico':-10,\n",
        "    'Potable - Suave':10,\n",
        "    'Potable - Moderadamente suave':1,\n",
        "}, inplace=True)"
      ],
      "metadata": {
        "colab": {
          "base_uri": "https://localhost:8080/"
        },
        "id": "dkblNUCXWK0z",
        "outputId": "4b4a965a-4e9e-498a-f64a-af99fab9e488"
      },
      "execution_count": 216,
      "outputs": [
        {
          "output_type": "stream",
          "name": "stdout",
          "text": [
            "1\n",
            "['Potable - Dura' 'Muy dura e indeseable usos industrial y domestico'\n",
            " 'Potable - Suave' 'Potable - Moderadamente suave' nan]\n"
          ]
        }
      ]
    },
    {
      "cell_type": "code",
      "source": [
        "conservarCols = ['ESTADO',\n",
        " 'LATITUD',\n",
        " 'LONGITUD',\n",
        " 'MUNICIPIO',\n",
        " 'CALIDAD_COLI_FEC',\n",
        " 'CALIDAD_SDT_ra',\n",
        " 'CALIDAD_SDT_salin',\n",
        " 'CALIDAD_CR',\n",
        " 'CALIDAD_CONDUC',\n",
        " 'CALIDAD_CD',\n",
        " 'CALIDAD_AS',\n",
        " 'CALIDAD_ALC',\n",
        " 'CALIDAD_PB',\n",
        " 'CALIDAD_N_NO3',\n",
        " 'CALIDAD_MN',\n",
        " 'CALIDAD_HG',\n",
        " 'CALIDAD_FLUO',\n",
        " 'CALIDAD_FE',\n",
        " 'CALIDAD_DUR'\n",
        " ]\n",
        "\n",
        "removerCols = [x for x in df_sub.columns if x not in conservarCols]"
      ],
      "metadata": {
        "id": "erJvCAFiWMSH"
      },
      "execution_count": 217,
      "outputs": []
    },
    {
      "cell_type": "code",
      "source": [
        "# Remover columnas qeu no utilizaremos\n",
        "df_sub.drop(columns=removerCols, inplace=True)"
      ],
      "metadata": {
        "id": "PW04mqvZWNmv"
      },
      "execution_count": 218,
      "outputs": []
    },
    {
      "cell_type": "code",
      "source": [
        "indicadoresCalidad = ['CALIDAD_ALC',\n",
        "                      'CALIDAD_CONDUC',\n",
        "                      'CALIDAD_SDT_ra',\n",
        "                      'CALIDAD_SDT_salin',\n",
        "                      'CALIDAD_FLUO',\n",
        "                      'CALIDAD_DUR',\n",
        "                      'CALIDAD_COLI_FEC',\n",
        "                      'CALIDAD_N_NO3',\n",
        "                      'CALIDAD_AS',\n",
        "                      'CALIDAD_CD',\n",
        "                      'CALIDAD_CR',\n",
        "                      'CALIDAD_HG',\n",
        "                      'CALIDAD_PB' ,\n",
        "                      'CALIDAD_MN',\n",
        "                      'CALIDAD_FE']"
      ],
      "metadata": {
        "id": "Q3g1BOHKWPo2"
      },
      "execution_count": 219,
      "outputs": []
    },
    {
      "cell_type": "code",
      "source": [
        "df_sub['SemaforoCalidad'] = df_sub[indicadoresCalidad].sum(axis=1)"
      ],
      "metadata": {
        "id": "QiuWtio_WWAE"
      },
      "execution_count": 220,
      "outputs": []
    },
    {
      "cell_type": "code",
      "source": [
        "plt.scatter(df_sub.index, df_sub['SemaforoCalidad'])"
      ],
      "metadata": {
        "colab": {
          "base_uri": "https://localhost:8080/",
          "height": 283
        },
        "id": "Rai70P-tWxcP",
        "outputId": "0f71c9d3-a731-4abc-ee5e-6cf8b545cf6c"
      },
      "execution_count": 221,
      "outputs": [
        {
          "output_type": "execute_result",
          "data": {
            "text/plain": [
              "<matplotlib.collections.PathCollection at 0x7f086e6cf610>"
            ]
          },
          "metadata": {},
          "execution_count": 221
        },
        {
          "output_type": "display_data",
          "data": {
            "text/plain": [
              "<Figure size 432x288 with 1 Axes>"
            ],
            "image/png": "[encoded data removed]"
          },
          "metadata": {
            "needs_background": "light"
          }
        }
      ]
    },
    {
      "cell_type": "code",
      "source": [
        "plt.boxplot(df_sub['SemaforoCalidad'])"
      ],
      "metadata": {
        "colab": {
          "base_uri": "https://localhost:8080/",
          "height": 413
        },
        "id": "yyN5G29oW1on",
        "outputId": "0e9ebfff-b6cb-4129-a3a0-1bab5e83625d"
      },
      "execution_count": 222,
      "outputs": [
        {
          "output_type": "execute_result",
          "data": {
            "text/plain": [
              "{'whiskers': [<matplotlib.lines.Line2D at 0x7f086e69f050>,\n",
              "  <matplotlib.lines.Line2D at 0x7f086e69f910>],\n",
              " 'caps': [<matplotlib.lines.Line2D at 0x7f086e69f8d0>,\n",
              "  <matplotlib.lines.Line2D at 0x7f086e68ebd0>],\n",
              " 'boxes': [<matplotlib.lines.Line2D at 0x7f086e6fdd50>],\n",
              " 'medians': [<matplotlib.lines.Line2D at 0x7f086e68eed0>],\n",
              " 'fliers': [<matplotlib.lines.Line2D at 0x7f086e8d2210>],\n",
              " 'means': []}"
            ]
          },
          "metadata": {},
          "execution_count": 222
        },
        {
          "output_type": "display_data",
          "data": {
            "text/plain": [
              "<Figure size 432x288 with 1 Axes>"
            ],
            "image/png": "[encoded data removed]"
          },
          "metadata": {
            "needs_background": "light"
          }
        }
      ]
    },
    {
      "cell_type": "code",
      "source": [
        "df_sub['SemaforoCalidad'].describe()"
      ],
      "metadata": {
        "colab": {
          "base_uri": "https://localhost:8080/"
        },
        "id": "fprIl8Huiei9",
        "outputId": "3c3f40fa-0885-48f8-aad6-4353e6fd1fd2"
      },
      "execution_count": 223,
      "outputs": [
        {
          "output_type": "execute_result",
          "data": {
            "text/plain": [
              "count    1068.000000\n",
              "mean       94.015918\n",
              "std        22.271999\n",
              "min         2.000000\n",
              "25%        81.000000\n",
              "50%       100.000000\n",
              "75%       111.000000\n",
              "max       141.000000\n",
              "Name: SemaforoCalidad, dtype: float64"
            ]
          },
          "metadata": {},
          "execution_count": 223
        }
      ]
    },
    {
      "cell_type": "code",
      "source": [
        "df_sub"
      ],
      "metadata": {
        "colab": {
          "base_uri": "https://localhost:8080/",
          "height": 539
        },
        "id": "DiEolJ35inOf",
        "outputId": "bcd69ff4-8653-49c9-a346-179eb8c8f931"
      },
      "execution_count": 224,
      "outputs": [
        {
          "output_type": "execute_result",
          "data": {
            "text/plain": [
              "                   ESTADO          MUNICIPIO   LONGITUD   LATITUD  \\\n",
              "0          AGUASCALIENTES           ASIENTOS -102.02210  22.20887   \n",
              "1          AGUASCALIENTES     AGUASCALIENTES -102.20075  21.99958   \n",
              "2          AGUASCALIENTES              COSIO -102.28801  22.36685   \n",
              "3          AGUASCALIENTES    RINCON DE ROMOS -102.29449  22.18435   \n",
              "4     BAJA CALIFORNIA SUR             LA PAZ -110.24480  23.45138   \n",
              "...                   ...                ...        ...       ...   \n",
              "1063           NUEVO LEON            LINARES  -99.54191  24.76036   \n",
              "1064           NUEVO LEON            LINARES  -99.70099  24.78280   \n",
              "1065           NUEVO LEON  CADEREYTA JIMENEZ  -99.82249  25.55197   \n",
              "1066           NUEVO LEON            GALEANA -100.32683  24.80118   \n",
              "1067           NUEVO LEON            GALEANA -100.73302  25.09380   \n",
              "\n",
              "      CALIDAD_ALC  CALIDAD_CONDUC  CALIDAD_SDT_ra  CALIDAD_SDT_salin  \\\n",
              "0              10               0               1                 10   \n",
              "1              10               1              10                 10   \n",
              "2              10               1              10                 10   \n",
              "3              10               1              10                 10   \n",
              "4              10               0               1                  0   \n",
              "...           ...             ...             ...                ...   \n",
              "1063           10              -1               1                  0   \n",
              "1064           10               1              10                 10   \n",
              "1065           10              -1               1                  0   \n",
              "1066           10               0               1                 10   \n",
              "1067           10               0              10                 10   \n",
              "\n",
              "      CALIDAD_FLUO  CALIDAD_DUR  CALIDAD_COLI_FEC  CALIDAD_N_NO3  CALIDAD_AS  \\\n",
              "0               10            0                10             10           0   \n",
              "1               10            0                10              0           0   \n",
              "2                1            0                10             10         -10   \n",
              "3               10            0                10             10           0   \n",
              "4              -10            0                 0            -10          10   \n",
              "...            ...          ...               ...            ...         ...   \n",
              "1063           -10          -10                10            -10          10   \n",
              "1064           -10            0                10            -10          10   \n",
              "1065            10          -10                 0            -10          10   \n",
              "1066            10            0                10             10          10   \n",
              "1067             0            0                10             10          10   \n",
              "\n",
              "      CALIDAD_CD  CALIDAD_CR  CALIDAD_HG  CALIDAD_PB  CALIDAD_MN  CALIDAD_FE  \\\n",
              "0             10          10          10          10          10          10   \n",
              "1             10          10          10          10          10          10   \n",
              "2             10          10          10          10          10          10   \n",
              "3             10          10          10          10          10          10   \n",
              "4             10          10          10          10          10          10   \n",
              "...          ...         ...         ...         ...         ...         ...   \n",
              "1063          10          10          10          10          10          10   \n",
              "1064          10          10          10          10          10          10   \n",
              "1065          10          10          10          10          10          10   \n",
              "1066          10          10          10          10          10          10   \n",
              "1067          10          10          10          10          10          10   \n",
              "\n",
              "      SemaforoCalidad  \n",
              "0                 111  \n",
              "1                 111  \n",
              "2                 102  \n",
              "3                 121  \n",
              "4                  61  \n",
              "...               ...  \n",
              "1063               60  \n",
              "1064               91  \n",
              "1065               70  \n",
              "1066              121  \n",
              "1067              120  \n",
              "\n",
              "[1068 rows x 20 columns]"
            ],
            "text/html": [
              "\n",
              "  <div id=\"df-769dd17a-57ee-4643-bdfb-02ade5a5b435\">\n",
              "    <div class=\"colab-df-container\">\n",
              "      <div>\n",
              "<style scoped>\n",
              "    .dataframe tbody tr th:only-of-type {\n",
              "        vertical-align: middle;\n",
              "    }\n",
              "\n",
              "    .dataframe tbody tr th {\n",
              "        vertical-align: top;\n",
              "    }\n",
              "\n",
              "    .dataframe thead th {\n",
              "        text-align: right;\n",
              "    }\n",
              "</style>\n",
              "<table border=\"1\" class=\"dataframe\">\n",
              "  <thead>\n",
              "    <tr style=\"text-align: right;\">\n",
              "      <th></th>\n",
              "      <th>ESTADO</th>\n",
              "      <th>MUNICIPIO</th>\n",
              "      <th>LONGITUD</th>\n",
              "      <th>LATITUD</th>\n",
              "      <th>CALIDAD_ALC</th>\n",
              "      <th>CALIDAD_CONDUC</th>\n",
              "      <th>CALIDAD_SDT_ra</th>\n",
              "      <th>CALIDAD_SDT_salin</th>\n",
              "      <th>CALIDAD_FLUO</th>\n",
              "      <th>CALIDAD_DUR</th>\n",
              "      <th>CALIDAD_COLI_FEC</th>\n",
              "      <th>CALIDAD_N_NO3</th>\n",
              "      <th>CALIDAD_AS</th>\n",
              "      <th>CALIDAD_CD</th>\n",
              "      <th>CALIDAD_CR</th>\n",
              "      <th>CALIDAD_HG</th>\n",
              "      <th>CALIDAD_PB</th>\n",
              "      <th>CALIDAD_MN</th>\n",
              "      <th>CALIDAD_FE</th>\n",
              "      <th>SemaforoCalidad</th>\n",
              "    </tr>\n",
              "  </thead>\n",
              "  <tbody>\n",
              "    <tr>\n",
              "      <th>0</th>\n",
              "      <td>AGUASCALIENTES</td>\n",
              "      <td>ASIENTOS</td>\n",
              "      <td>-102.02210</td>\n",
              "      <td>22.20887</td>\n",
              "      <td>10</td>\n",
              "      <td>0</td>\n",
              "      <td>1</td>\n",
              "      <td>10</td>\n",
              "      <td>10</td>\n",
              "      <td>0</td>\n",
              "      <td>10</td>\n",
              "      <td>10</td>\n",
              "      <td>0</td>\n",
              "      <td>10</td>\n",
              "      <td>10</td>\n",
              "      <td>10</td>\n",
              "      <td>10</td>\n",
              "      <td>10</td>\n",
              "      <td>10</td>\n",
              "      <td>111</td>\n",
              "    </tr>\n",
              "    <tr>\n",
              "      <th>1</th>\n",
              "      <td>AGUASCALIENTES</td>\n",
              "      <td>AGUASCALIENTES</td>\n",
              "      <td>-102.20075</td>\n",
              "      <td>21.99958</td>\n",
              "      <td>10</td>\n",
              "      <td>1</td>\n",
              "      <td>10</td>\n",
              "      <td>10</td>\n",
              "      <td>10</td>\n",
              "      <td>0</td>\n",
              "      <td>10</td>\n",
              "      <td>0</td>\n",
              "      <td>0</td>\n",
              "      <td>10</td>\n",
              "      <td>10</td>\n",
              "      <td>10</td>\n",
              "      <td>10</td>\n",
              "      <td>10</td>\n",
              "      <td>10</td>\n",
              "      <td>111</td>\n",
              "    </tr>\n",
              "    <tr>\n",
              "      <th>2</th>\n",
              "      <td>AGUASCALIENTES</td>\n",
              "      <td>COSIO</td>\n",
              "      <td>-102.28801</td>\n",
              "      <td>22.36685</td>\n",
              "      <td>10</td>\n",
              "      <td>1</td>\n",
              "      <td>10</td>\n",
              "      <td>10</td>\n",
              "      <td>1</td>\n",
              "      <td>0</td>\n",
              "      <td>10</td>\n",
              "      <td>10</td>\n",
              "      <td>-10</td>\n",
              "      <td>10</td>\n",
              "      <td>10</td>\n",
              "      <td>10</td>\n",
              "      <td>10</td>\n",
              "      <td>10</td>\n",
              "      <td>10</td>\n",
              "      <td>102</td>\n",
              "    </tr>\n",
              "    <tr>\n",
              "      <th>3</th>\n",
              "      <td>AGUASCALIENTES</td>\n",
              "      <td>RINCON DE ROMOS</td>\n",
              "      <td>-102.29449</td>\n",
              "      <td>22.18435</td>\n",
              "      <td>10</td>\n",
              "      <td>1</td>\n",
              "      <td>10</td>\n",
              "      <td>10</td>\n",
              "      <td>10</td>\n",
              "      <td>0</td>\n",
              "      <td>10</td>\n",
              "      <td>10</td>\n",
              "      <td>0</td>\n",
              "      <td>10</td>\n",
              "      <td>10</td>\n",
              "      <td>10</td>\n",
              "      <td>10</td>\n",
              "      <td>10</td>\n",
              "      <td>10</td>\n",
              "      <td>121</td>\n",
              "    </tr>\n",
              "    <tr>\n",
              "      <th>4</th>\n",
              "      <td>BAJA CALIFORNIA SUR</td>\n",
              "      <td>LA PAZ</td>\n",
              "      <td>-110.24480</td>\n",
              "      <td>23.45138</td>\n",
              "      <td>10</td>\n",
              "      <td>0</td>\n",
              "      <td>1</td>\n",
              "      <td>0</td>\n",
              "      <td>-10</td>\n",
              "      <td>0</td>\n",
              "      <td>0</td>\n",
              "      <td>-10</td>\n",
              "      <td>10</td>\n",
              "      <td>10</td>\n",
              "      <td>10</td>\n",
              "      <td>10</td>\n",
              "      <td>10</td>\n",
              "      <td>10</td>\n",
              "      <td>10</td>\n",
              "      <td>61</td>\n",
              "    </tr>\n",
              "    <tr>\n",
              "      <th>...</th>\n",
              "      <td>...</td>\n",
              "      <td>...</td>\n",
              "      <td>...</td>\n",
              "      <td>...</td>\n",
              "      <td>...</td>\n",
              "      <td>...</td>\n",
              "      <td>...</td>\n",
              "      <td>...</td>\n",
              "      <td>...</td>\n",
              "      <td>...</td>\n",
              "      <td>...</td>\n",
              "      <td>...</td>\n",
              "      <td>...</td>\n",
              "      <td>...</td>\n",
              "      <td>...</td>\n",
              "      <td>...</td>\n",
              "      <td>...</td>\n",
              "      <td>...</td>\n",
              "      <td>...</td>\n",
              "      <td>...</td>\n",
              "    </tr>\n",
              "    <tr>\n",
              "      <th>1063</th>\n",
              "      <td>NUEVO LEON</td>\n",
              "      <td>LINARES</td>\n",
              "      <td>-99.54191</td>\n",
              "      <td>24.76036</td>\n",
              "      <td>10</td>\n",
              "      <td>-1</td>\n",
              "      <td>1</td>\n",
              "      <td>0</td>\n",
              "      <td>-10</td>\n",
              "      <td>-10</td>\n",
              "      <td>10</td>\n",
              "      <td>-10</td>\n",
              "      <td>10</td>\n",
              "      <td>10</td>\n",
              "      <td>10</td>\n",
              "      <td>10</td>\n",
              "      <td>10</td>\n",
              "      <td>10</td>\n",
              "      <td>10</td>\n",
              "      <td>60</td>\n",
              "    </tr>\n",
              "    <tr>\n",
              "      <th>1064</th>\n",
              "      <td>NUEVO LEON</td>\n",
              "      <td>LINARES</td>\n",
              "      <td>-99.70099</td>\n",
              "      <td>24.78280</td>\n",
              "      <td>10</td>\n",
              "      <td>1</td>\n",
              "      <td>10</td>\n",
              "      <td>10</td>\n",
              "      <td>-10</td>\n",
              "      <td>0</td>\n",
              "      <td>10</td>\n",
              "      <td>-10</td>\n",
              "      <td>10</td>\n",
              "      <td>10</td>\n",
              "      <td>10</td>\n",
              "      <td>10</td>\n",
              "      <td>10</td>\n",
              "      <td>10</td>\n",
              "      <td>10</td>\n",
              "      <td>91</td>\n",
              "    </tr>\n",
              "    <tr>\n",
              "      <th>1065</th>\n",
              "      <td>NUEVO LEON</td>\n",
              "      <td>CADEREYTA JIMENEZ</td>\n",
              "      <td>-99.82249</td>\n",
              "      <td>25.55197</td>\n",
              "      <td>10</td>\n",
              "      <td>-1</td>\n",
              "      <td>1</td>\n",
              "      <td>0</td>\n",
              "      <td>10</td>\n",
              "      <td>-10</td>\n",
              "      <td>0</td>\n",
              "      <td>-10</td>\n",
              "      <td>10</td>\n",
              "      <td>10</td>\n",
              "      <td>10</td>\n",
              "      <td>10</td>\n",
              "      <td>10</td>\n",
              "      <td>10</td>\n",
              "      <td>10</td>\n",
              "      <td>70</td>\n",
              "    </tr>\n",
              "    <tr>\n",
              "      <th>1066</th>\n",
              "      <td>NUEVO LEON</td>\n",
              "      <td>GALEANA</td>\n",
              "      <td>-100.32683</td>\n",
              "      <td>24.80118</td>\n",
              "      <td>10</td>\n",
              "      <td>0</td>\n",
              "      <td>1</td>\n",
              "      <td>10</td>\n",
              "      <td>10</td>\n",
              "      <td>0</td>\n",
              "      <td>10</td>\n",
              "      <td>10</td>\n",
              "      <td>10</td>\n",
              "      <td>10</td>\n",
              "      <td>10</td>\n",
              "      <td>10</td>\n",
              "      <td>10</td>\n",
              "      <td>10</td>\n",
              "      <td>10</td>\n",
              "      <td>121</td>\n",
              "    </tr>\n",
              "    <tr>\n",
              "      <th>1067</th>\n",
              "      <td>NUEVO LEON</td>\n",
              "      <td>GALEANA</td>\n",
              "      <td>-100.73302</td>\n",
              "      <td>25.09380</td>\n",
              "      <td>10</td>\n",
              "      <td>0</td>\n",
              "      <td>10</td>\n",
              "      <td>10</td>\n",
              "      <td>0</td>\n",
              "      <td>0</td>\n",
              "      <td>10</td>\n",
              "      <td>10</td>\n",
              "      <td>10</td>\n",
              "      <td>10</td>\n",
              "      <td>10</td>\n",
              "      <td>10</td>\n",
              "      <td>10</td>\n",
              "      <td>10</td>\n",
              "      <td>10</td>\n",
              "      <td>120</td>\n",
              "    </tr>\n",
              "  </tbody>\n",
              "</table>\n",
              "<p>1068 rows × 20 columns</p>\n",
              "</div>\n",
              "      <button class=\"colab-df-convert\" onclick=\"convertToInteractive('df-769dd17a-57ee-4643-bdfb-02ade5a5b435')\"\n",
              "              title=\"Convert this dataframe to an interactive table.\"\n",
              "              style=\"display:none;\">\n",
              "        \n",
              "  <svg xmlns=\"http://www.w3.org/2000/svg\" height=\"24px\"viewBox=\"0 0 24 24\"\n",
              "       width=\"24px\">\n",
              "    <path d=\"M0 0h24v24H0V0z\" fill=\"none\"/>\n",
              "    <path d=\"M18.56 5.44l.94 2.06.94-2.06 2.06-.94-2.06-.94-.94-2.06-.94 2.06-2.06.94zm-11 1L8.5 8.5l.94-2.06 2.06-.94-2.06-.94L8.5 2.5l-.94 2.06-2.06.94zm10 10l.94 2.06.94-2.06 2.06-.94-2.06-.94-.94-2.06-.94 2.06-2.06.94z\"/><path d=\"M17.41 7.96l-1.37-1.37c-.4-.4-.92-.59-1.43-.59-.52 0-1.04.2-1.43.59L10.3 9.45l-7.72 7.72c-.78.78-.78 2.05 0 2.83L4 21.41c.39.39.9.59 1.41.59.51 0 1.02-.2 1.41-.59l7.78-7.78 2.81-2.81c.8-.78.8-2.07 0-2.86zM5.41 20L4 18.59l7.72-7.72 1.47 1.35L5.41 20z\"/>\n",
              "  </svg>\n",
              "      </button>\n",
              "      \n",
              "  <style>\n",
              "    .colab-df-container {\n",
              "      display:flex;\n",
              "      flex-wrap:wrap;\n",
              "      gap: 12px;\n",
              "    }\n",
              "\n",
              "    .colab-df-convert {\n",
              "      background-color: #E8F0FE;\n",
              "      border: none;\n",
              "      border-radius: 50%;\n",
              "      cursor: pointer;\n",
              "      display: none;\n",
              "      fill: #1967D2;\n",
              "      height: 32px;\n",
              "      padding: 0 0 0 0;\n",
              "      width: 32px;\n",
              "    }\n",
              "\n",
              "    .colab-df-convert:hover {\n",
              "      background-color: #E2EBFA;\n",
              "      box-shadow: 0px 1px 2px rgba(60, 64, 67, 0.3), 0px 1px 3px 1px rgba(60, 64, 67, 0.15);\n",
              "      fill: #174EA6;\n",
              "    }\n",
              "\n",
              "    [theme=dark] .colab-df-convert {\n",
              "      background-color: #3B4455;\n",
              "      fill: #D2E3FC;\n",
              "    }\n",
              "\n",
              "    [theme=dark] .colab-df-convert:hover {\n",
              "      background-color: #434B5C;\n",
              "      box-shadow: 0px 1px 3px 1px rgba(0, 0, 0, 0.15);\n",
              "      filter: drop-shadow(0px 1px 2px rgba(0, 0, 0, 0.3));\n",
              "      fill: #FFFFFF;\n",
              "    }\n",
              "  </style>\n",
              "\n",
              "      <script>\n",
              "        const buttonEl =\n",
              "          document.querySelector('#df-769dd17a-57ee-4643-bdfb-02ade5a5b435 button.colab-df-convert');\n",
              "        buttonEl.style.display =\n",
              "          google.colab.kernel.accessAllowed ? 'block' : 'none';\n",
              "\n",
              "        async function convertToInteractive(key) {\n",
              "          const element = document.querySelector('#df-769dd17a-57ee-4643-bdfb-02ade5a5b435');\n",
              "          const dataTable =\n",
              "            await google.colab.kernel.invokeFunction('convertToInteractive',\n",
              "                                                     [key], {});\n",
              "          if (!dataTable) return;\n",
              "\n",
              "          const docLinkHtml = 'Like what you see? Visit the ' +\n",
              "            '<a target=\"_blank\" href=https://colab.research.google.com/notebooks/data_table.ipynb>data table notebook</a>'\n",
              "            + ' to learn more about interactive tables.';\n",
              "          element.innerHTML = '';\n",
              "          dataTable['output_type'] = 'display_data';\n",
              "          await google.colab.output.renderOutput(dataTable, element);\n",
              "          const docLink = document.createElement('div');\n",
              "          docLink.innerHTML = docLinkHtml;\n",
              "          element.appendChild(docLink);\n",
              "        }\n",
              "      </script>\n",
              "    </div>\n",
              "  </div>\n",
              "  "
            ]
          },
          "metadata": {},
          "execution_count": 224
        }
      ]
    },
    {
      "cell_type": "code",
      "source": [
        "from sklearn.ensemble import RandomForestClassifier\n",
        "from sklearn.model_selection import train_test_split\n",
        "from sklearn.model_selection import cross_validate, RepeatedStratifiedKFold\n",
        "from sklearn.pipeline import Pipeline\n",
        "from sklearn.model_selection import learning_curve, validation_curve\n",
        "from sklearn.tree import DecisionTreeClassifier"
      ],
      "metadata": {
        "id": "zuBxYSC5j1sD"
      },
      "execution_count": 225,
      "outputs": []
    },
    {
      "cell_type": "code",
      "source": [
        "# Split data\n",
        "X = df_sub.iloc[:,4:-1]\n",
        "y = df_sub.iloc[:,-1]\n",
        "X_train, X_test, y_train, y_test = train_test_split(X, y, test_size=0.15, random_state=42)"
      ],
      "metadata": {
        "id": "o5a1cVU7kNM0"
      },
      "execution_count": 243,
      "outputs": []
    },
    {
      "cell_type": "code",
      "source": [
        "X"
      ],
      "metadata": {
        "colab": {
          "base_uri": "https://localhost:8080/",
          "height": 487
        },
        "id": "hAoo78zg4GcM",
        "outputId": "d0ac05c7-5d03-483e-913f-b01ece91a6fb"
      },
      "execution_count": 244,
      "outputs": [
        {
          "output_type": "execute_result",
          "data": {
            "text/plain": [
              "      CALIDAD_ALC  CALIDAD_CONDUC  CALIDAD_SDT_ra  CALIDAD_SDT_salin  \\\n",
              "0              10               0               1                 10   \n",
              "1              10               1              10                 10   \n",
              "2              10               1              10                 10   \n",
              "3              10               1              10                 10   \n",
              "4              10               0               1                  0   \n",
              "...           ...             ...             ...                ...   \n",
              "1063           10              -1               1                  0   \n",
              "1064           10               1              10                 10   \n",
              "1065           10              -1               1                  0   \n",
              "1066           10               0               1                 10   \n",
              "1067           10               0              10                 10   \n",
              "\n",
              "      CALIDAD_FLUO  CALIDAD_DUR  CALIDAD_COLI_FEC  CALIDAD_N_NO3  CALIDAD_AS  \\\n",
              "0               10            0                10             10           0   \n",
              "1               10            0                10              0           0   \n",
              "2                1            0                10             10         -10   \n",
              "3               10            0                10             10           0   \n",
              "4              -10            0                 0            -10          10   \n",
              "...            ...          ...               ...            ...         ...   \n",
              "1063           -10          -10                10            -10          10   \n",
              "1064           -10            0                10            -10          10   \n",
              "1065            10          -10                 0            -10          10   \n",
              "1066            10            0                10             10          10   \n",
              "1067             0            0                10             10          10   \n",
              "\n",
              "      CALIDAD_CD  CALIDAD_CR  CALIDAD_HG  CALIDAD_PB  CALIDAD_MN  CALIDAD_FE  \n",
              "0             10          10          10          10          10          10  \n",
              "1             10          10          10          10          10          10  \n",
              "2             10          10          10          10          10          10  \n",
              "3             10          10          10          10          10          10  \n",
              "4             10          10          10          10          10          10  \n",
              "...          ...         ...         ...         ...         ...         ...  \n",
              "1063          10          10          10          10          10          10  \n",
              "1064          10          10          10          10          10          10  \n",
              "1065          10          10          10          10          10          10  \n",
              "1066          10          10          10          10          10          10  \n",
              "1067          10          10          10          10          10          10  \n",
              "\n",
              "[1068 rows x 15 columns]"
            ],
            "text/html": [
              "\n",
              "  <div id=\"df-1270b3b6-a031-4295-a54c-62f3809c0eae\">\n",
              "    <div class=\"colab-df-container\">\n",
              "      <div>\n",
              "<style scoped>\n",
              "    .dataframe tbody tr th:only-of-type {\n",
              "        vertical-align: middle;\n",
              "    }\n",
              "\n",
              "    .dataframe tbody tr th {\n",
              "        vertical-align: top;\n",
              "    }\n",
              "\n",
              "    .dataframe thead th {\n",
              "        text-align: right;\n",
              "    }\n",
              "</style>\n",
              "<table border=\"1\" class=\"dataframe\">\n",
              "  <thead>\n",
              "    <tr style=\"text-align: right;\">\n",
              "      <th></th>\n",
              "      <th>CALIDAD_ALC</th>\n",
              "      <th>CALIDAD_CONDUC</th>\n",
              "      <th>CALIDAD_SDT_ra</th>\n",
              "      <th>CALIDAD_SDT_salin</th>\n",
              "      <th>CALIDAD_FLUO</th>\n",
              "      <th>CALIDAD_DUR</th>\n",
              "      <th>CALIDAD_COLI_FEC</th>\n",
              "      <th>CALIDAD_N_NO3</th>\n",
              "      <th>CALIDAD_AS</th>\n",
              "      <th>CALIDAD_CD</th>\n",
              "      <th>CALIDAD_CR</th>\n",
              "      <th>CALIDAD_HG</th>\n",
              "      <th>CALIDAD_PB</th>\n",
              "      <th>CALIDAD_MN</th>\n",
              "      <th>CALIDAD_FE</th>\n",
              "    </tr>\n",
              "  </thead>\n",
              "  <tbody>\n",
              "    <tr>\n",
              "      <th>0</th>\n",
              "      <td>10</td>\n",
              "      <td>0</td>\n",
              "      <td>1</td>\n",
              "      <td>10</td>\n",
              "      <td>10</td>\n",
              "      <td>0</td>\n",
              "      <td>10</td>\n",
              "      <td>10</td>\n",
              "      <td>0</td>\n",
              "      <td>10</td>\n",
              "      <td>10</td>\n",
              "      <td>10</td>\n",
              "      <td>10</td>\n",
              "      <td>10</td>\n",
              "      <td>10</td>\n",
              "    </tr>\n",
              "    <tr>\n",
              "      <th>1</th>\n",
              "      <td>10</td>\n",
              "      <td>1</td>\n",
              "      <td>10</td>\n",
              "      <td>10</td>\n",
              "      <td>10</td>\n",
              "      <td>0</td>\n",
              "      <td>10</td>\n",
              "      <td>0</td>\n",
              "      <td>0</td>\n",
              "      <td>10</td>\n",
              "      <td>10</td>\n",
              "      <td>10</td>\n",
              "      <td>10</td>\n",
              "      <td>10</td>\n",
              "      <td>10</td>\n",
              "    </tr>\n",
              "    <tr>\n",
              "      <th>2</th>\n",
              "      <td>10</td>\n",
              "      <td>1</td>\n",
              "      <td>10</td>\n",
              "      <td>10</td>\n",
              "      <td>1</td>\n",
              "      <td>0</td>\n",
              "      <td>10</td>\n",
              "      <td>10</td>\n",
              "      <td>-10</td>\n",
              "      <td>10</td>\n",
              "      <td>10</td>\n",
              "      <td>10</td>\n",
              "      <td>10</td>\n",
              "      <td>10</td>\n",
              "      <td>10</td>\n",
              "    </tr>\n",
              "    <tr>\n",
              "      <th>3</th>\n",
              "      <td>10</td>\n",
              "      <td>1</td>\n",
              "      <td>10</td>\n",
              "      <td>10</td>\n",
              "      <td>10</td>\n",
              "      <td>0</td>\n",
              "      <td>10</td>\n",
              "      <td>10</td>\n",
              "      <td>0</td>\n",
              "      <td>10</td>\n",
              "      <td>10</td>\n",
              "      <td>10</td>\n",
              "      <td>10</td>\n",
              "      <td>10</td>\n",
              "      <td>10</td>\n",
              "    </tr>\n",
              "    <tr>\n",
              "      <th>4</th>\n",
              "      <td>10</td>\n",
              "      <td>0</td>\n",
              "      <td>1</td>\n",
              "      <td>0</td>\n",
              "      <td>-10</td>\n",
              "      <td>0</td>\n",
              "      <td>0</td>\n",
              "      <td>-10</td>\n",
              "      <td>10</td>\n",
              "      <td>10</td>\n",
              "      <td>10</td>\n",
              "      <td>10</td>\n",
              "      <td>10</td>\n",
              "      <td>10</td>\n",
              "      <td>10</td>\n",
              "    </tr>\n",
              "    <tr>\n",
              "      <th>...</th>\n",
              "      <td>...</td>\n",
              "      <td>...</td>\n",
              "      <td>...</td>\n",
              "      <td>...</td>\n",
              "      <td>...</td>\n",
              "      <td>...</td>\n",
              "      <td>...</td>\n",
              "      <td>...</td>\n",
              "      <td>...</td>\n",
              "      <td>...</td>\n",
              "      <td>...</td>\n",
              "      <td>...</td>\n",
              "      <td>...</td>\n",
              "      <td>...</td>\n",
              "      <td>...</td>\n",
              "    </tr>\n",
              "    <tr>\n",
              "      <th>1063</th>\n",
              "      <td>10</td>\n",
              "      <td>-1</td>\n",
              "      <td>1</td>\n",
              "      <td>0</td>\n",
              "      <td>-10</td>\n",
              "      <td>-10</td>\n",
              "      <td>10</td>\n",
              "      <td>-10</td>\n",
              "      <td>10</td>\n",
              "      <td>10</td>\n",
              "      <td>10</td>\n",
              "      <td>10</td>\n",
              "      <td>10</td>\n",
              "      <td>10</td>\n",
              "      <td>10</td>\n",
              "    </tr>\n",
              "    <tr>\n",
              "      <th>1064</th>\n",
              "      <td>10</td>\n",
              "      <td>1</td>\n",
              "      <td>10</td>\n",
              "      <td>10</td>\n",
              "      <td>-10</td>\n",
              "      <td>0</td>\n",
              "      <td>10</td>\n",
              "      <td>-10</td>\n",
              "      <td>10</td>\n",
              "      <td>10</td>\n",
              "      <td>10</td>\n",
              "      <td>10</td>\n",
              "      <td>10</td>\n",
              "      <td>10</td>\n",
              "      <td>10</td>\n",
              "    </tr>\n",
              "    <tr>\n",
              "      <th>1065</th>\n",
              "      <td>10</td>\n",
              "      <td>-1</td>\n",
              "      <td>1</td>\n",
              "      <td>0</td>\n",
              "      <td>10</td>\n",
              "      <td>-10</td>\n",
              "      <td>0</td>\n",
              "      <td>-10</td>\n",
              "      <td>10</td>\n",
              "      <td>10</td>\n",
              "      <td>10</td>\n",
              "      <td>10</td>\n",
              "      <td>10</td>\n",
              "      <td>10</td>\n",
              "      <td>10</td>\n",
              "    </tr>\n",
              "    <tr>\n",
              "      <th>1066</th>\n",
              "      <td>10</td>\n",
              "      <td>0</td>\n",
              "      <td>1</td>\n",
              "      <td>10</td>\n",
              "      <td>10</td>\n",
              "      <td>0</td>\n",
              "      <td>10</td>\n",
              "      <td>10</td>\n",
              "      <td>10</td>\n",
              "      <td>10</td>\n",
              "      <td>10</td>\n",
              "      <td>10</td>\n",
              "      <td>10</td>\n",
              "      <td>10</td>\n",
              "      <td>10</td>\n",
              "    </tr>\n",
              "    <tr>\n",
              "      <th>1067</th>\n",
              "      <td>10</td>\n",
              "      <td>0</td>\n",
              "      <td>10</td>\n",
              "      <td>10</td>\n",
              "      <td>0</td>\n",
              "      <td>0</td>\n",
              "      <td>10</td>\n",
              "      <td>10</td>\n",
              "      <td>10</td>\n",
              "      <td>10</td>\n",
              "      <td>10</td>\n",
              "      <td>10</td>\n",
              "      <td>10</td>\n",
              "      <td>10</td>\n",
              "      <td>10</td>\n",
              "    </tr>\n",
              "  </tbody>\n",
              "</table>\n",
              "<p>1068 rows × 15 columns</p>\n",
              "</div>\n",
              "      <button class=\"colab-df-convert\" onclick=\"convertToInteractive('df-1270b3b6-a031-4295-a54c-62f3809c0eae')\"\n",
              "              title=\"Convert this dataframe to an interactive table.\"\n",
              "              style=\"display:none;\">\n",
              "        \n",
              "  <svg xmlns=\"http://www.w3.org/2000/svg\" height=\"24px\"viewBox=\"0 0 24 24\"\n",
              "       width=\"24px\">\n",
              "    <path d=\"M0 0h24v24H0V0z\" fill=\"none\"/>\n",
              "    <path d=\"M18.56 5.44l.94 2.06.94-2.06 2.06-.94-2.06-.94-.94-2.06-.94 2.06-2.06.94zm-11 1L8.5 8.5l.94-2.06 2.06-.94-2.06-.94L8.5 2.5l-.94 2.06-2.06.94zm10 10l.94 2.06.94-2.06 2.06-.94-2.06-.94-.94-2.06-.94 2.06-2.06.94z\"/><path d=\"M17.41 7.96l-1.37-1.37c-.4-.4-.92-.59-1.43-.59-.52 0-1.04.2-1.43.59L10.3 9.45l-7.72 7.72c-.78.78-.78 2.05 0 2.83L4 21.41c.39.39.9.59 1.41.59.51 0 1.02-.2 1.41-.59l7.78-7.78 2.81-2.81c.8-.78.8-2.07 0-2.86zM5.41 20L4 18.59l7.72-7.72 1.47 1.35L5.41 20z\"/>\n",
              "  </svg>\n",
              "      </button>\n",
              "      \n",
              "  <style>\n",
              "    .colab-df-container {\n",
              "      display:flex;\n",
              "      flex-wrap:wrap;\n",
              "      gap: 12px;\n",
              "    }\n",
              "\n",
              "    .colab-df-convert {\n",
              "      background-color: #E8F0FE;\n",
              "      border: none;\n",
              "      border-radius: 50%;\n",
              "      cursor: pointer;\n",
              "      display: none;\n",
              "      fill: #1967D2;\n",
              "      height: 32px;\n",
              "      padding: 0 0 0 0;\n",
              "      width: 32px;\n",
              "    }\n",
              "\n",
              "    .colab-df-convert:hover {\n",
              "      background-color: #E2EBFA;\n",
              "      box-shadow: 0px 1px 2px rgba(60, 64, 67, 0.3), 0px 1px 3px 1px rgba(60, 64, 67, 0.15);\n",
              "      fill: #174EA6;\n",
              "    }\n",
              "\n",
              "    [theme=dark] .colab-df-convert {\n",
              "      background-color: #3B4455;\n",
              "      fill: #D2E3FC;\n",
              "    }\n",
              "\n",
              "    [theme=dark] .colab-df-convert:hover {\n",
              "      background-color: #434B5C;\n",
              "      box-shadow: 0px 1px 3px 1px rgba(0, 0, 0, 0.15);\n",
              "      filter: drop-shadow(0px 1px 2px rgba(0, 0, 0, 0.3));\n",
              "      fill: #FFFFFF;\n",
              "    }\n",
              "  </style>\n",
              "\n",
              "      <script>\n",
              "        const buttonEl =\n",
              "          document.querySelector('#df-1270b3b6-a031-4295-a54c-62f3809c0eae button.colab-df-convert');\n",
              "        buttonEl.style.display =\n",
              "          google.colab.kernel.accessAllowed ? 'block' : 'none';\n",
              "\n",
              "        async function convertToInteractive(key) {\n",
              "          const element = document.querySelector('#df-1270b3b6-a031-4295-a54c-62f3809c0eae');\n",
              "          const dataTable =\n",
              "            await google.colab.kernel.invokeFunction('convertToInteractive',\n",
              "                                                     [key], {});\n",
              "          if (!dataTable) return;\n",
              "\n",
              "          const docLinkHtml = 'Like what you see? Visit the ' +\n",
              "            '<a target=\"_blank\" href=https://colab.research.google.com/notebooks/data_table.ipynb>data table notebook</a>'\n",
              "            + ' to learn more about interactive tables.';\n",
              "          element.innerHTML = '';\n",
              "          dataTable['output_type'] = 'display_data';\n",
              "          await google.colab.output.renderOutput(dataTable, element);\n",
              "          const docLink = document.createElement('div');\n",
              "          docLink.innerHTML = docLinkHtml;\n",
              "          element.appendChild(docLink);\n",
              "        }\n",
              "      </script>\n",
              "    </div>\n",
              "  </div>\n",
              "  "
            ]
          },
          "metadata": {},
          "execution_count": 244
        }
      ]
    },
    {
      "cell_type": "code",
      "source": [
        "classifierRF = RandomForestClassifier(n_estimators=500, max_leaf_nodes=15, n_jobs=-1)\n",
        "classifierRF.fit(X_train, y_train)"
      ],
      "metadata": {
        "colab": {
          "base_uri": "https://localhost:8080/"
        },
        "id": "MA1wxZsxkyuG",
        "outputId": "e84f862f-1c96-4d88-c2a7-aee28e5031a0"
      },
      "execution_count": 227,
      "outputs": [
        {
          "output_type": "execute_result",
          "data": {
            "text/plain": [
              "RandomForestClassifier(max_leaf_nodes=15, n_estimators=500, n_jobs=-1)"
            ]
          },
          "metadata": {},
          "execution_count": 227
        }
      ]
    },
    {
      "cell_type": "markdown",
      "source": [
        "# Feature Importance"
      ],
      "metadata": {
        "id": "s-4uzJ58neMk"
      }
    },
    {
      "cell_type": "code",
      "source": [
        "featureImportances = {}\n",
        "for name, score in zip(df_sub.columns[4:-1], classifierRF.feature_importances_):\n",
        "  featureImportances[name] = score\n",
        "  print('{0:20s} -> {1:6.3f}'.format(name, score*100))"
      ],
      "metadata": {
        "colab": {
          "base_uri": "https://localhost:8080/"
        },
        "id": "VYpKzwCdlhrJ",
        "outputId": "b2bf2786-6f42-423c-94cb-c461f9638027"
      },
      "execution_count": 251,
      "outputs": [
        {
          "output_type": "stream",
          "name": "stdout",
          "text": [
            "CALIDAD_ALC          ->  9.154\n",
            "CALIDAD_CONDUC       ->  5.576\n",
            "CALIDAD_SDT_ra       ->  4.742\n",
            "CALIDAD_SDT_salin    -> 10.454\n",
            "CALIDAD_FLUO         ->  9.113\n",
            "CALIDAD_DUR          ->  5.813\n",
            "CALIDAD_COLI_FEC     -> 13.385\n",
            "CALIDAD_N_NO3        -> 12.976\n",
            "CALIDAD_AS           ->  9.892\n",
            "CALIDAD_CD           ->  6.787\n",
            "CALIDAD_CR           ->  5.264\n",
            "CALIDAD_HG           ->  0.017\n",
            "CALIDAD_PB           ->  0.273\n",
            "CALIDAD_MN           ->  0.000\n",
            "CALIDAD_FE           ->  0.150\n"
          ]
        }
      ]
    },
    {
      "cell_type": "code",
      "source": [
        "_ = pd.DataFrame(featureImportances, index=[0]).T\n",
        "_"
      ],
      "metadata": {
        "colab": {
          "base_uri": "https://localhost:8080/",
          "height": 519
        },
        "id": "CwHD8USZoaSm",
        "outputId": "c7761d46-f87f-4e6b-9ea6-9b722a67109d"
      },
      "execution_count": 252,
      "outputs": [
        {
          "output_type": "execute_result",
          "data": {
            "text/plain": [
              "                          0\n",
              "CALIDAD_ALC        0.091540\n",
              "CALIDAD_CONDUC     0.055758\n",
              "CALIDAD_SDT_ra     0.047416\n",
              "CALIDAD_SDT_salin  0.104544\n",
              "CALIDAD_FLUO       0.091127\n",
              "CALIDAD_DUR        0.058131\n",
              "CALIDAD_COLI_FEC   0.133846\n",
              "CALIDAD_N_NO3      0.129759\n",
              "CALIDAD_AS         0.098923\n",
              "CALIDAD_CD         0.067874\n",
              "CALIDAD_CR         0.052641\n",
              "CALIDAD_HG         0.000166\n",
              "CALIDAD_PB         0.002729\n",
              "CALIDAD_MN         0.000000\n",
              "CALIDAD_FE         0.001502"
            ],
            "text/html": [
              "\n",
              "  <div id=\"df-f2f66aa3-cb46-4221-9931-adb541a617f3\">\n",
              "    <div class=\"colab-df-container\">\n",
              "      <div>\n",
              "<style scoped>\n",
              "    .dataframe tbody tr th:only-of-type {\n",
              "        vertical-align: middle;\n",
              "    }\n",
              "\n",
              "    .dataframe tbody tr th {\n",
              "        vertical-align: top;\n",
              "    }\n",
              "\n",
              "    .dataframe thead th {\n",
              "        text-align: right;\n",
              "    }\n",
              "</style>\n",
              "<table border=\"1\" class=\"dataframe\">\n",
              "  <thead>\n",
              "    <tr style=\"text-align: right;\">\n",
              "      <th></th>\n",
              "      <th>0</th>\n",
              "    </tr>\n",
              "  </thead>\n",
              "  <tbody>\n",
              "    <tr>\n",
              "      <th>CALIDAD_ALC</th>\n",
              "      <td>0.091540</td>\n",
              "    </tr>\n",
              "    <tr>\n",
              "      <th>CALIDAD_CONDUC</th>\n",
              "      <td>0.055758</td>\n",
              "    </tr>\n",
              "    <tr>\n",
              "      <th>CALIDAD_SDT_ra</th>\n",
              "      <td>0.047416</td>\n",
              "    </tr>\n",
              "    <tr>\n",
              "      <th>CALIDAD_SDT_salin</th>\n",
              "      <td>0.104544</td>\n",
              "    </tr>\n",
              "    <tr>\n",
              "      <th>CALIDAD_FLUO</th>\n",
              "      <td>0.091127</td>\n",
              "    </tr>\n",
              "    <tr>\n",
              "      <th>CALIDAD_DUR</th>\n",
              "      <td>0.058131</td>\n",
              "    </tr>\n",
              "    <tr>\n",
              "      <th>CALIDAD_COLI_FEC</th>\n",
              "      <td>0.133846</td>\n",
              "    </tr>\n",
              "    <tr>\n",
              "      <th>CALIDAD_N_NO3</th>\n",
              "      <td>0.129759</td>\n",
              "    </tr>\n",
              "    <tr>\n",
              "      <th>CALIDAD_AS</th>\n",
              "      <td>0.098923</td>\n",
              "    </tr>\n",
              "    <tr>\n",
              "      <th>CALIDAD_CD</th>\n",
              "      <td>0.067874</td>\n",
              "    </tr>\n",
              "    <tr>\n",
              "      <th>CALIDAD_CR</th>\n",
              "      <td>0.052641</td>\n",
              "    </tr>\n",
              "    <tr>\n",
              "      <th>CALIDAD_HG</th>\n",
              "      <td>0.000166</td>\n",
              "    </tr>\n",
              "    <tr>\n",
              "      <th>CALIDAD_PB</th>\n",
              "      <td>0.002729</td>\n",
              "    </tr>\n",
              "    <tr>\n",
              "      <th>CALIDAD_MN</th>\n",
              "      <td>0.000000</td>\n",
              "    </tr>\n",
              "    <tr>\n",
              "      <th>CALIDAD_FE</th>\n",
              "      <td>0.001502</td>\n",
              "    </tr>\n",
              "  </tbody>\n",
              "</table>\n",
              "</div>\n",
              "      <button class=\"colab-df-convert\" onclick=\"convertToInteractive('df-f2f66aa3-cb46-4221-9931-adb541a617f3')\"\n",
              "              title=\"Convert this dataframe to an interactive table.\"\n",
              "              style=\"display:none;\">\n",
              "        \n",
              "  <svg xmlns=\"http://www.w3.org/2000/svg\" height=\"24px\"viewBox=\"0 0 24 24\"\n",
              "       width=\"24px\">\n",
              "    <path d=\"M0 0h24v24H0V0z\" fill=\"none\"/>\n",
              "    <path d=\"M18.56 5.44l.94 2.06.94-2.06 2.06-.94-2.06-.94-.94-2.06-.94 2.06-2.06.94zm-11 1L8.5 8.5l.94-2.06 2.06-.94-2.06-.94L8.5 2.5l-.94 2.06-2.06.94zm10 10l.94 2.06.94-2.06 2.06-.94-2.06-.94-.94-2.06-.94 2.06-2.06.94z\"/><path d=\"M17.41 7.96l-1.37-1.37c-.4-.4-.92-.59-1.43-.59-.52 0-1.04.2-1.43.59L10.3 9.45l-7.72 7.72c-.78.78-.78 2.05 0 2.83L4 21.41c.39.39.9.59 1.41.59.51 0 1.02-.2 1.41-.59l7.78-7.78 2.81-2.81c.8-.78.8-2.07 0-2.86zM5.41 20L4 18.59l7.72-7.72 1.47 1.35L5.41 20z\"/>\n",
              "  </svg>\n",
              "      </button>\n",
              "      \n",
              "  <style>\n",
              "    .colab-df-container {\n",
              "      display:flex;\n",
              "      flex-wrap:wrap;\n",
              "      gap: 12px;\n",
              "    }\n",
              "\n",
              "    .colab-df-convert {\n",
              "      background-color: #E8F0FE;\n",
              "      border: none;\n",
              "      border-radius: 50%;\n",
              "      cursor: pointer;\n",
              "      display: none;\n",
              "      fill: #1967D2;\n",
              "      height: 32px;\n",
              "      padding: 0 0 0 0;\n",
              "      width: 32px;\n",
              "    }\n",
              "\n",
              "    .colab-df-convert:hover {\n",
              "      background-color: #E2EBFA;\n",
              "      box-shadow: 0px 1px 2px rgba(60, 64, 67, 0.3), 0px 1px 3px 1px rgba(60, 64, 67, 0.15);\n",
              "      fill: #174EA6;\n",
              "    }\n",
              "\n",
              "    [theme=dark] .colab-df-convert {\n",
              "      background-color: #3B4455;\n",
              "      fill: #D2E3FC;\n",
              "    }\n",
              "\n",
              "    [theme=dark] .colab-df-convert:hover {\n",
              "      background-color: #434B5C;\n",
              "      box-shadow: 0px 1px 3px 1px rgba(0, 0, 0, 0.15);\n",
              "      filter: drop-shadow(0px 1px 2px rgba(0, 0, 0, 0.3));\n",
              "      fill: #FFFFFF;\n",
              "    }\n",
              "  </style>\n",
              "\n",
              "      <script>\n",
              "        const buttonEl =\n",
              "          document.querySelector('#df-f2f66aa3-cb46-4221-9931-adb541a617f3 button.colab-df-convert');\n",
              "        buttonEl.style.display =\n",
              "          google.colab.kernel.accessAllowed ? 'block' : 'none';\n",
              "\n",
              "        async function convertToInteractive(key) {\n",
              "          const element = document.querySelector('#df-f2f66aa3-cb46-4221-9931-adb541a617f3');\n",
              "          const dataTable =\n",
              "            await google.colab.kernel.invokeFunction('convertToInteractive',\n",
              "                                                     [key], {});\n",
              "          if (!dataTable) return;\n",
              "\n",
              "          const docLinkHtml = 'Like what you see? Visit the ' +\n",
              "            '<a target=\"_blank\" href=https://colab.research.google.com/notebooks/data_table.ipynb>data table notebook</a>'\n",
              "            + ' to learn more about interactive tables.';\n",
              "          element.innerHTML = '';\n",
              "          dataTable['output_type'] = 'display_data';\n",
              "          await google.colab.output.renderOutput(dataTable, element);\n",
              "          const docLink = document.createElement('div');\n",
              "          docLink.innerHTML = docLinkHtml;\n",
              "          element.appendChild(docLink);\n",
              "        }\n",
              "      </script>\n",
              "    </div>\n",
              "  </div>\n",
              "  "
            ]
          },
          "metadata": {},
          "execution_count": 252
        }
      ]
    },
    {
      "cell_type": "code",
      "source": [
        "import pandas as pd\n",
        "import matplotlib.pyplot as plt\n",
        "from matplotlib.ticker import PercentFormatter\n",
        "\n",
        "_.rename(columns={0:'Importancia'}, inplace=True)\n",
        "_ = _.sort_values(by='Importancia',ascending=False)\n",
        "_[\"Importancia_porcentaje\"] = _[\"Importancia\"].cumsum()/_[\"Importancia\"].sum()*100\n",
        "\n",
        "\n",
        "fig, ax = plt.subplots(figsize=(16,9))\n",
        "ax.bar(_.index, _[\"Importancia\"], color=\"C0\")\n",
        "ax2 = ax.twinx()\n",
        "ax2.plot(_.index, _[\"Importancia_porcentaje\"], color=\"C1\", marker=\"D\", ms=7)\n",
        "ax2.yaxis.set_major_formatter(PercentFormatter())\n",
        "\n",
        "ax.tick_params(axis=\"y\", colors=\"C0\")\n",
        "ax2.tick_params(axis=\"y\", colors=\"C1\")\n",
        "ax.set_xticklabels(_.index, rotation = 45)\n",
        "plt.show()\n"
      ],
      "metadata": {
        "colab": {
          "base_uri": "https://localhost:8080/",
          "height": 606
        },
        "id": "b3pnnlvqoQl1",
        "outputId": "c44c1b32-2d03-4f14-e34f-85931383431c"
      },
      "execution_count": 253,
      "outputs": [
        {
          "output_type": "display_data",
          "data": {
            "text/plain": [
              "<Figure size 1152x648 with 2 Axes>"
            ],
            "image/png": "[encoded data removed]"
          },
          "metadata": {}
        }
      ]
    },
    {
      "cell_type": "code",
      "source": [
        "# nos quedamos sólo con 11 de 15 propiedades\n",
        "mostImportantFeatures = ['CALIDAD_CONDUC',\n",
        "                         'CALIDAD_FLUO',\n",
        "                         'CALIDAD_DUR',\n",
        "                         'CALIDAD_N_NO3',\n",
        "                         'CALIDAD_FE',\n",
        "                         'CALIDAD_ALC',\n",
        "                         'CALIDAD_MN',\n",
        "                         'CALIDAD_COLI_FEC',\n",
        "                         'CALIDAD_SDT_ra',\n",
        "                         'CALIDAD_SDT_salin',\n",
        "                         'CALIDAD_AS'\n",
        "]"
      ],
      "metadata": {
        "id": "S8Z9Vy0TqAm8"
      },
      "execution_count": 254,
      "outputs": []
    },
    {
      "cell_type": "code",
      "source": [
        "# Split de información con los features más importantes\n",
        "df_sub2 = df_sub[mostImportantFeatures+['SemaforoCalidad']]\n",
        "X = df_sub2.iloc[:,:-1]\n",
        "y = df_sub2.iloc[:,-1]\n",
        "X_train, X_test, y_train, y_test = train_test_split(X, y, test_size=0.15, random_state=42)\n",
        "kfold = RepeatedStratifiedKFold(n_splits=5, n_repeats=2)\n",
        "pipeline = Pipeline(steps=[\n",
        "    ('rf', classifierRF),\n",
        "])\n",
        "delta_train_sz = np.linspace(0.1, 1.0, num=15, endpoint=True, retstep=False, dtype=None, axis=0)\n",
        "tr_sizes, tr_scores, val_scores = learning_curve(estimator = pipeline,    \n",
        "                                                X = X_train,\n",
        "                                                y = y_train,\n",
        "                                                cv = kfold,\n",
        "                                                train_sizes = delta_train_sz,\n",
        "                                                random_state=42)\n"
      ],
      "metadata": {
        "colab": {
          "base_uri": "https://localhost:8080/"
        },
        "id": "2Oh6DethrNBe",
        "outputId": "49b4994c-3141-4fb3-9b4e-fe451c846792"
      },
      "execution_count": 255,
      "outputs": [
        {
          "output_type": "stream",
          "name": "stderr",
          "text": [
            "/usr/local/lib/python3.7/dist-packages/sklearn/model_selection/_split.py:680: UserWarning: The least populated class in y has only 1 members, which is less than n_splits=5.\n",
            "  UserWarning,\n",
            "/usr/local/lib/python3.7/dist-packages/sklearn/model_selection/_split.py:680: UserWarning: The least populated class in y has only 1 members, which is less than n_splits=5.\n",
            "  UserWarning,\n"
          ]
        }
      ]
    },
    {
      "cell_type": "code",
      "source": [
        "def mi_LearningCurvePlot(train_sizes, train_scores, val_scores, titulo, etiquetaX, etiquetaY):\n",
        "\n",
        "    # Argumentos de entrada de la función mi_LearningCurvePlot:\n",
        "    #      train_sizes : número de observaciones en el conjunto de entrenamiento.\n",
        "    #      train_scores : Exactitud de cada partición en el proceso de Validación-Cruzada (VC) en los datos de entrenamiento.\n",
        "    #                     La dimensión de este conjunto es (pxq) \n",
        "    #                                     donde p=\"número de particiones de manera incremental del conjunto de entrenamiento\".\n",
        "    #                                           q=\"número de particiones de VC\" * \"número de repeticiones de VC con RepitedStratifiedCV\"\n",
        "    #      val_scores : Exactitud de cada partición en el proceso de Validación-Cruzada en los datos de validación.\n",
        "    #                   Es de la misma dimensión que los train_scores. \n",
        "    # Output: la salida es el gráfico con las curvas de aprendizaje.\n",
        "\n",
        "    # Obtenemos los promedios y desviaciones estándar de cada renglón de los resultados de entrenamiento y validación\n",
        "    # La dimensión de cada uno es p=\"número de particiones de manera incremental del conjunto de entrenamiento\".\n",
        "    train_mean = np.mean(train_scores, axis=1)\n",
        "    train_std = np.std(train_scores, axis=1)\n",
        "    val_mean = np.mean(val_scores, axis=1)\n",
        "    val_std = np.std(val_scores, axis=1)\n",
        "\n",
        "    # Graficamos las curvas de aprendizaje incluyendo una región indicando la desviación estándar.\n",
        "    plt.figure(figsize=(7,6))\n",
        "    plt.plot(train_sizes, train_mean, color='blue', marker='o', markersize=5, label='Training')\n",
        "    plt.fill_between(train_sizes, train_mean + train_std, train_mean - train_std, alpha=0.1, color='blue')\n",
        "    \n",
        "    plt.plot(train_sizes, val_mean, color='red', marker='+', markersize=5, linestyle='--', label='Validation')\n",
        "    plt.fill_between(train_sizes, val_mean + val_std, val_mean - val_std, alpha=0.1, color='red')\n",
        "    \n",
        "    plt.title(titulo)\n",
        "    plt.xlabel(etiquetaX)\n",
        "    plt.ylabel(etiquetaY)\n",
        "    plt.grid()\n",
        "    plt.legend(loc='lower left')\n",
        "    plt.show()\n"
      ],
      "metadata": {
        "id": "ojkwWeTosy0m"
      },
      "execution_count": 256,
      "outputs": []
    },
    {
      "cell_type": "code",
      "source": [
        "mi_LearningCurvePlot(tr_sizes, tr_scores, val_scores, 'Random Forest - Curvas de aprendizaje', 'Datos', 'Precisión')"
      ],
      "metadata": {
        "colab": {
          "base_uri": "https://localhost:8080/",
          "height": 404
        },
        "id": "0BthOHCnuQBk",
        "outputId": "6bdcdaf4-aa89-43c1-89de-258b9ca9554b"
      },
      "execution_count": 257,
      "outputs": [
        {
          "output_type": "display_data",
          "data": {
            "text/plain": [
              "<Figure size 504x432 with 1 Axes>"
            ],
            "image/png": "[encoded data removed]"
          },
          "metadata": {
            "needs_background": "light"
          }
        }
      ]
    },
    {
      "cell_type": "code",
      "source": [
        "delta_train_sz"
      ],
      "metadata": {
        "colab": {
          "base_uri": "https://localhost:8080/"
        },
        "id": "T7kviZnBvZzo",
        "outputId": "f589b3bf-42a5-4ae5-d178-1d9399d1eb73"
      },
      "execution_count": 258,
      "outputs": [
        {
          "output_type": "execute_result",
          "data": {
            "text/plain": [
              "array([0.1       , 0.16428571, 0.22857143, 0.29285714, 0.35714286,\n",
              "       0.42142857, 0.48571429, 0.55      , 0.61428571, 0.67857143,\n",
              "       0.74285714, 0.80714286, 0.87142857, 0.93571429, 1.        ])"
            ]
          },
          "metadata": {},
          "execution_count": 258
        }
      ]
    },
    {
      "cell_type": "code",
      "source": [
        "classifierDT = DecisionTreeClassifier(max_leaf_nodes=15)\n",
        "pipeline2 = Pipeline(steps=[\n",
        "    ('dt', classifierDT),\n",
        "])\n",
        "delta_train_sz = np.linspace(0.1, 1.0, num=15, endpoint=True, retstep=False, dtype=None, axis=0)\n",
        "tr_sizes, tr_scores, val_scores = learning_curve(estimator = pipeline2,    \n",
        "                                                X = X_train,\n",
        "                                                y = y_train,\n",
        "                                                cv = kfold,\n",
        "                                                train_sizes = delta_train_sz,\n",
        "                                                random_state=42)"
      ],
      "metadata": {
        "colab": {
          "base_uri": "https://localhost:8080/"
        },
        "id": "O8O5KHPGvflf",
        "outputId": "1d97f0b8-c30f-4529-f7fd-c36a5a9d2200"
      },
      "execution_count": 259,
      "outputs": [
        {
          "output_type": "stream",
          "name": "stderr",
          "text": [
            "/usr/local/lib/python3.7/dist-packages/sklearn/model_selection/_split.py:680: UserWarning: The least populated class in y has only 1 members, which is less than n_splits=5.\n",
            "  UserWarning,\n",
            "/usr/local/lib/python3.7/dist-packages/sklearn/model_selection/_split.py:680: UserWarning: The least populated class in y has only 1 members, which is less than n_splits=5.\n",
            "  UserWarning,\n"
          ]
        }
      ]
    },
    {
      "cell_type": "code",
      "source": [
        "mi_LearningCurvePlot(tr_sizes, tr_scores, val_scores, 'DecisionTree - Curvas de aprendizaje', 'Datos', 'Precisión')"
      ],
      "metadata": {
        "colab": {
          "base_uri": "https://localhost:8080/",
          "height": 404
        },
        "id": "KQTRu-j0yTma",
        "outputId": "f3d77ff1-6ec5-48e6-f372-400a91a3c0f8"
      },
      "execution_count": 260,
      "outputs": [
        {
          "output_type": "display_data",
          "data": {
            "text/plain": [
              "<Figure size 504x432 with 1 Axes>"
            ],
            "image/png": "[encoded data removed]"
          },
          "metadata": {
            "needs_background": "light"
          }
        }
      ]
    },
    {
      "cell_type": "code",
      "source": [],
      "metadata": {
        "id": "DYvXdsXAyYXr"
      },
      "execution_count": 260,
      "outputs": []
    }
  ]
}