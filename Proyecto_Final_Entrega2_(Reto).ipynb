{
  "nbformat": 4,
  "nbformat_minor": 0,
  "metadata": {
    "colab": {
      "provenance": [],
      "authorship_tag": "ABX9TyMAKg18o6zdLhKqVIWgBERc",
      "include_colab_link": true
    },
    "kernelspec": {
      "name": "python3",
      "display_name": "Python 3"
    },
    "language_info": {
      "name": "python"
    }
  },
  "cells": [
    {
      "cell_type": "markdown",
      "metadata": {
        "id": "view-in-github",
        "colab_type": "text"
      },
      "source": [
        "<a href=\"https://colab.research.google.com/github/PosgradoMNA/actividades-del-projecto-equipo_114/blob/main/Proyecto_Final_Entrega2_(Reto).ipynb\" target=\"_parent\"><img src=\"https://colab.research.google.com/assets/colab-badge.svg\" alt=\"Open In Colab\"/></a>"
      ]
    },
    {
      "cell_type": "markdown",
      "source": [],
      "metadata": {
        "id": "27P_1QlhUEbm"
      }
    },
    {
      "cell_type": "markdown",
      "source": [
        "# Ciencia y analítica de datos\n",
        "# Alumnos:\n",
        "# Javier Granados - A00566717\n",
        "# Josías Ruiz - A00968460\n",
        "# Profesor:\n",
        "# María de la Paz Rico Fernández\n",
        "# Entrega:\n",
        "# Reto-> Entrega 1 (16/11) -> Limpieza, análisis, visualización y kmeans\n",
        "# Fecha:\n",
        "# 16/11/2022"
      ],
      "metadata": {
        "id": "ivVpIW2hUEcf"
      }
    },
    {
      "cell_type": "code",
      "source": [
        "pip install geopandas"
      ],
      "metadata": {
        "id": "fqw-fUOYULF5",
        "colab": {
          "base_uri": "https://localhost:8080/"
        },
        "outputId": "23d5f21d-1954-4a2d-ce63-d2c1efb53b21"
      },
      "execution_count": 1,
      "outputs": [
        {
          "output_type": "stream",
          "name": "stdout",
          "text": [
            "Looking in indexes: https://pypi.org/simple, https://us-python.pkg.dev/colab-wheels/public/simple/\n",
            "Collecting geopandas\n",
            "  Downloading geopandas-0.10.2-py2.py3-none-any.whl (1.0 MB)\n",
            "\u001b[K     |████████████████████████████████| 1.0 MB 4.0 MB/s \n",
            "\u001b[?25hRequirement already satisfied: pandas>=0.25.0 in /usr/local/lib/python3.7/dist-packages (from geopandas) (1.3.5)\n",
            "Collecting fiona>=1.8\n",
            "  Downloading Fiona-1.8.22-cp37-cp37m-manylinux2014_x86_64.whl (16.7 MB)\n",
            "\u001b[K     |████████████████████████████████| 16.7 MB 36.2 MB/s \n",
            "\u001b[?25hCollecting pyproj>=2.2.0\n",
            "  Downloading pyproj-3.2.1-cp37-cp37m-manylinux2010_x86_64.whl (6.3 MB)\n",
            "\u001b[K     |████████████████████████████████| 6.3 MB 40.6 MB/s \n",
            "\u001b[?25hRequirement already satisfied: shapely>=1.6 in /usr/local/lib/python3.7/dist-packages (from geopandas) (1.8.5.post1)\n",
            "Requirement already satisfied: certifi in /usr/local/lib/python3.7/dist-packages (from fiona>=1.8->geopandas) (2022.9.24)\n",
            "Collecting click-plugins>=1.0\n",
            "  Downloading click_plugins-1.1.1-py2.py3-none-any.whl (7.5 kB)\n",
            "Collecting cligj>=0.5\n",
            "  Downloading cligj-0.7.2-py3-none-any.whl (7.1 kB)\n",
            "Requirement already satisfied: attrs>=17 in /usr/local/lib/python3.7/dist-packages (from fiona>=1.8->geopandas) (22.1.0)\n",
            "Requirement already satisfied: six>=1.7 in /usr/local/lib/python3.7/dist-packages (from fiona>=1.8->geopandas) (1.15.0)\n",
            "Requirement already satisfied: setuptools in /usr/local/lib/python3.7/dist-packages (from fiona>=1.8->geopandas) (57.4.0)\n",
            "Requirement already satisfied: click>=4.0 in /usr/local/lib/python3.7/dist-packages (from fiona>=1.8->geopandas) (7.1.2)\n",
            "Collecting munch\n",
            "  Downloading munch-2.5.0-py2.py3-none-any.whl (10 kB)\n",
            "Requirement already satisfied: pytz>=2017.3 in /usr/local/lib/python3.7/dist-packages (from pandas>=0.25.0->geopandas) (2022.6)\n",
            "Requirement already satisfied: python-dateutil>=2.7.3 in /usr/local/lib/python3.7/dist-packages (from pandas>=0.25.0->geopandas) (2.8.2)\n",
            "Requirement already satisfied: numpy>=1.17.3 in /usr/local/lib/python3.7/dist-packages (from pandas>=0.25.0->geopandas) (1.21.6)\n",
            "Installing collected packages: munch, cligj, click-plugins, pyproj, fiona, geopandas\n",
            "Successfully installed click-plugins-1.1.1 cligj-0.7.2 fiona-1.8.22 geopandas-0.10.2 munch-2.5.0 pyproj-3.2.1\n"
          ]
        }
      ]
    },
    {
      "cell_type": "code",
      "source": [
        "import pandas as pd\n",
        "import numpy as np\n",
        "import io\n",
        "import requests\n",
        "import urllib.request\n",
        "import csv\n",
        "import seaborn as sns\n",
        "import matplotlib.pyplot as plt\n",
        "import geopandas as gpd\n",
        "from shapely.geometry import Point\n",
        "\n",
        "pd.set_option('display.max_columns', None)"
      ],
      "metadata": {
        "id": "FfZ5JiFCUFDD"
      },
      "execution_count": 2,
      "outputs": []
    },
    {
      "cell_type": "code",
      "source": [
        "url1 = 'https://raw.githubusercontent.com/PosgradoMNA/actividades-del-projecto-equipo_114/main/Reto1/Datos_de_calidad_del_agua_de_sitios_de_monitoreo_de_aguas_subterraneas_2020.csv'\n",
        "url2 = 'https://raw.githubusercontent.com/PosgradoMNA/actividades-del-projecto-equipo_114/main/Reto1/Datos_de_calidad_del_agua_de_sitios_de_monitoreo_de_aguas_superficiales_2020.csv'"
      ],
      "metadata": {
        "id": "11kpWXLqUIIl"
      },
      "execution_count": 3,
      "outputs": []
    },
    {
      "cell_type": "code",
      "source": [
        "df_sub = pd.read_csv(url1, encoding_errors='ignore', error_bad_lines=False)\n",
        "df_sup = pd.read_csv(url2, encoding_errors='ignore', error_bad_lines=False)"
      ],
      "metadata": {
        "id": "WNaJZ5YnVuOg",
        "colab": {
          "base_uri": "https://localhost:8080/"
        },
        "outputId": "e3567c84-5249-4333-c988-aafa58776cae"
      },
      "execution_count": 4,
      "outputs": [
        {
          "output_type": "stream",
          "name": "stderr",
          "text": [
            "/usr/local/lib/python3.7/dist-packages/IPython/core/interactiveshell.py:3326: FutureWarning: The error_bad_lines argument has been deprecated and will be removed in a future version.\n",
            "\n",
            "\n",
            "  exec(code_obj, self.user_global_ns, self.user_ns)\n"
          ]
        }
      ]
    },
    {
      "cell_type": "markdown",
      "source": [
        "# Análisis de aguas subterráneas\n",
        "\n"
      ],
      "metadata": {
        "id": "rVDELQsmNUvs"
      }
    },
    {
      "cell_type": "markdown",
      "source": [
        "# Mapeado de Indicadores de calidad"
      ],
      "metadata": {
        "id": "oqrBec77V04w"
      }
    },
    {
      "cell_type": "code",
      "source": [
        "print(df_sub['CALIDAD_COLI_FEC'].isna().sum())\n",
        "print(df_sub['CALIDAD_COLI_FEC'].unique())\n",
        "df_sub['CALIDAD_COLI_FEC'].replace({\n",
        "    'Potable - Excelente':10,\n",
        "    'Buena calidad':1,\n",
        "    'Aceptable':0,\n",
        "    'Contaminada':-10,\n",
        "    'Fuertemente contaminada':-20\n",
        "}, inplace=True)"
      ],
      "metadata": {
        "id": "XJyFDNFoVv76",
        "colab": {
          "base_uri": "https://localhost:8080/"
        },
        "outputId": "8f0a47b2-4eef-4737-f752-b1494b7469c2"
      },
      "execution_count": 5,
      "outputs": [
        {
          "output_type": "stream",
          "name": "stdout",
          "text": [
            "0\n",
            "['Potable - Excelente' 'Aceptable' 'Contaminada' 'Buena calidad'\n",
            " 'Fuertemente contaminada']\n"
          ]
        }
      ]
    },
    {
      "cell_type": "code",
      "source": [
        "print(df_sub['CALIDAD_SDT_ra'].isna().sum())\n",
        "print(df_sub['CALIDAD_SDT_ra'].unique())\n",
        "df_sub['CALIDAD_SDT_ra'].fillna(df_sub['CALIDAD_SDT_ra'].mode().iloc[0], inplace=True)\n",
        "df_sub['CALIDAD_SDT_ra'].replace({\n",
        "    'Excelente para riego':10,\n",
        "    'Cultivos sensibles':1,\n",
        "    'Cultivos con manejo especial':1,\n",
        "    'Cultivos tolerantes':0,\n",
        "    'Indeseable para riego':-20\n",
        "}, inplace=True)"
      ],
      "metadata": {
        "id": "rEAxvioaV4kG",
        "colab": {
          "base_uri": "https://localhost:8080/"
        },
        "outputId": "257b772c-20d2-4757-f5e4-376eb7b8ee6f"
      },
      "execution_count": 6,
      "outputs": [
        {
          "output_type": "stream",
          "name": "stdout",
          "text": [
            "2\n",
            "['Cultivos sensibles' 'Excelente para riego'\n",
            " 'Cultivos con manejo especial' 'Cultivos tolerantes'\n",
            " 'Indeseable para riego' nan]\n"
          ]
        }
      ]
    },
    {
      "cell_type": "code",
      "source": [
        "print(df_sub['CALIDAD_SDT_salin'].isna().sum())\n",
        "print(df_sub['CALIDAD_SDT_salin'].unique())\n",
        "df_sub['CALIDAD_SDT_salin'].fillna(df_sub['CALIDAD_SDT_salin'].mode().iloc[0], inplace=True)\n",
        "df_sub['CALIDAD_SDT_salin'].replace({\n",
        "    'Potable - Dulce':10,\n",
        "    'Ligeramente salobres':0,\n",
        "    'Salobres':-10,\n",
        "    'Salinas':-20\n",
        "}, inplace=True)"
      ],
      "metadata": {
        "id": "RiYqmOvKV5nH",
        "colab": {
          "base_uri": "https://localhost:8080/"
        },
        "outputId": "374ca424-f32c-4ed7-9c82-1c4fa0abd55d"
      },
      "execution_count": 7,
      "outputs": [
        {
          "output_type": "stream",
          "name": "stdout",
          "text": [
            "2\n",
            "['Potable - Dulce' 'Ligeramente salobres' 'Salobres' 'Salinas' nan]\n"
          ]
        }
      ]
    },
    {
      "cell_type": "code",
      "source": [
        "print(df_sub['CALIDAD_CR'].isna().sum())\n",
        "print(df_sub['CALIDAD_CR'].unique())\n",
        "df_sub['CALIDAD_CR'].replace({\n",
        "    'Potable - Excelente':10,\n",
        "    'No apta como FAAP':-20\n",
        "}, inplace=True)"
      ],
      "metadata": {
        "id": "wDFLM13KV7Ku",
        "colab": {
          "base_uri": "https://localhost:8080/"
        },
        "outputId": "6b59a17d-4cdf-4911-ebbd-4669f95da059"
      },
      "execution_count": 8,
      "outputs": [
        {
          "output_type": "stream",
          "name": "stdout",
          "text": [
            "0\n",
            "['Potable - Excelente' 'No apta como FAAP']\n"
          ]
        }
      ]
    },
    {
      "cell_type": "code",
      "source": [
        "print(df_sub['CALIDAD_CONDUC'].isna().sum())\n",
        "print(df_sub['CALIDAD_CONDUC'].unique())\n",
        "df_sub['CALIDAD_CONDUC'].fillna(df_sub['CALIDAD_CONDUC'].mode().iloc[0], inplace=True)\n",
        "df_sub['CALIDAD_CONDUC'].replace({\n",
        "    'Permisible para riego':0,\n",
        "    'Buena para riego':1,\n",
        "    'Excelente para riego':10,\n",
        "    'Dudosa para riego':-10,\n",
        "    'Indeseable para riego':-20\n",
        "},inplace=True)"
      ],
      "metadata": {
        "id": "jBtVbnsQV8eX",
        "colab": {
          "base_uri": "https://localhost:8080/"
        },
        "outputId": "7e0b1cb3-e294-4df8-9964-a7afc64ef517"
      },
      "execution_count": 9,
      "outputs": [
        {
          "output_type": "stream",
          "name": "stdout",
          "text": [
            "6\n",
            "['Permisible para riego' 'Buena para riego' 'Dudosa para riego'\n",
            " 'Indeseable para riego' nan 'Excelente para riego']\n"
          ]
        }
      ]
    },
    {
      "cell_type": "code",
      "source": [
        "print(df_sub['CALIDAD_CD'].isna().sum())\n",
        "print(df_sub['CALIDAD_CD'].unique())\n",
        "df_sub['CALIDAD_CD'].replace({\n",
        "    'Potable - Excelente':10,\n",
        "    'No apta como FAAP':-20\n",
        "}, inplace=True)"
      ],
      "metadata": {
        "id": "C4R75UkpV91z",
        "colab": {
          "base_uri": "https://localhost:8080/"
        },
        "outputId": "1ff438ef-fc41-4d85-ff6d-29830142a654"
      },
      "execution_count": 10,
      "outputs": [
        {
          "output_type": "stream",
          "name": "stdout",
          "text": [
            "0\n",
            "['Potable - Excelente' 'No apta como FAAP']\n"
          ]
        }
      ]
    },
    {
      "cell_type": "code",
      "source": [
        "print(df_sub['CALIDAD_AS'].isna().sum())\n",
        "print(df_sub['CALIDAD_AS'].unique())\n",
        "df_sub['CALIDAD_AS'].replace({\n",
        "    'Apta como FAAP':0,\n",
        "    'No apta como FAAP':-10,\n",
        "    'Potable - Excelente':10,\n",
        "}, inplace=True)"
      ],
      "metadata": {
        "id": "w1Rj6R-TV_G9",
        "colab": {
          "base_uri": "https://localhost:8080/"
        },
        "outputId": "ac6fbd11-a085-4be6-d8f0-ce7e5fa129cf"
      },
      "execution_count": 11,
      "outputs": [
        {
          "output_type": "stream",
          "name": "stdout",
          "text": [
            "0\n",
            "['Apta como FAAP' 'No apta como FAAP' 'Potable - Excelente']\n"
          ]
        }
      ]
    },
    {
      "cell_type": "code",
      "source": [
        "print(df_sub['CALIDAD_ALC'].isna().sum())\n",
        "print(df_sub['CALIDAD_ALC'].unique())\n",
        "df_sub['CALIDAD_ALC'].fillna(df_sub['CALIDAD_ALC'].mode().iloc[0], inplace=True)\n",
        "df_sub['CALIDAD_ALC'].replace({\n",
        "    'Alta':10,\n",
        "    'Media':0,\n",
        "    'Baja':-10,\n",
        "    'Indeseable como FAAP':-20,\n",
        "}, inplace=True)"
      ],
      "metadata": {
        "id": "4IYGDQ9oWAme",
        "colab": {
          "base_uri": "https://localhost:8080/"
        },
        "outputId": "6596d08b-c83c-4551-af36-77681f7ae162"
      },
      "execution_count": 12,
      "outputs": [
        {
          "output_type": "stream",
          "name": "stdout",
          "text": [
            "4\n",
            "['Alta' 'Media' 'Baja' 'Indeseable como FAAP' nan]\n"
          ]
        }
      ]
    },
    {
      "cell_type": "code",
      "source": [
        "print(df_sub['CALIDAD_PB'].isna().sum())\n",
        "print(df_sub['CALIDAD_PB'].unique())\n",
        "df_sub['CALIDAD_PB'].replace({\n",
        "    'Potable - Excelente':10,\n",
        "    'No apta como FAAP':-20,\n",
        "}, inplace=True)"
      ],
      "metadata": {
        "id": "e6nvVPOnWBiQ",
        "colab": {
          "base_uri": "https://localhost:8080/"
        },
        "outputId": "82f481d5-aa2a-44c7-973b-7d1deda7a39c"
      },
      "execution_count": 13,
      "outputs": [
        {
          "output_type": "stream",
          "name": "stdout",
          "text": [
            "0\n",
            "['Potable - Excelente' 'No apta como FAAP']\n"
          ]
        }
      ]
    },
    {
      "cell_type": "code",
      "source": [
        "print(df_sub['CALIDAD_N_NO3'].isna().sum())\n",
        "print(df_sub['CALIDAD_N_NO3'].unique())\n",
        "df_sub['CALIDAD_N_NO3'].fillna(df_sub['CALIDAD_N_NO3'].mode().iloc[0], inplace=True)\n",
        "df_sub['CALIDAD_N_NO3'].replace({\n",
        "    'Potable - Excelente':10,\n",
        "    'Potable - Buena calidad':0,\n",
        "    'No apta como FAAP':-20,\n",
        "}, inplace=True)\n"
      ],
      "metadata": {
        "id": "OQKN1ZX5WC0d",
        "colab": {
          "base_uri": "https://localhost:8080/"
        },
        "outputId": "b0c59cb9-827e-4929-89dd-65903e49887d"
      },
      "execution_count": 14,
      "outputs": [
        {
          "output_type": "stream",
          "name": "stdout",
          "text": [
            "1\n",
            "['Potable - Excelente' 'Potable - Buena calidad' 'No apta como FAAP' nan]\n"
          ]
        }
      ]
    },
    {
      "cell_type": "code",
      "source": [
        "print(df_sub['CALIDAD_MN'].isna().sum())\n",
        "print(df_sub['CALIDAD_MN'].unique())\n",
        "df_sub['CALIDAD_MN'].replace({\n",
        "    'Potable - Excelente':10,\n",
        "    'Puede afectar la salud':-20,\n",
        "    'Sin efectos en la salud - Puede dar color al agua':-1,\n",
        "}, inplace=True)"
      ],
      "metadata": {
        "id": "UXQYtq9pWELh",
        "colab": {
          "base_uri": "https://localhost:8080/"
        },
        "outputId": "8de3045e-75a0-4198-90fc-f54e008e470b"
      },
      "execution_count": 15,
      "outputs": [
        {
          "output_type": "stream",
          "name": "stdout",
          "text": [
            "0\n",
            "['Potable - Excelente' 'Puede afectar la salud'\n",
            " 'Sin efectos en la salud - Puede dar color al agua']\n"
          ]
        }
      ]
    },
    {
      "cell_type": "code",
      "source": [
        "print(df_sub['CALIDAD_HG'].isna().sum())\n",
        "print(df_sub['CALIDAD_HG'].unique())\n",
        "df_sub['CALIDAD_HG'].replace({\n",
        "    'Potable - Excelente':10,\n",
        "    'No apta como FAAP':-20,\n",
        "}, inplace=True)"
      ],
      "metadata": {
        "id": "UwJMYBxTWGGw",
        "colab": {
          "base_uri": "https://localhost:8080/"
        },
        "outputId": "2a5b4f02-ef81-4a7a-a739-4c26d9185b73"
      },
      "execution_count": 16,
      "outputs": [
        {
          "output_type": "stream",
          "name": "stdout",
          "text": [
            "0\n",
            "['Potable - Excelente' 'No apta como FAAP']\n"
          ]
        }
      ]
    },
    {
      "cell_type": "code",
      "source": [
        "print(df_sub['CALIDAD_FLUO'].isna().sum())\n",
        "print(df_sub['CALIDAD_FLUO'].unique())\n",
        "df_sub['CALIDAD_FLUO'].replace({\n",
        "    'Potable - Optima':10,\n",
        "    'Alta':1,\n",
        "    'Baja':-10,\n",
        "    'Media':0,\n",
        "}, inplace=True)"
      ],
      "metadata": {
        "id": "C61aQP9EWHdW",
        "colab": {
          "base_uri": "https://localhost:8080/"
        },
        "outputId": "f7df1f50-cbd7-4334-92c4-0219fdd617eb"
      },
      "execution_count": 17,
      "outputs": [
        {
          "output_type": "stream",
          "name": "stdout",
          "text": [
            "0\n",
            "['Potable - Optima' 'Alta' 'Baja' 'Media']\n"
          ]
        }
      ]
    },
    {
      "cell_type": "code",
      "source": [
        "print(df_sub['CALIDAD_FE'].isna().sum())\n",
        "print(df_sub['CALIDAD_FE'].unique())\n",
        "df_sub['CALIDAD_FE'].replace({\n",
        "    'Potable - Excelente':10,\n",
        "    'Sin efectos en la salud - Puede dar color al agua':-1,\n",
        "}, inplace=True)"
      ],
      "metadata": {
        "id": "gx8A0E4dWJKp",
        "colab": {
          "base_uri": "https://localhost:8080/"
        },
        "outputId": "7d2d585a-3f5f-4bb6-88ef-71f207c260ab"
      },
      "execution_count": 18,
      "outputs": [
        {
          "output_type": "stream",
          "name": "stdout",
          "text": [
            "0\n",
            "['Potable - Excelente' 'Sin efectos en la salud - Puede dar color al agua']\n"
          ]
        }
      ]
    },
    {
      "cell_type": "code",
      "source": [
        "print(df_sub['CALIDAD_DUR'].isna().sum())\n",
        "print(df_sub['CALIDAD_DUR'].unique())\n",
        "df_sub['CALIDAD_DUR'].fillna(df_sub['CALIDAD_DUR'].mode().iloc[0], inplace=True)\n",
        "df_sub['CALIDAD_DUR'].replace({\n",
        "    'Potable - Dura':0,\n",
        "    'Muy dura e indeseable usos industrial y domestico':-10,\n",
        "    'Potable - Suave':10,\n",
        "    'Potable - Moderadamente suave':1,\n",
        "}, inplace=True)"
      ],
      "metadata": {
        "colab": {
          "base_uri": "https://localhost:8080/"
        },
        "id": "dkblNUCXWK0z",
        "outputId": "7137c926-1081-4d28-ce57-a7fca065362a"
      },
      "execution_count": 19,
      "outputs": [
        {
          "output_type": "stream",
          "name": "stdout",
          "text": [
            "1\n",
            "['Potable - Dura' 'Muy dura e indeseable usos industrial y domestico'\n",
            " 'Potable - Suave' 'Potable - Moderadamente suave' nan]\n"
          ]
        }
      ]
    },
    {
      "cell_type": "code",
      "source": [
        "conservarCols = ['ESTADO',\n",
        " 'LATITUD',\n",
        " 'LONGITUD',\n",
        " 'MUNICIPIO',\n",
        " 'CALIDAD_COLI_FEC',\n",
        " 'CALIDAD_SDT_ra',\n",
        " 'CALIDAD_SDT_salin',\n",
        " 'CALIDAD_CR',\n",
        " 'CALIDAD_CONDUC',\n",
        " 'CALIDAD_CD',\n",
        " 'CALIDAD_AS',\n",
        " 'CALIDAD_ALC',\n",
        " 'CALIDAD_PB',\n",
        " 'CALIDAD_N_NO3',\n",
        " 'CALIDAD_MN',\n",
        " 'CALIDAD_HG',\n",
        " 'CALIDAD_FLUO',\n",
        " 'CALIDAD_FE',\n",
        " 'CALIDAD_DUR',\n",
        " 'SEMAFORO',\n",
        " ]\n",
        "\n",
        "removerCols = [x for x in df_sub.columns if x not in conservarCols]"
      ],
      "metadata": {
        "id": "erJvCAFiWMSH"
      },
      "execution_count": 22,
      "outputs": []
    },
    {
      "cell_type": "code",
      "source": [
        "#removerCols\n",
        "df_sub['SEMAFORO'].replace({'Verde':1, 'Amarillo':2, 'Rojo':3}, inplace=True)"
      ],
      "metadata": {
        "id": "BxSENU8i4-dB"
      },
      "execution_count": 27,
      "outputs": []
    },
    {
      "cell_type": "code",
      "source": [
        "# Remover columnas qeu no utilizaremos\n",
        "df_sub.drop(columns=removerCols, inplace=True)"
      ],
      "metadata": {
        "id": "PW04mqvZWNmv"
      },
      "execution_count": 29,
      "outputs": []
    },
    {
      "cell_type": "code",
      "source": [
        "indicadoresCalidad = ['CALIDAD_ALC',\n",
        "                      'CALIDAD_CONDUC',\n",
        "                      'CALIDAD_SDT_ra',\n",
        "                      'CALIDAD_SDT_salin',\n",
        "                      'CALIDAD_FLUO',\n",
        "                      'CALIDAD_DUR',\n",
        "                      'CALIDAD_COLI_FEC',\n",
        "                      'CALIDAD_N_NO3',\n",
        "                      'CALIDAD_AS',\n",
        "                      'CALIDAD_CD',\n",
        "                      'CALIDAD_CR',\n",
        "                      'CALIDAD_HG',\n",
        "                      'CALIDAD_PB' ,\n",
        "                      'CALIDAD_MN',\n",
        "                      'CALIDAD_FE']"
      ],
      "metadata": {
        "id": "Q3g1BOHKWPo2"
      },
      "execution_count": null,
      "outputs": []
    },
    {
      "cell_type": "code",
      "source": [
        "#df_sub['SemaforoCalidad'] = df_sub[indicadoresCalidad].sum(axis=1)"
      ],
      "metadata": {
        "id": "QiuWtio_WWAE"
      },
      "execution_count": null,
      "outputs": []
    },
    {
      "cell_type": "code",
      "source": [
        "plt.scatter(df_sub.index, df_sub['SEMAFORO'])"
      ],
      "metadata": {
        "colab": {
          "base_uri": "https://localhost:8080/",
          "height": 283
        },
        "id": "Rai70P-tWxcP",
        "outputId": "18fb8591-7df4-48b2-f9be-de0f4119b368"
      },
      "execution_count": 30,
      "outputs": [
        {
          "output_type": "execute_result",
          "data": {
            "text/plain": [
              "<matplotlib.collections.PathCollection at 0x7f7b25ce3050>"
            ]
          },
          "metadata": {},
          "execution_count": 30
        },
        {
          "output_type": "display_data",
          "data": {
            "text/plain": [
              "<Figure size 432x288 with 1 Axes>"
            ],
            "image/png": "[encoded data removed]"
          },
          "metadata": {
            "needs_background": "light"
          }
        }
      ]
    },
    {
      "cell_type": "code",
      "source": [
        "plt.boxplot(df_sub['SEMAFORO'])"
      ],
      "metadata": {
        "colab": {
          "base_uri": "https://localhost:8080/",
          "height": 413
        },
        "id": "yyN5G29oW1on",
        "outputId": "ee44636e-3f6c-42c4-e607-47dbb9ba8a5e"
      },
      "execution_count": 31,
      "outputs": [
        {
          "output_type": "execute_result",
          "data": {
            "text/plain": [
              "{'whiskers': [<matplotlib.lines.Line2D at 0x7f7b24bfaa50>,\n",
              "  <matplotlib.lines.Line2D at 0x7f7b24bfaf90>],\n",
              " 'caps': [<matplotlib.lines.Line2D at 0x7f7b24b80510>,\n",
              "  <matplotlib.lines.Line2D at 0x7f7b24b80a50>],\n",
              " 'boxes': [<matplotlib.lines.Line2D at 0x7f7b25b55190>],\n",
              " 'medians': [<matplotlib.lines.Line2D at 0x7f7b24b80fd0>],\n",
              " 'fliers': [<matplotlib.lines.Line2D at 0x7f7b24b87550>],\n",
              " 'means': []}"
            ]
          },
          "metadata": {},
          "execution_count": 31
        },
        {
          "output_type": "display_data",
          "data": {
            "text/plain": [
              "<Figure size 432x288 with 1 Axes>"
            ],
            "image/png": "[encoded data removed]"
          },
          "metadata": {
            "needs_background": "light"
          }
        }
      ]
    },
    {
      "cell_type": "code",
      "source": [
        "df_sub['SEMAFORO'].describe()"
      ],
      "metadata": {
        "colab": {
          "base_uri": "https://localhost:8080/"
        },
        "id": "fprIl8Huiei9",
        "outputId": "5980fd55-113d-4e10-fed7-398176af1a6e"
      },
      "execution_count": 32,
      "outputs": [
        {
          "output_type": "execute_result",
          "data": {
            "text/plain": [
              "count    1068.000000\n",
              "mean        1.955993\n",
              "std         0.876076\n",
              "min         1.000000\n",
              "25%         1.000000\n",
              "50%         2.000000\n",
              "75%         3.000000\n",
              "max         3.000000\n",
              "Name: SEMAFORO, dtype: float64"
            ]
          },
          "metadata": {},
          "execution_count": 32
        }
      ]
    },
    {
      "cell_type": "code",
      "source": [
        "df_sub"
      ],
      "metadata": {
        "colab": {
          "base_uri": "https://localhost:8080/",
          "height": 539
        },
        "id": "DiEolJ35inOf",
        "outputId": "9a50ca58-496d-41c3-8f05-aba3e7b58183"
      },
      "execution_count": null,
      "outputs": [
        {
          "output_type": "execute_result",
          "data": {
            "text/plain": [
              "                   ESTADO          MUNICIPIO   LONGITUD   LATITUD  \\\n",
              "0          AGUASCALIENTES           ASIENTOS -102.02210  22.20887   \n",
              "1          AGUASCALIENTES     AGUASCALIENTES -102.20075  21.99958   \n",
              "2          AGUASCALIENTES              COSIO -102.28801  22.36685   \n",
              "3          AGUASCALIENTES    RINCON DE ROMOS -102.29449  22.18435   \n",
              "4     BAJA CALIFORNIA SUR             LA PAZ -110.24480  23.45138   \n",
              "...                   ...                ...        ...       ...   \n",
              "1063           NUEVO LEON            LINARES  -99.54191  24.76036   \n",
              "1064           NUEVO LEON            LINARES  -99.70099  24.78280   \n",
              "1065           NUEVO LEON  CADEREYTA JIMENEZ  -99.82249  25.55197   \n",
              "1066           NUEVO LEON            GALEANA -100.32683  24.80118   \n",
              "1067           NUEVO LEON            GALEANA -100.73302  25.09380   \n",
              "\n",
              "      CALIDAD_ALC  CALIDAD_CONDUC  CALIDAD_SDT_ra  CALIDAD_SDT_salin  \\\n",
              "0              10               0               1                 10   \n",
              "1              10               1              10                 10   \n",
              "2              10               1              10                 10   \n",
              "3              10               1              10                 10   \n",
              "4              10               0               1                  0   \n",
              "...           ...             ...             ...                ...   \n",
              "1063           10             -10               1                  0   \n",
              "1064           10               1              10                 10   \n",
              "1065           10             -10               1                  0   \n",
              "1066           10               0               1                 10   \n",
              "1067           10               0              10                 10   \n",
              "\n",
              "      CALIDAD_FLUO  CALIDAD_DUR  CALIDAD_COLI_FEC  CALIDAD_N_NO3  CALIDAD_AS  \\\n",
              "0               10            0                10             10           0   \n",
              "1               10            0                10              0           0   \n",
              "2                1            0                10             10         -10   \n",
              "3               10            0                10             10           0   \n",
              "4              -10            0                 0            -20          10   \n",
              "...            ...          ...               ...            ...         ...   \n",
              "1063           -10          -10                10            -20          10   \n",
              "1064           -10            0                10            -20          10   \n",
              "1065            10          -10                 0            -20          10   \n",
              "1066            10            0                10             10          10   \n",
              "1067             0            0                10             10          10   \n",
              "\n",
              "      CALIDAD_CD  CALIDAD_CR  CALIDAD_HG  CALIDAD_PB  CALIDAD_MN  CALIDAD_FE  \\\n",
              "0             10          10          10          10          10          10   \n",
              "1             10          10          10          10          10          10   \n",
              "2             10          10          10          10          10          10   \n",
              "3             10          10          10          10          10          10   \n",
              "4             10          10          10          10          10          10   \n",
              "...          ...         ...         ...         ...         ...         ...   \n",
              "1063          10          10          10          10          10          10   \n",
              "1064          10          10          10          10          10          10   \n",
              "1065          10          10          10          10          10          10   \n",
              "1066          10          10          10          10          10          10   \n",
              "1067          10          10          10          10          10          10   \n",
              "\n",
              "      SemaforoCalidad  \n",
              "0                 111  \n",
              "1                 111  \n",
              "2                 102  \n",
              "3                 121  \n",
              "4                  51  \n",
              "...               ...  \n",
              "1063               41  \n",
              "1064               81  \n",
              "1065               51  \n",
              "1066              121  \n",
              "1067              120  \n",
              "\n",
              "[1068 rows x 20 columns]"
            ],
            "text/html": [
              "\n",
              "  <div id=\"df-ec81ae3a-c02f-4734-af0d-d78a220628fb\">\n",
              "    <div class=\"colab-df-container\">\n",
              "      <div>\n",
              "<style scoped>\n",
              "    .dataframe tbody tr th:only-of-type {\n",
              "        vertical-align: middle;\n",
              "    }\n",
              "\n",
              "    .dataframe tbody tr th {\n",
              "        vertical-align: top;\n",
              "    }\n",
              "\n",
              "    .dataframe thead th {\n",
              "        text-align: right;\n",
              "    }\n",
              "</style>\n",
              "<table border=\"1\" class=\"dataframe\">\n",
              "  <thead>\n",
              "    <tr style=\"text-align: right;\">\n",
              "      <th></th>\n",
              "      <th>ESTADO</th>\n",
              "      <th>MUNICIPIO</th>\n",
              "      <th>LONGITUD</th>\n",
              "      <th>LATITUD</th>\n",
              "      <th>CALIDAD_ALC</th>\n",
              "      <th>CALIDAD_CONDUC</th>\n",
              "      <th>CALIDAD_SDT_ra</th>\n",
              "      <th>CALIDAD_SDT_salin</th>\n",
              "      <th>CALIDAD_FLUO</th>\n",
              "      <th>CALIDAD_DUR</th>\n",
              "      <th>CALIDAD_COLI_FEC</th>\n",
              "      <th>CALIDAD_N_NO3</th>\n",
              "      <th>CALIDAD_AS</th>\n",
              "      <th>CALIDAD_CD</th>\n",
              "      <th>CALIDAD_CR</th>\n",
              "      <th>CALIDAD_HG</th>\n",
              "      <th>CALIDAD_PB</th>\n",
              "      <th>CALIDAD_MN</th>\n",
              "      <th>CALIDAD_FE</th>\n",
              "      <th>SemaforoCalidad</th>\n",
              "    </tr>\n",
              "  </thead>\n",
              "  <tbody>\n",
              "    <tr>\n",
              "      <th>0</th>\n",
              "      <td>AGUASCALIENTES</td>\n",
              "      <td>ASIENTOS</td>\n",
              "      <td>-102.02210</td>\n",
              "      <td>22.20887</td>\n",
              "      <td>10</td>\n",
              "      <td>0</td>\n",
              "      <td>1</td>\n",
              "      <td>10</td>\n",
              "      <td>10</td>\n",
              "      <td>0</td>\n",
              "      <td>10</td>\n",
              "      <td>10</td>\n",
              "      <td>0</td>\n",
              "      <td>10</td>\n",
              "      <td>10</td>\n",
              "      <td>10</td>\n",
              "      <td>10</td>\n",
              "      <td>10</td>\n",
              "      <td>10</td>\n",
              "      <td>111</td>\n",
              "    </tr>\n",
              "    <tr>\n",
              "      <th>1</th>\n",
              "      <td>AGUASCALIENTES</td>\n",
              "      <td>AGUASCALIENTES</td>\n",
              "      <td>-102.20075</td>\n",
              "      <td>21.99958</td>\n",
              "      <td>10</td>\n",
              "      <td>1</td>\n",
              "      <td>10</td>\n",
              "      <td>10</td>\n",
              "      <td>10</td>\n",
              "      <td>0</td>\n",
              "      <td>10</td>\n",
              "      <td>0</td>\n",
              "      <td>0</td>\n",
              "      <td>10</td>\n",
              "      <td>10</td>\n",
              "      <td>10</td>\n",
              "      <td>10</td>\n",
              "      <td>10</td>\n",
              "      <td>10</td>\n",
              "      <td>111</td>\n",
              "    </tr>\n",
              "    <tr>\n",
              "      <th>2</th>\n",
              "      <td>AGUASCALIENTES</td>\n",
              "      <td>COSIO</td>\n",
              "      <td>-102.28801</td>\n",
              "      <td>22.36685</td>\n",
              "      <td>10</td>\n",
              "      <td>1</td>\n",
              "      <td>10</td>\n",
              "      <td>10</td>\n",
              "      <td>1</td>\n",
              "      <td>0</td>\n",
              "      <td>10</td>\n",
              "      <td>10</td>\n",
              "      <td>-10</td>\n",
              "      <td>10</td>\n",
              "      <td>10</td>\n",
              "      <td>10</td>\n",
              "      <td>10</td>\n",
              "      <td>10</td>\n",
              "      <td>10</td>\n",
              "      <td>102</td>\n",
              "    </tr>\n",
              "    <tr>\n",
              "      <th>3</th>\n",
              "      <td>AGUASCALIENTES</td>\n",
              "      <td>RINCON DE ROMOS</td>\n",
              "      <td>-102.29449</td>\n",
              "      <td>22.18435</td>\n",
              "      <td>10</td>\n",
              "      <td>1</td>\n",
              "      <td>10</td>\n",
              "      <td>10</td>\n",
              "      <td>10</td>\n",
              "      <td>0</td>\n",
              "      <td>10</td>\n",
              "      <td>10</td>\n",
              "      <td>0</td>\n",
              "      <td>10</td>\n",
              "      <td>10</td>\n",
              "      <td>10</td>\n",
              "      <td>10</td>\n",
              "      <td>10</td>\n",
              "      <td>10</td>\n",
              "      <td>121</td>\n",
              "    </tr>\n",
              "    <tr>\n",
              "      <th>4</th>\n",
              "      <td>BAJA CALIFORNIA SUR</td>\n",
              "      <td>LA PAZ</td>\n",
              "      <td>-110.24480</td>\n",
              "      <td>23.45138</td>\n",
              "      <td>10</td>\n",
              "      <td>0</td>\n",
              "      <td>1</td>\n",
              "      <td>0</td>\n",
              "      <td>-10</td>\n",
              "      <td>0</td>\n",
              "      <td>0</td>\n",
              "      <td>-20</td>\n",
              "      <td>10</td>\n",
              "      <td>10</td>\n",
              "      <td>10</td>\n",
              "      <td>10</td>\n",
              "      <td>10</td>\n",
              "      <td>10</td>\n",
              "      <td>10</td>\n",
              "      <td>51</td>\n",
              "    </tr>\n",
              "    <tr>\n",
              "      <th>...</th>\n",
              "      <td>...</td>\n",
              "      <td>...</td>\n",
              "      <td>...</td>\n",
              "      <td>...</td>\n",
              "      <td>...</td>\n",
              "      <td>...</td>\n",
              "      <td>...</td>\n",
              "      <td>...</td>\n",
              "      <td>...</td>\n",
              "      <td>...</td>\n",
              "      <td>...</td>\n",
              "      <td>...</td>\n",
              "      <td>...</td>\n",
              "      <td>...</td>\n",
              "      <td>...</td>\n",
              "      <td>...</td>\n",
              "      <td>...</td>\n",
              "      <td>...</td>\n",
              "      <td>...</td>\n",
              "      <td>...</td>\n",
              "    </tr>\n",
              "    <tr>\n",
              "      <th>1063</th>\n",
              "      <td>NUEVO LEON</td>\n",
              "      <td>LINARES</td>\n",
              "      <td>-99.54191</td>\n",
              "      <td>24.76036</td>\n",
              "      <td>10</td>\n",
              "      <td>-10</td>\n",
              "      <td>1</td>\n",
              "      <td>0</td>\n",
              "      <td>-10</td>\n",
              "      <td>-10</td>\n",
              "      <td>10</td>\n",
              "      <td>-20</td>\n",
              "      <td>10</td>\n",
              "      <td>10</td>\n",
              "      <td>10</td>\n",
              "      <td>10</td>\n",
              "      <td>10</td>\n",
              "      <td>10</td>\n",
              "      <td>10</td>\n",
              "      <td>41</td>\n",
              "    </tr>\n",
              "    <tr>\n",
              "      <th>1064</th>\n",
              "      <td>NUEVO LEON</td>\n",
              "      <td>LINARES</td>\n",
              "      <td>-99.70099</td>\n",
              "      <td>24.78280</td>\n",
              "      <td>10</td>\n",
              "      <td>1</td>\n",
              "      <td>10</td>\n",
              "      <td>10</td>\n",
              "      <td>-10</td>\n",
              "      <td>0</td>\n",
              "      <td>10</td>\n",
              "      <td>-20</td>\n",
              "      <td>10</td>\n",
              "      <td>10</td>\n",
              "      <td>10</td>\n",
              "      <td>10</td>\n",
              "      <td>10</td>\n",
              "      <td>10</td>\n",
              "      <td>10</td>\n",
              "      <td>81</td>\n",
              "    </tr>\n",
              "    <tr>\n",
              "      <th>1065</th>\n",
              "      <td>NUEVO LEON</td>\n",
              "      <td>CADEREYTA JIMENEZ</td>\n",
              "      <td>-99.82249</td>\n",
              "      <td>25.55197</td>\n",
              "      <td>10</td>\n",
              "      <td>-10</td>\n",
              "      <td>1</td>\n",
              "      <td>0</td>\n",
              "      <td>10</td>\n",
              "      <td>-10</td>\n",
              "      <td>0</td>\n",
              "      <td>-20</td>\n",
              "      <td>10</td>\n",
              "      <td>10</td>\n",
              "      <td>10</td>\n",
              "      <td>10</td>\n",
              "      <td>10</td>\n",
              "      <td>10</td>\n",
              "      <td>10</td>\n",
              "      <td>51</td>\n",
              "    </tr>\n",
              "    <tr>\n",
              "      <th>1066</th>\n",
              "      <td>NUEVO LEON</td>\n",
              "      <td>GALEANA</td>\n",
              "      <td>-100.32683</td>\n",
              "      <td>24.80118</td>\n",
              "      <td>10</td>\n",
              "      <td>0</td>\n",
              "      <td>1</td>\n",
              "      <td>10</td>\n",
              "      <td>10</td>\n",
              "      <td>0</td>\n",
              "      <td>10</td>\n",
              "      <td>10</td>\n",
              "      <td>10</td>\n",
              "      <td>10</td>\n",
              "      <td>10</td>\n",
              "      <td>10</td>\n",
              "      <td>10</td>\n",
              "      <td>10</td>\n",
              "      <td>10</td>\n",
              "      <td>121</td>\n",
              "    </tr>\n",
              "    <tr>\n",
              "      <th>1067</th>\n",
              "      <td>NUEVO LEON</td>\n",
              "      <td>GALEANA</td>\n",
              "      <td>-100.73302</td>\n",
              "      <td>25.09380</td>\n",
              "      <td>10</td>\n",
              "      <td>0</td>\n",
              "      <td>10</td>\n",
              "      <td>10</td>\n",
              "      <td>0</td>\n",
              "      <td>0</td>\n",
              "      <td>10</td>\n",
              "      <td>10</td>\n",
              "      <td>10</td>\n",
              "      <td>10</td>\n",
              "      <td>10</td>\n",
              "      <td>10</td>\n",
              "      <td>10</td>\n",
              "      <td>10</td>\n",
              "      <td>10</td>\n",
              "      <td>120</td>\n",
              "    </tr>\n",
              "  </tbody>\n",
              "</table>\n",
              "<p>1068 rows × 20 columns</p>\n",
              "</div>\n",
              "      <button class=\"colab-df-convert\" onclick=\"convertToInteractive('df-ec81ae3a-c02f-4734-af0d-d78a220628fb')\"\n",
              "              title=\"Convert this dataframe to an interactive table.\"\n",
              "              style=\"display:none;\">\n",
              "        \n",
              "  <svg xmlns=\"http://www.w3.org/2000/svg\" height=\"24px\"viewBox=\"0 0 24 24\"\n",
              "       width=\"24px\">\n",
              "    <path d=\"M0 0h24v24H0V0z\" fill=\"none\"/>\n",
              "    <path d=\"M18.56 5.44l.94 2.06.94-2.06 2.06-.94-2.06-.94-.94-2.06-.94 2.06-2.06.94zm-11 1L8.5 8.5l.94-2.06 2.06-.94-2.06-.94L8.5 2.5l-.94 2.06-2.06.94zm10 10l.94 2.06.94-2.06 2.06-.94-2.06-.94-.94-2.06-.94 2.06-2.06.94z\"/><path d=\"M17.41 7.96l-1.37-1.37c-.4-.4-.92-.59-1.43-.59-.52 0-1.04.2-1.43.59L10.3 9.45l-7.72 7.72c-.78.78-.78 2.05 0 2.83L4 21.41c.39.39.9.59 1.41.59.51 0 1.02-.2 1.41-.59l7.78-7.78 2.81-2.81c.8-.78.8-2.07 0-2.86zM5.41 20L4 18.59l7.72-7.72 1.47 1.35L5.41 20z\"/>\n",
              "  </svg>\n",
              "      </button>\n",
              "      \n",
              "  <style>\n",
              "    .colab-df-container {\n",
              "      display:flex;\n",
              "      flex-wrap:wrap;\n",
              "      gap: 12px;\n",
              "    }\n",
              "\n",
              "    .colab-df-convert {\n",
              "      background-color: #E8F0FE;\n",
              "      border: none;\n",
              "      border-radius: 50%;\n",
              "      cursor: pointer;\n",
              "      display: none;\n",
              "      fill: #1967D2;\n",
              "      height: 32px;\n",
              "      padding: 0 0 0 0;\n",
              "      width: 32px;\n",
              "    }\n",
              "\n",
              "    .colab-df-convert:hover {\n",
              "      background-color: #E2EBFA;\n",
              "      box-shadow: 0px 1px 2px rgba(60, 64, 67, 0.3), 0px 1px 3px 1px rgba(60, 64, 67, 0.15);\n",
              "      fill: #174EA6;\n",
              "    }\n",
              "\n",
              "    [theme=dark] .colab-df-convert {\n",
              "      background-color: #3B4455;\n",
              "      fill: #D2E3FC;\n",
              "    }\n",
              "\n",
              "    [theme=dark] .colab-df-convert:hover {\n",
              "      background-color: #434B5C;\n",
              "      box-shadow: 0px 1px 3px 1px rgba(0, 0, 0, 0.15);\n",
              "      filter: drop-shadow(0px 1px 2px rgba(0, 0, 0, 0.3));\n",
              "      fill: #FFFFFF;\n",
              "    }\n",
              "  </style>\n",
              "\n",
              "      <script>\n",
              "        const buttonEl =\n",
              "          document.querySelector('#df-ec81ae3a-c02f-4734-af0d-d78a220628fb button.colab-df-convert');\n",
              "        buttonEl.style.display =\n",
              "          google.colab.kernel.accessAllowed ? 'block' : 'none';\n",
              "\n",
              "        async function convertToInteractive(key) {\n",
              "          const element = document.querySelector('#df-ec81ae3a-c02f-4734-af0d-d78a220628fb');\n",
              "          const dataTable =\n",
              "            await google.colab.kernel.invokeFunction('convertToInteractive',\n",
              "                                                     [key], {});\n",
              "          if (!dataTable) return;\n",
              "\n",
              "          const docLinkHtml = 'Like what you see? Visit the ' +\n",
              "            '<a target=\"_blank\" href=https://colab.research.google.com/notebooks/data_table.ipynb>data table notebook</a>'\n",
              "            + ' to learn more about interactive tables.';\n",
              "          element.innerHTML = '';\n",
              "          dataTable['output_type'] = 'display_data';\n",
              "          await google.colab.output.renderOutput(dataTable, element);\n",
              "          const docLink = document.createElement('div');\n",
              "          docLink.innerHTML = docLinkHtml;\n",
              "          element.appendChild(docLink);\n",
              "        }\n",
              "      </script>\n",
              "    </div>\n",
              "  </div>\n",
              "  "
            ]
          },
          "metadata": {},
          "execution_count": 437
        }
      ]
    },
    {
      "cell_type": "code",
      "source": [
        "from sklearn.ensemble import RandomForestClassifier, AdaBoostClassifier\n",
        "from sklearn.model_selection import train_test_split\n",
        "from sklearn.model_selection import cross_validate, RepeatedStratifiedKFold\n",
        "from sklearn.pipeline import Pipeline\n",
        "from sklearn.model_selection import learning_curve, validation_curve\n",
        "from sklearn.tree import DecisionTreeClassifier\n",
        "from sklearn.metrics import classification_report, confusion_matrix"
      ],
      "metadata": {
        "id": "zuBxYSC5j1sD"
      },
      "execution_count": 87,
      "outputs": []
    },
    {
      "cell_type": "code",
      "source": [
        "# Split data\n",
        "X = df_sub.iloc[:,2:-1]\n",
        "y = df_sub.iloc[:,-1]\n",
        "X_train, X_test, y_train, y_test = train_test_split(X, y, test_size=0.15, random_state=42)"
      ],
      "metadata": {
        "id": "o5a1cVU7kNM0"
      },
      "execution_count": 35,
      "outputs": []
    },
    {
      "cell_type": "code",
      "source": [
        "X"
      ],
      "metadata": {
        "colab": {
          "base_uri": "https://localhost:8080/",
          "height": 487
        },
        "id": "hAoo78zg4GcM",
        "outputId": "3dd4c1a8-7ffc-49ca-b1e4-d520ac688585"
      },
      "execution_count": 36,
      "outputs": [
        {
          "output_type": "execute_result",
          "data": {
            "text/plain": [
              "       LONGITUD   LATITUD  CALIDAD_ALC  CALIDAD_CONDUC  CALIDAD_SDT_ra  \\\n",
              "0    -102.02210  22.20887           10               0               1   \n",
              "1    -102.20075  21.99958           10               1              10   \n",
              "2    -102.28801  22.36685           10               1              10   \n",
              "3    -102.29449  22.18435           10               1              10   \n",
              "4    -110.24480  23.45138           10               0               1   \n",
              "...         ...       ...          ...             ...             ...   \n",
              "1063  -99.54191  24.76036           10             -10               1   \n",
              "1064  -99.70099  24.78280           10               1              10   \n",
              "1065  -99.82249  25.55197           10             -10               1   \n",
              "1066 -100.32683  24.80118           10               0               1   \n",
              "1067 -100.73302  25.09380           10               0              10   \n",
              "\n",
              "      CALIDAD_SDT_salin  CALIDAD_FLUO  CALIDAD_DUR  CALIDAD_COLI_FEC  \\\n",
              "0                    10            10            0                10   \n",
              "1                    10            10            0                10   \n",
              "2                    10             1            0                10   \n",
              "3                    10            10            0                10   \n",
              "4                     0           -10            0                 0   \n",
              "...                 ...           ...          ...               ...   \n",
              "1063                  0           -10          -10                10   \n",
              "1064                 10           -10            0                10   \n",
              "1065                  0            10          -10                 0   \n",
              "1066                 10            10            0                10   \n",
              "1067                 10             0            0                10   \n",
              "\n",
              "      CALIDAD_N_NO3  CALIDAD_AS  CALIDAD_CD  CALIDAD_CR  CALIDAD_HG  \\\n",
              "0                10           0          10          10          10   \n",
              "1                 0           0          10          10          10   \n",
              "2                10         -10          10          10          10   \n",
              "3                10           0          10          10          10   \n",
              "4               -20          10          10          10          10   \n",
              "...             ...         ...         ...         ...         ...   \n",
              "1063            -20          10          10          10          10   \n",
              "1064            -20          10          10          10          10   \n",
              "1065            -20          10          10          10          10   \n",
              "1066             10          10          10          10          10   \n",
              "1067             10          10          10          10          10   \n",
              "\n",
              "      CALIDAD_PB  CALIDAD_MN  CALIDAD_FE  \n",
              "0             10          10          10  \n",
              "1             10          10          10  \n",
              "2             10          10          10  \n",
              "3             10          10          10  \n",
              "4             10          10          10  \n",
              "...          ...         ...         ...  \n",
              "1063          10          10          10  \n",
              "1064          10          10          10  \n",
              "1065          10          10          10  \n",
              "1066          10          10          10  \n",
              "1067          10          10          10  \n",
              "\n",
              "[1068 rows x 17 columns]"
            ],
            "text/html": [
              "\n",
              "  <div id=\"df-f6dde0ef-7380-403e-96de-8ff624ddb7bd\">\n",
              "    <div class=\"colab-df-container\">\n",
              "      <div>\n",
              "<style scoped>\n",
              "    .dataframe tbody tr th:only-of-type {\n",
              "        vertical-align: middle;\n",
              "    }\n",
              "\n",
              "    .dataframe tbody tr th {\n",
              "        vertical-align: top;\n",
              "    }\n",
              "\n",
              "    .dataframe thead th {\n",
              "        text-align: right;\n",
              "    }\n",
              "</style>\n",
              "<table border=\"1\" class=\"dataframe\">\n",
              "  <thead>\n",
              "    <tr style=\"text-align: right;\">\n",
              "      <th></th>\n",
              "      <th>LONGITUD</th>\n",
              "      <th>LATITUD</th>\n",
              "      <th>CALIDAD_ALC</th>\n",
              "      <th>CALIDAD_CONDUC</th>\n",
              "      <th>CALIDAD_SDT_ra</th>\n",
              "      <th>CALIDAD_SDT_salin</th>\n",
              "      <th>CALIDAD_FLUO</th>\n",
              "      <th>CALIDAD_DUR</th>\n",
              "      <th>CALIDAD_COLI_FEC</th>\n",
              "      <th>CALIDAD_N_NO3</th>\n",
              "      <th>CALIDAD_AS</th>\n",
              "      <th>CALIDAD_CD</th>\n",
              "      <th>CALIDAD_CR</th>\n",
              "      <th>CALIDAD_HG</th>\n",
              "      <th>CALIDAD_PB</th>\n",
              "      <th>CALIDAD_MN</th>\n",
              "      <th>CALIDAD_FE</th>\n",
              "    </tr>\n",
              "  </thead>\n",
              "  <tbody>\n",
              "    <tr>\n",
              "      <th>0</th>\n",
              "      <td>-102.02210</td>\n",
              "      <td>22.20887</td>\n",
              "      <td>10</td>\n",
              "      <td>0</td>\n",
              "      <td>1</td>\n",
              "      <td>10</td>\n",
              "      <td>10</td>\n",
              "      <td>0</td>\n",
              "      <td>10</td>\n",
              "      <td>10</td>\n",
              "      <td>0</td>\n",
              "      <td>10</td>\n",
              "      <td>10</td>\n",
              "      <td>10</td>\n",
              "      <td>10</td>\n",
              "      <td>10</td>\n",
              "      <td>10</td>\n",
              "    </tr>\n",
              "    <tr>\n",
              "      <th>1</th>\n",
              "      <td>-102.20075</td>\n",
              "      <td>21.99958</td>\n",
              "      <td>10</td>\n",
              "      <td>1</td>\n",
              "      <td>10</td>\n",
              "      <td>10</td>\n",
              "      <td>10</td>\n",
              "      <td>0</td>\n",
              "      <td>10</td>\n",
              "      <td>0</td>\n",
              "      <td>0</td>\n",
              "      <td>10</td>\n",
              "      <td>10</td>\n",
              "      <td>10</td>\n",
              "      <td>10</td>\n",
              "      <td>10</td>\n",
              "      <td>10</td>\n",
              "    </tr>\n",
              "    <tr>\n",
              "      <th>2</th>\n",
              "      <td>-102.28801</td>\n",
              "      <td>22.36685</td>\n",
              "      <td>10</td>\n",
              "      <td>1</td>\n",
              "      <td>10</td>\n",
              "      <td>10</td>\n",
              "      <td>1</td>\n",
              "      <td>0</td>\n",
              "      <td>10</td>\n",
              "      <td>10</td>\n",
              "      <td>-10</td>\n",
              "      <td>10</td>\n",
              "      <td>10</td>\n",
              "      <td>10</td>\n",
              "      <td>10</td>\n",
              "      <td>10</td>\n",
              "      <td>10</td>\n",
              "    </tr>\n",
              "    <tr>\n",
              "      <th>3</th>\n",
              "      <td>-102.29449</td>\n",
              "      <td>22.18435</td>\n",
              "      <td>10</td>\n",
              "      <td>1</td>\n",
              "      <td>10</td>\n",
              "      <td>10</td>\n",
              "      <td>10</td>\n",
              "      <td>0</td>\n",
              "      <td>10</td>\n",
              "      <td>10</td>\n",
              "      <td>0</td>\n",
              "      <td>10</td>\n",
              "      <td>10</td>\n",
              "      <td>10</td>\n",
              "      <td>10</td>\n",
              "      <td>10</td>\n",
              "      <td>10</td>\n",
              "    </tr>\n",
              "    <tr>\n",
              "      <th>4</th>\n",
              "      <td>-110.24480</td>\n",
              "      <td>23.45138</td>\n",
              "      <td>10</td>\n",
              "      <td>0</td>\n",
              "      <td>1</td>\n",
              "      <td>0</td>\n",
              "      <td>-10</td>\n",
              "      <td>0</td>\n",
              "      <td>0</td>\n",
              "      <td>-20</td>\n",
              "      <td>10</td>\n",
              "      <td>10</td>\n",
              "      <td>10</td>\n",
              "      <td>10</td>\n",
              "      <td>10</td>\n",
              "      <td>10</td>\n",
              "      <td>10</td>\n",
              "    </tr>\n",
              "    <tr>\n",
              "      <th>...</th>\n",
              "      <td>...</td>\n",
              "      <td>...</td>\n",
              "      <td>...</td>\n",
              "      <td>...</td>\n",
              "      <td>...</td>\n",
              "      <td>...</td>\n",
              "      <td>...</td>\n",
              "      <td>...</td>\n",
              "      <td>...</td>\n",
              "      <td>...</td>\n",
              "      <td>...</td>\n",
              "      <td>...</td>\n",
              "      <td>...</td>\n",
              "      <td>...</td>\n",
              "      <td>...</td>\n",
              "      <td>...</td>\n",
              "      <td>...</td>\n",
              "    </tr>\n",
              "    <tr>\n",
              "      <th>1063</th>\n",
              "      <td>-99.54191</td>\n",
              "      <td>24.76036</td>\n",
              "      <td>10</td>\n",
              "      <td>-10</td>\n",
              "      <td>1</td>\n",
              "      <td>0</td>\n",
              "      <td>-10</td>\n",
              "      <td>-10</td>\n",
              "      <td>10</td>\n",
              "      <td>-20</td>\n",
              "      <td>10</td>\n",
              "      <td>10</td>\n",
              "      <td>10</td>\n",
              "      <td>10</td>\n",
              "      <td>10</td>\n",
              "      <td>10</td>\n",
              "      <td>10</td>\n",
              "    </tr>\n",
              "    <tr>\n",
              "      <th>1064</th>\n",
              "      <td>-99.70099</td>\n",
              "      <td>24.78280</td>\n",
              "      <td>10</td>\n",
              "      <td>1</td>\n",
              "      <td>10</td>\n",
              "      <td>10</td>\n",
              "      <td>-10</td>\n",
              "      <td>0</td>\n",
              "      <td>10</td>\n",
              "      <td>-20</td>\n",
              "      <td>10</td>\n",
              "      <td>10</td>\n",
              "      <td>10</td>\n",
              "      <td>10</td>\n",
              "      <td>10</td>\n",
              "      <td>10</td>\n",
              "      <td>10</td>\n",
              "    </tr>\n",
              "    <tr>\n",
              "      <th>1065</th>\n",
              "      <td>-99.82249</td>\n",
              "      <td>25.55197</td>\n",
              "      <td>10</td>\n",
              "      <td>-10</td>\n",
              "      <td>1</td>\n",
              "      <td>0</td>\n",
              "      <td>10</td>\n",
              "      <td>-10</td>\n",
              "      <td>0</td>\n",
              "      <td>-20</td>\n",
              "      <td>10</td>\n",
              "      <td>10</td>\n",
              "      <td>10</td>\n",
              "      <td>10</td>\n",
              "      <td>10</td>\n",
              "      <td>10</td>\n",
              "      <td>10</td>\n",
              "    </tr>\n",
              "    <tr>\n",
              "      <th>1066</th>\n",
              "      <td>-100.32683</td>\n",
              "      <td>24.80118</td>\n",
              "      <td>10</td>\n",
              "      <td>0</td>\n",
              "      <td>1</td>\n",
              "      <td>10</td>\n",
              "      <td>10</td>\n",
              "      <td>0</td>\n",
              "      <td>10</td>\n",
              "      <td>10</td>\n",
              "      <td>10</td>\n",
              "      <td>10</td>\n",
              "      <td>10</td>\n",
              "      <td>10</td>\n",
              "      <td>10</td>\n",
              "      <td>10</td>\n",
              "      <td>10</td>\n",
              "    </tr>\n",
              "    <tr>\n",
              "      <th>1067</th>\n",
              "      <td>-100.73302</td>\n",
              "      <td>25.09380</td>\n",
              "      <td>10</td>\n",
              "      <td>0</td>\n",
              "      <td>10</td>\n",
              "      <td>10</td>\n",
              "      <td>0</td>\n",
              "      <td>0</td>\n",
              "      <td>10</td>\n",
              "      <td>10</td>\n",
              "      <td>10</td>\n",
              "      <td>10</td>\n",
              "      <td>10</td>\n",
              "      <td>10</td>\n",
              "      <td>10</td>\n",
              "      <td>10</td>\n",
              "      <td>10</td>\n",
              "    </tr>\n",
              "  </tbody>\n",
              "</table>\n",
              "<p>1068 rows × 17 columns</p>\n",
              "</div>\n",
              "      <button class=\"colab-df-convert\" onclick=\"convertToInteractive('df-f6dde0ef-7380-403e-96de-8ff624ddb7bd')\"\n",
              "              title=\"Convert this dataframe to an interactive table.\"\n",
              "              style=\"display:none;\">\n",
              "        \n",
              "  <svg xmlns=\"http://www.w3.org/2000/svg\" height=\"24px\"viewBox=\"0 0 24 24\"\n",
              "       width=\"24px\">\n",
              "    <path d=\"M0 0h24v24H0V0z\" fill=\"none\"/>\n",
              "    <path d=\"M18.56 5.44l.94 2.06.94-2.06 2.06-.94-2.06-.94-.94-2.06-.94 2.06-2.06.94zm-11 1L8.5 8.5l.94-2.06 2.06-.94-2.06-.94L8.5 2.5l-.94 2.06-2.06.94zm10 10l.94 2.06.94-2.06 2.06-.94-2.06-.94-.94-2.06-.94 2.06-2.06.94z\"/><path d=\"M17.41 7.96l-1.37-1.37c-.4-.4-.92-.59-1.43-.59-.52 0-1.04.2-1.43.59L10.3 9.45l-7.72 7.72c-.78.78-.78 2.05 0 2.83L4 21.41c.39.39.9.59 1.41.59.51 0 1.02-.2 1.41-.59l7.78-7.78 2.81-2.81c.8-.78.8-2.07 0-2.86zM5.41 20L4 18.59l7.72-7.72 1.47 1.35L5.41 20z\"/>\n",
              "  </svg>\n",
              "      </button>\n",
              "      \n",
              "  <style>\n",
              "    .colab-df-container {\n",
              "      display:flex;\n",
              "      flex-wrap:wrap;\n",
              "      gap: 12px;\n",
              "    }\n",
              "\n",
              "    .colab-df-convert {\n",
              "      background-color: #E8F0FE;\n",
              "      border: none;\n",
              "      border-radius: 50%;\n",
              "      cursor: pointer;\n",
              "      display: none;\n",
              "      fill: #1967D2;\n",
              "      height: 32px;\n",
              "      padding: 0 0 0 0;\n",
              "      width: 32px;\n",
              "    }\n",
              "\n",
              "    .colab-df-convert:hover {\n",
              "      background-color: #E2EBFA;\n",
              "      box-shadow: 0px 1px 2px rgba(60, 64, 67, 0.3), 0px 1px 3px 1px rgba(60, 64, 67, 0.15);\n",
              "      fill: #174EA6;\n",
              "    }\n",
              "\n",
              "    [theme=dark] .colab-df-convert {\n",
              "      background-color: #3B4455;\n",
              "      fill: #D2E3FC;\n",
              "    }\n",
              "\n",
              "    [theme=dark] .colab-df-convert:hover {\n",
              "      background-color: #434B5C;\n",
              "      box-shadow: 0px 1px 3px 1px rgba(0, 0, 0, 0.15);\n",
              "      filter: drop-shadow(0px 1px 2px rgba(0, 0, 0, 0.3));\n",
              "      fill: #FFFFFF;\n",
              "    }\n",
              "  </style>\n",
              "\n",
              "      <script>\n",
              "        const buttonEl =\n",
              "          document.querySelector('#df-f6dde0ef-7380-403e-96de-8ff624ddb7bd button.colab-df-convert');\n",
              "        buttonEl.style.display =\n",
              "          google.colab.kernel.accessAllowed ? 'block' : 'none';\n",
              "\n",
              "        async function convertToInteractive(key) {\n",
              "          const element = document.querySelector('#df-f6dde0ef-7380-403e-96de-8ff624ddb7bd');\n",
              "          const dataTable =\n",
              "            await google.colab.kernel.invokeFunction('convertToInteractive',\n",
              "                                                     [key], {});\n",
              "          if (!dataTable) return;\n",
              "\n",
              "          const docLinkHtml = 'Like what you see? Visit the ' +\n",
              "            '<a target=\"_blank\" href=https://colab.research.google.com/notebooks/data_table.ipynb>data table notebook</a>'\n",
              "            + ' to learn more about interactive tables.';\n",
              "          element.innerHTML = '';\n",
              "          dataTable['output_type'] = 'display_data';\n",
              "          await google.colab.output.renderOutput(dataTable, element);\n",
              "          const docLink = document.createElement('div');\n",
              "          docLink.innerHTML = docLinkHtml;\n",
              "          element.appendChild(docLink);\n",
              "        }\n",
              "      </script>\n",
              "    </div>\n",
              "  </div>\n",
              "  "
            ]
          },
          "metadata": {},
          "execution_count": 36
        }
      ]
    },
    {
      "cell_type": "code",
      "source": [
        "y"
      ],
      "metadata": {
        "colab": {
          "base_uri": "https://localhost:8080/"
        },
        "id": "BOIWJWkI539H",
        "outputId": "7543c004-ad69-48ee-b0a1-087b96c45cf4"
      },
      "execution_count": 37,
      "outputs": [
        {
          "output_type": "execute_result",
          "data": {
            "text/plain": [
              "0       1\n",
              "1       1\n",
              "2       3\n",
              "3       1\n",
              "4       3\n",
              "       ..\n",
              "1063    3\n",
              "1064    3\n",
              "1065    3\n",
              "1066    1\n",
              "1067    1\n",
              "Name: SEMAFORO, Length: 1068, dtype: int64"
            ]
          },
          "metadata": {},
          "execution_count": 37
        }
      ]
    },
    {
      "cell_type": "code",
      "source": [
        "classifierRF = RandomForestClassifier(n_estimators=500, max_leaf_nodes=16, n_jobs=-1)\n",
        "classifierRF.fit(X_train, y_train)"
      ],
      "metadata": {
        "colab": {
          "base_uri": "https://localhost:8080/"
        },
        "id": "MA1wxZsxkyuG",
        "outputId": "31fcce24-154f-48b4-bce2-7acc3094e7f1"
      },
      "execution_count": 38,
      "outputs": [
        {
          "output_type": "execute_result",
          "data": {
            "text/plain": [
              "RandomForestClassifier(max_leaf_nodes=16, n_estimators=500, n_jobs=-1)"
            ]
          },
          "metadata": {},
          "execution_count": 38
        }
      ]
    },
    {
      "cell_type": "markdown",
      "source": [
        "# Importancia de parámetros"
      ],
      "metadata": {
        "id": "s-4uzJ58neMk"
      }
    },
    {
      "cell_type": "code",
      "source": [
        "featureImportances = {}\n",
        "for name, score in zip(df_sub.columns[2:-1], classifierRF.feature_importances_):\n",
        "  featureImportances[name] = score\n",
        "  print('{0:20s} -> {1:6.3f}'.format(name, score*100))"
      ],
      "metadata": {
        "colab": {
          "base_uri": "https://localhost:8080/"
        },
        "id": "VYpKzwCdlhrJ",
        "outputId": "ad2ef30b-0205-4182-be51-dfde31c4a640"
      },
      "execution_count": 39,
      "outputs": [
        {
          "output_type": "stream",
          "name": "stdout",
          "text": [
            "LONGITUD             ->  3.406\n",
            "LATITUD              ->  1.944\n",
            "CALIDAD_ALC          ->  1.675\n",
            "CALIDAD_CONDUC       ->  3.290\n",
            "CALIDAD_SDT_ra       ->  1.481\n",
            "CALIDAD_SDT_salin    ->  5.789\n",
            "CALIDAD_FLUO         -> 18.611\n",
            "CALIDAD_DUR          -> 16.091\n",
            "CALIDAD_COLI_FEC     ->  7.961\n",
            "CALIDAD_N_NO3        ->  9.274\n",
            "CALIDAD_AS           -> 13.601\n",
            "CALIDAD_CD           ->  0.003\n",
            "CALIDAD_CR           ->  0.812\n",
            "CALIDAD_HG           ->  0.000\n",
            "CALIDAD_PB           ->  0.795\n",
            "CALIDAD_MN           ->  7.214\n",
            "CALIDAD_FE           ->  8.053\n"
          ]
        }
      ]
    },
    {
      "cell_type": "code",
      "source": [
        "_ = pd.DataFrame(featureImportances, index=[0]).T\n",
        "_"
      ],
      "metadata": {
        "colab": {
          "base_uri": "https://localhost:8080/",
          "height": 582
        },
        "id": "CwHD8USZoaSm",
        "outputId": "1a9c4b23-4815-41a7-a872-78ccb5342885"
      },
      "execution_count": 40,
      "outputs": [
        {
          "output_type": "execute_result",
          "data": {
            "text/plain": [
              "                          0\n",
              "LONGITUD           0.034055\n",
              "LATITUD            0.019441\n",
              "CALIDAD_ALC        0.016752\n",
              "CALIDAD_CONDUC     0.032904\n",
              "CALIDAD_SDT_ra     0.014806\n",
              "CALIDAD_SDT_salin  0.057891\n",
              "CALIDAD_FLUO       0.186114\n",
              "CALIDAD_DUR        0.160907\n",
              "CALIDAD_COLI_FEC   0.079613\n",
              "CALIDAD_N_NO3      0.092743\n",
              "CALIDAD_AS         0.136006\n",
              "CALIDAD_CD         0.000029\n",
              "CALIDAD_CR         0.008118\n",
              "CALIDAD_HG         0.000000\n",
              "CALIDAD_PB         0.007948\n",
              "CALIDAD_MN         0.072143\n",
              "CALIDAD_FE         0.080530"
            ],
            "text/html": [
              "\n",
              "  <div id=\"df-be102fe4-861f-4f07-bef8-256e3dddbca4\">\n",
              "    <div class=\"colab-df-container\">\n",
              "      <div>\n",
              "<style scoped>\n",
              "    .dataframe tbody tr th:only-of-type {\n",
              "        vertical-align: middle;\n",
              "    }\n",
              "\n",
              "    .dataframe tbody tr th {\n",
              "        vertical-align: top;\n",
              "    }\n",
              "\n",
              "    .dataframe thead th {\n",
              "        text-align: right;\n",
              "    }\n",
              "</style>\n",
              "<table border=\"1\" class=\"dataframe\">\n",
              "  <thead>\n",
              "    <tr style=\"text-align: right;\">\n",
              "      <th></th>\n",
              "      <th>0</th>\n",
              "    </tr>\n",
              "  </thead>\n",
              "  <tbody>\n",
              "    <tr>\n",
              "      <th>LONGITUD</th>\n",
              "      <td>0.034055</td>\n",
              "    </tr>\n",
              "    <tr>\n",
              "      <th>LATITUD</th>\n",
              "      <td>0.019441</td>\n",
              "    </tr>\n",
              "    <tr>\n",
              "      <th>CALIDAD_ALC</th>\n",
              "      <td>0.016752</td>\n",
              "    </tr>\n",
              "    <tr>\n",
              "      <th>CALIDAD_CONDUC</th>\n",
              "      <td>0.032904</td>\n",
              "    </tr>\n",
              "    <tr>\n",
              "      <th>CALIDAD_SDT_ra</th>\n",
              "      <td>0.014806</td>\n",
              "    </tr>\n",
              "    <tr>\n",
              "      <th>CALIDAD_SDT_salin</th>\n",
              "      <td>0.057891</td>\n",
              "    </tr>\n",
              "    <tr>\n",
              "      <th>CALIDAD_FLUO</th>\n",
              "      <td>0.186114</td>\n",
              "    </tr>\n",
              "    <tr>\n",
              "      <th>CALIDAD_DUR</th>\n",
              "      <td>0.160907</td>\n",
              "    </tr>\n",
              "    <tr>\n",
              "      <th>CALIDAD_COLI_FEC</th>\n",
              "      <td>0.079613</td>\n",
              "    </tr>\n",
              "    <tr>\n",
              "      <th>CALIDAD_N_NO3</th>\n",
              "      <td>0.092743</td>\n",
              "    </tr>\n",
              "    <tr>\n",
              "      <th>CALIDAD_AS</th>\n",
              "      <td>0.136006</td>\n",
              "    </tr>\n",
              "    <tr>\n",
              "      <th>CALIDAD_CD</th>\n",
              "      <td>0.000029</td>\n",
              "    </tr>\n",
              "    <tr>\n",
              "      <th>CALIDAD_CR</th>\n",
              "      <td>0.008118</td>\n",
              "    </tr>\n",
              "    <tr>\n",
              "      <th>CALIDAD_HG</th>\n",
              "      <td>0.000000</td>\n",
              "    </tr>\n",
              "    <tr>\n",
              "      <th>CALIDAD_PB</th>\n",
              "      <td>0.007948</td>\n",
              "    </tr>\n",
              "    <tr>\n",
              "      <th>CALIDAD_MN</th>\n",
              "      <td>0.072143</td>\n",
              "    </tr>\n",
              "    <tr>\n",
              "      <th>CALIDAD_FE</th>\n",
              "      <td>0.080530</td>\n",
              "    </tr>\n",
              "  </tbody>\n",
              "</table>\n",
              "</div>\n",
              "      <button class=\"colab-df-convert\" onclick=\"convertToInteractive('df-be102fe4-861f-4f07-bef8-256e3dddbca4')\"\n",
              "              title=\"Convert this dataframe to an interactive table.\"\n",
              "              style=\"display:none;\">\n",
              "        \n",
              "  <svg xmlns=\"http://www.w3.org/2000/svg\" height=\"24px\"viewBox=\"0 0 24 24\"\n",
              "       width=\"24px\">\n",
              "    <path d=\"M0 0h24v24H0V0z\" fill=\"none\"/>\n",
              "    <path d=\"M18.56 5.44l.94 2.06.94-2.06 2.06-.94-2.06-.94-.94-2.06-.94 2.06-2.06.94zm-11 1L8.5 8.5l.94-2.06 2.06-.94-2.06-.94L8.5 2.5l-.94 2.06-2.06.94zm10 10l.94 2.06.94-2.06 2.06-.94-2.06-.94-.94-2.06-.94 2.06-2.06.94z\"/><path d=\"M17.41 7.96l-1.37-1.37c-.4-.4-.92-.59-1.43-.59-.52 0-1.04.2-1.43.59L10.3 9.45l-7.72 7.72c-.78.78-.78 2.05 0 2.83L4 21.41c.39.39.9.59 1.41.59.51 0 1.02-.2 1.41-.59l7.78-7.78 2.81-2.81c.8-.78.8-2.07 0-2.86zM5.41 20L4 18.59l7.72-7.72 1.47 1.35L5.41 20z\"/>\n",
              "  </svg>\n",
              "      </button>\n",
              "      \n",
              "  <style>\n",
              "    .colab-df-container {\n",
              "      display:flex;\n",
              "      flex-wrap:wrap;\n",
              "      gap: 12px;\n",
              "    }\n",
              "\n",
              "    .colab-df-convert {\n",
              "      background-color: #E8F0FE;\n",
              "      border: none;\n",
              "      border-radius: 50%;\n",
              "      cursor: pointer;\n",
              "      display: none;\n",
              "      fill: #1967D2;\n",
              "      height: 32px;\n",
              "      padding: 0 0 0 0;\n",
              "      width: 32px;\n",
              "    }\n",
              "\n",
              "    .colab-df-convert:hover {\n",
              "      background-color: #E2EBFA;\n",
              "      box-shadow: 0px 1px 2px rgba(60, 64, 67, 0.3), 0px 1px 3px 1px rgba(60, 64, 67, 0.15);\n",
              "      fill: #174EA6;\n",
              "    }\n",
              "\n",
              "    [theme=dark] .colab-df-convert {\n",
              "      background-color: #3B4455;\n",
              "      fill: #D2E3FC;\n",
              "    }\n",
              "\n",
              "    [theme=dark] .colab-df-convert:hover {\n",
              "      background-color: #434B5C;\n",
              "      box-shadow: 0px 1px 3px 1px rgba(0, 0, 0, 0.15);\n",
              "      filter: drop-shadow(0px 1px 2px rgba(0, 0, 0, 0.3));\n",
              "      fill: #FFFFFF;\n",
              "    }\n",
              "  </style>\n",
              "\n",
              "      <script>\n",
              "        const buttonEl =\n",
              "          document.querySelector('#df-be102fe4-861f-4f07-bef8-256e3dddbca4 button.colab-df-convert');\n",
              "        buttonEl.style.display =\n",
              "          google.colab.kernel.accessAllowed ? 'block' : 'none';\n",
              "\n",
              "        async function convertToInteractive(key) {\n",
              "          const element = document.querySelector('#df-be102fe4-861f-4f07-bef8-256e3dddbca4');\n",
              "          const dataTable =\n",
              "            await google.colab.kernel.invokeFunction('convertToInteractive',\n",
              "                                                     [key], {});\n",
              "          if (!dataTable) return;\n",
              "\n",
              "          const docLinkHtml = 'Like what you see? Visit the ' +\n",
              "            '<a target=\"_blank\" href=https://colab.research.google.com/notebooks/data_table.ipynb>data table notebook</a>'\n",
              "            + ' to learn more about interactive tables.';\n",
              "          element.innerHTML = '';\n",
              "          dataTable['output_type'] = 'display_data';\n",
              "          await google.colab.output.renderOutput(dataTable, element);\n",
              "          const docLink = document.createElement('div');\n",
              "          docLink.innerHTML = docLinkHtml;\n",
              "          element.appendChild(docLink);\n",
              "        }\n",
              "      </script>\n",
              "    </div>\n",
              "  </div>\n",
              "  "
            ]
          },
          "metadata": {},
          "execution_count": 40
        }
      ]
    },
    {
      "cell_type": "code",
      "source": [
        "import pandas as pd\n",
        "import matplotlib.pyplot as plt\n",
        "from matplotlib.ticker import PercentFormatter\n",
        "\n",
        "_.rename(columns={0:'Importancia'}, inplace=True)\n",
        "_ = _.sort_values(by='Importancia',ascending=False)\n",
        "_[\"Importancia_porcentaje\"] = _[\"Importancia\"].cumsum()/_[\"Importancia\"].sum()*100\n",
        "\n",
        "\n",
        "fig, ax = plt.subplots(figsize=(16,9))\n",
        "ax.bar(_.index, _[\"Importancia\"], color=\"C0\")\n",
        "ax2 = ax.twinx()\n",
        "ax2.plot(_.index, _[\"Importancia_porcentaje\"], color=\"C1\", marker=\"D\", ms=7)\n",
        "ax2.yaxis.set_major_formatter(PercentFormatter())\n",
        "\n",
        "ax.tick_params(axis=\"y\", colors=\"C0\")\n",
        "ax2.tick_params(axis=\"y\", colors=\"C1\")\n",
        "ax.set_xticklabels(_.index, rotation = 45)\n",
        "plt.show()\n"
      ],
      "metadata": {
        "colab": {
          "base_uri": "https://localhost:8080/",
          "height": 604
        },
        "id": "b3pnnlvqoQl1",
        "outputId": "1e31a359-ac3d-4224-b2ef-4c2a7063a753"
      },
      "execution_count": 41,
      "outputs": [
        {
          "output_type": "display_data",
          "data": {
            "text/plain": [
              "<Figure size 1152x648 with 2 Axes>"
            ],
            "image/png": "[encoded data removed]"
          },
          "metadata": {}
        }
      ]
    },
    {
      "cell_type": "code",
      "source": [
        "# nos quedamos sólo con 11 de 15 propiedades\n",
        "mostImportantFeatures = _.index[0:11].to_list()\n",
        "mostImportantFeatures"
      ],
      "metadata": {
        "id": "S8Z9Vy0TqAm8",
        "colab": {
          "base_uri": "https://localhost:8080/"
        },
        "outputId": "268da269-fed1-48c5-f206-880917357870"
      },
      "execution_count": 50,
      "outputs": [
        {
          "output_type": "execute_result",
          "data": {
            "text/plain": [
              "['CALIDAD_FLUO',\n",
              " 'CALIDAD_DUR',\n",
              " 'CALIDAD_AS',\n",
              " 'CALIDAD_N_NO3',\n",
              " 'CALIDAD_FE',\n",
              " 'CALIDAD_COLI_FEC',\n",
              " 'CALIDAD_MN',\n",
              " 'CALIDAD_SDT_salin',\n",
              " 'LONGITUD',\n",
              " 'CALIDAD_CONDUC',\n",
              " 'LATITUD']"
            ]
          },
          "metadata": {},
          "execution_count": 50
        }
      ]
    },
    {
      "cell_type": "code",
      "source": [
        "# Split de información con los features más importantes\n",
        "df_sub2 = df_sub[mostImportantFeatures+['SEMAFORO']]\n",
        "X = df_sub2.iloc[:,:-1]\n",
        "y = df_sub2.iloc[:,-1]\n",
        "X_train, X_test, y_train, y_test = train_test_split(X, y, test_size=0.15, random_state=42)\n",
        "kfold = RepeatedStratifiedKFold(n_splits=5, n_repeats=3)\n",
        "classifierRF = RandomForestClassifier(n_estimators=500, max_leaf_nodes=16, n_jobs=-1)\n",
        "pipeline = Pipeline(steps=[\n",
        "    ('rf', classifierRF),\n",
        "])\n",
        "delta_train_sz = np.linspace(0.1, 1.0, num=15, endpoint=True, retstep=False, dtype=None, axis=0)\n",
        "tr_sizes, tr_scores, val_scores = learning_curve(estimator = pipeline,    \n",
        "                                                X = X_train,\n",
        "                                                y = y_train,\n",
        "                                                cv = kfold,\n",
        "                                                train_sizes = delta_train_sz,\n",
        "                                                random_state=42)\n"
      ],
      "metadata": {
        "id": "2Oh6DethrNBe"
      },
      "execution_count": 51,
      "outputs": []
    },
    {
      "cell_type": "code",
      "source": [
        "def mi_LearningCurvePlot(train_sizes, train_scores, val_scores, titulo, etiquetaX, etiquetaY):\n",
        "\n",
        "    # Argumentos de entrada de la función mi_LearningCurvePlot:\n",
        "    #      train_sizes : número de observaciones en el conjunto de entrenamiento.\n",
        "    #      train_scores : Exactitud de cada partición en el proceso de Validación-Cruzada (VC) en los datos de entrenamiento.\n",
        "    #                     La dimensión de este conjunto es (pxq) \n",
        "    #                                     donde p=\"número de particiones de manera incremental del conjunto de entrenamiento\".\n",
        "    #                                           q=\"número de particiones de VC\" * \"número de repeticiones de VC con RepitedStratifiedCV\"\n",
        "    #      val_scores : Exactitud de cada partición en el proceso de Validación-Cruzada en los datos de validación.\n",
        "    #                   Es de la misma dimensión que los train_scores. \n",
        "    # Output: la salida es el gráfico con las curvas de aprendizaje.\n",
        "\n",
        "    # Obtenemos los promedios y desviaciones estándar de cada renglón de los resultados de entrenamiento y validación\n",
        "    # La dimensión de cada uno es p=\"número de particiones de manera incremental del conjunto de entrenamiento\".\n",
        "    train_mean = np.mean(train_scores, axis=1)\n",
        "    train_std = np.std(train_scores, axis=1)\n",
        "    val_mean = np.mean(val_scores, axis=1)\n",
        "    val_std = np.std(val_scores, axis=1)\n",
        "\n",
        "    # Graficamos las curvas de aprendizaje incluyendo una región indicando la desviación estándar.\n",
        "    plt.figure(figsize=(7,6))\n",
        "    plt.plot(train_sizes, train_mean, color='blue', marker='o', markersize=5, label='Training')\n",
        "    plt.fill_between(train_sizes, train_mean + train_std, train_mean - train_std, alpha=0.1, color='blue')\n",
        "    \n",
        "    plt.plot(train_sizes, val_mean, color='red', marker='+', markersize=5, linestyle='--', label='Validation')\n",
        "    plt.fill_between(train_sizes, val_mean + val_std, val_mean - val_std, alpha=0.1, color='red')\n",
        "    \n",
        "    plt.title(titulo)\n",
        "    plt.xlabel(etiquetaX)\n",
        "    plt.ylabel(etiquetaY)\n",
        "    plt.grid()\n",
        "    plt.legend(loc='lower left')\n",
        "    plt.show()\n"
      ],
      "metadata": {
        "id": "ojkwWeTosy0m"
      },
      "execution_count": 52,
      "outputs": []
    },
    {
      "cell_type": "code",
      "source": [
        "mi_LearningCurvePlot(tr_sizes, tr_scores, val_scores, 'Random Forest - Curvas de aprendizaje', 'Datos', 'Precisión')"
      ],
      "metadata": {
        "id": "0BthOHCnuQBk",
        "colab": {
          "base_uri": "https://localhost:8080/",
          "height": 404
        },
        "outputId": "0ed9b6d5-8d76-4bb8-a4bd-000ba35ee0b1"
      },
      "execution_count": 54,
      "outputs": [
        {
          "output_type": "display_data",
          "data": {
            "text/plain": [
              "<Figure size 504x432 with 1 Axes>"
            ],
            "image/png": "[encoded data removed]"
          },
          "metadata": {
            "needs_background": "light"
          }
        }
      ]
    },
    {
      "cell_type": "code",
      "source": [
        "delta_train_sz"
      ],
      "metadata": {
        "id": "T7kviZnBvZzo",
        "colab": {
          "base_uri": "https://localhost:8080/"
        },
        "outputId": "bf5c896d-d358-49ab-e9ae-18ab9ef5f227"
      },
      "execution_count": 55,
      "outputs": [
        {
          "output_type": "execute_result",
          "data": {
            "text/plain": [
              "array([0.1       , 0.16428571, 0.22857143, 0.29285714, 0.35714286,\n",
              "       0.42142857, 0.48571429, 0.55      , 0.61428571, 0.67857143,\n",
              "       0.74285714, 0.80714286, 0.87142857, 0.93571429, 1.        ])"
            ]
          },
          "metadata": {},
          "execution_count": 55
        }
      ]
    },
    {
      "cell_type": "code",
      "source": [
        "classifierDT = DecisionTreeClassifier(max_leaf_nodes=15)\n",
        "pipeline2 = Pipeline(steps=[\n",
        "    ('dt', classifierDT),\n",
        "])\n",
        "delta_train_sz = np.linspace(0.1, 1.0, num=15, endpoint=True, retstep=False, dtype=None, axis=0)\n",
        "tr_sizes, tr_scores, val_scores = learning_curve(estimator = pipeline2,    \n",
        "                                                X = X_train,\n",
        "                                                y = y_train,\n",
        "                                                cv = kfold,\n",
        "                                                train_sizes = delta_train_sz,\n",
        "                                                random_state=42)"
      ],
      "metadata": {
        "id": "O8O5KHPGvflf"
      },
      "execution_count": 56,
      "outputs": []
    },
    {
      "cell_type": "code",
      "source": [
        "mi_LearningCurvePlot(tr_sizes, tr_scores, val_scores, 'DecisionTree - Curvas de aprendizaje', 'Datos', 'Precisión')"
      ],
      "metadata": {
        "id": "KQTRu-j0yTma",
        "colab": {
          "base_uri": "https://localhost:8080/",
          "height": 404
        },
        "outputId": "33755a78-0d64-486a-f4c0-2c180810944c"
      },
      "execution_count": 57,
      "outputs": [
        {
          "output_type": "display_data",
          "data": {
            "text/plain": [
              "<Figure size 504x432 with 1 Axes>"
            ],
            "image/png": "[encoded data removed]"
          },
          "metadata": {
            "needs_background": "light"
          }
        }
      ]
    },
    {
      "cell_type": "markdown",
      "source": [
        "# Evaluación de Random Forest"
      ],
      "metadata": {
        "id": "37VpTMFIJ8pl"
      }
    },
    {
      "cell_type": "code",
      "source": [
        "classifierRF.fit(X_train, np.ravel(y_train))\n",
        "y_pred = classifierRF.predict(X_test)"
      ],
      "metadata": {
        "id": "DYvXdsXAyYXr"
      },
      "execution_count": 77,
      "outputs": []
    },
    {
      "cell_type": "code",
      "source": [
        "print(classification_report(np.ravel(y_test), np.ravel(y_pred)))"
      ],
      "metadata": {
        "colab": {
          "base_uri": "https://localhost:8080/"
        },
        "id": "5bkapGqX9snD",
        "outputId": "a3ce5db9-1fe4-40a6-d0ef-f817a607e12a"
      },
      "execution_count": 84,
      "outputs": [
        {
          "output_type": "stream",
          "name": "stdout",
          "text": [
            "              precision    recall  f1-score   support\n",
            "\n",
            "           1       1.00      0.99      0.99        72\n",
            "           2       0.83      1.00      0.91        39\n",
            "           3       1.00      0.86      0.92        50\n",
            "\n",
            "    accuracy                           0.95       161\n",
            "   macro avg       0.94      0.95      0.94       161\n",
            "weighted avg       0.96      0.95      0.95       161\n",
            "\n"
          ]
        }
      ]
    },
    {
      "cell_type": "code",
      "source": [
        "# {'Verde':1, 'Amarillo':2, 'Rojo':3}\n",
        "cf = confusion_matrix(y_test, y_pred)\n",
        "cf"
      ],
      "metadata": {
        "colab": {
          "base_uri": "https://localhost:8080/"
        },
        "id": "lDmaHWhbA8Vt",
        "outputId": "c5da076e-1212-4179-8ec3-37c90aa4677f"
      },
      "execution_count": 142,
      "outputs": [
        {
          "output_type": "execute_result",
          "data": {
            "text/plain": [
              "array([[71,  1,  0],\n",
              "       [ 0, 39,  0],\n",
              "       [ 0,  7, 43]])"
            ]
          },
          "metadata": {},
          "execution_count": 142
        }
      ]
    },
    {
      "cell_type": "markdown",
      "source": [
        "El grado de exactitud está dado por la precisión y en el caso de la matriz de confusión se ayuda del métrico de sensibilidad. Para predecir las clases 1 y 3 tenemos un métrico de precisión de 100% y métricos de sensibilidad de 99% y 86%.\n",
        "Esto se traduce a 8 valores de 161 que fueron clasificados incorrectamente. aún así nuestro modelo; ponderando ambos métricos en el 'f1-score', obtiene un métrico de 94%. Éste es un métrico que considera precisión y sensibilidad. \n",
        "NOTA: Ésta versión de sklearn presenta los métricos de precission y recall al revés. La matriz de confusión es clara. "
      ],
      "metadata": {
        "id": "Wxy87JtxGUWD"
      }
    },
    {
      "cell_type": "code",
      "source": [
        "clases = ['Verde_1', 'Amarillo_2', 'Rojo_3']\n",
        "fig, ax = plt.subplots(1,1)\n",
        "sns.heatmap(cf, annot=True, ax=ax, yticklabels=clases, xticklabels=clases)\n",
        "plt.title('Matriz de confusión')"
      ],
      "metadata": {
        "colab": {
          "base_uri": "https://localhost:8080/",
          "height": 300
        },
        "id": "0CpNLChcDQsT",
        "outputId": "971f8c45-900b-4c31-a680-b38f06cf0e2f"
      },
      "execution_count": 143,
      "outputs": [
        {
          "output_type": "execute_result",
          "data": {
            "text/plain": [
              "Text(0.5, 1.0, 'Matriz de confusión')"
            ]
          },
          "metadata": {},
          "execution_count": 143
        },
        {
          "output_type": "display_data",
          "data": {
            "text/plain": [
              "<Figure size 432x288 with 2 Axes>"
            ],
            "image/png": "[encoded data removed]"
          },
          "metadata": {
            "needs_background": "light"
          }
        }
      ]
    },
    {
      "cell_type": "markdown",
      "source": [
        "# Evaluación de Decision Tree"
      ],
      "metadata": {
        "id": "HicjYJsMJ_yZ"
      }
    },
    {
      "cell_type": "code",
      "source": [
        "classifierDT.fit(X_train, np.ravel(y_train))\n",
        "y_pred = classifierDT.predict(X_test)"
      ],
      "metadata": {
        "id": "Y8t7RW4zDR8Q"
      },
      "execution_count": 144,
      "outputs": []
    },
    {
      "cell_type": "code",
      "source": [
        "print(classification_report(np.ravel(y_test), np.ravel(y_pred)))"
      ],
      "metadata": {
        "colab": {
          "base_uri": "https://localhost:8080/"
        },
        "id": "p5XMS2wpDdHH",
        "outputId": "8ad18b6e-c133-4b39-d50e-98a328a2b608"
      },
      "execution_count": 145,
      "outputs": [
        {
          "output_type": "stream",
          "name": "stdout",
          "text": [
            "              precision    recall  f1-score   support\n",
            "\n",
            "           1       1.00      1.00      1.00        72\n",
            "           2       0.83      1.00      0.91        39\n",
            "           3       1.00      0.84      0.91        50\n",
            "\n",
            "    accuracy                           0.95       161\n",
            "   macro avg       0.94      0.95      0.94       161\n",
            "weighted avg       0.96      0.95      0.95       161\n",
            "\n"
          ]
        }
      ]
    },
    {
      "cell_type": "code",
      "source": [
        "# {'Verde':1, 'Amarillo':2, 'Rojo':3}\n",
        "cf = confusion_matrix(y_test, y_pred)\n",
        "cf"
      ],
      "metadata": {
        "colab": {
          "base_uri": "https://localhost:8080/"
        },
        "id": "zFHY7bjcKMBx",
        "outputId": "016cbc13-dcb3-4533-9968-f6d4928a1f8a"
      },
      "execution_count": 146,
      "outputs": [
        {
          "output_type": "execute_result",
          "data": {
            "text/plain": [
              "array([[72,  0,  0],\n",
              "       [ 0, 39,  0],\n",
              "       [ 0,  8, 42]])"
            ]
          },
          "metadata": {},
          "execution_count": 146
        }
      ]
    },
    {
      "cell_type": "code",
      "source": [
        "clases = ['Verde_1', 'Amarillo_2', 'Rojo_3']\n",
        "fig, ax = plt.subplots(1,1)\n",
        "sns.heatmap(cf, annot=True, ax=ax, yticklabels=clases, xticklabels=clases)\n",
        "plt.title('Matriz de confusión')"
      ],
      "metadata": {
        "colab": {
          "base_uri": "https://localhost:8080/",
          "height": 300
        },
        "id": "iH8E2ekLKZAx",
        "outputId": "70d7be34-284d-4422-9be7-d78b9e583584"
      },
      "execution_count": 147,
      "outputs": [
        {
          "output_type": "execute_result",
          "data": {
            "text/plain": [
              "Text(0.5, 1.0, 'Matriz de confusión')"
            ]
          },
          "metadata": {},
          "execution_count": 147
        },
        {
          "output_type": "display_data",
          "data": {
            "text/plain": [
              "<Figure size 432x288 with 2 Axes>"
            ],
            "image/png": "[encoded data removed]"
          },
          "metadata": {
            "needs_background": "light"
          }
        }
      ]
    },
    {
      "cell_type": "markdown",
      "source": [
        "# Análisis de aguas superficiales"
      ],
      "metadata": {
        "id": "7aEzUurMLCbq"
      }
    },
    {
      "cell_type": "code",
      "source": [
        "indicadoresCalidadSup = ['CALIDAD_TOX_V_15',\n",
        "                      'CALIDAD_TOX_D_48',\n",
        "                      'CALIDAD_SST',\n",
        "                      'CALIDAD_ENTEROC',\n",
        "                      'CALIDAD_E_COLI',\n",
        "                      'CALIDAD_DQO',\n",
        "                      'CALIDAD_DBO',\n",
        "                      'CALIDAD_COLI_FEC',\n",
        "                      'CALIDAD_OD_PORC']"
      ],
      "metadata": {
        "id": "TTzDeH_6KfyQ"
      },
      "execution_count": 148,
      "outputs": []
    },
    {
      "cell_type": "code",
      "source": [
        "QtyLabels = []\n",
        "for x in indicadoresCalidadSup:\n",
        "    print(x)\n",
        "    #print(df_sup[x].isna().sum())\n",
        "    Qty=df_sup[x].unique()\n",
        "    print(Qty)\n",
        "    for y in Qty: \n",
        "        QtyLabels.append(y)"
      ],
      "metadata": {
        "colab": {
          "base_uri": "https://localhost:8080/"
        },
        "id": "BuMOgNNkLkD1",
        "outputId": "df35947a-31e8-42a8-a52a-253332565ac2"
      },
      "execution_count": 149,
      "outputs": [
        {
          "output_type": "stream",
          "name": "stdout",
          "text": [
            "CALIDAD_TOX_V_15\n",
            "[nan 'No Toxico' 'Toxicidad moderada' 'Toxicidad alta' 'Toxicidad baja']\n",
            "CALIDAD_TOX_D_48\n",
            "[nan 'No Toxico' 'Toxicidad moderada' 'Toxicidad baja' 'Toxicidad alta']\n",
            "CALIDAD_SST\n",
            "['Excelente' 'Buena calidad' 'Contaminada' 'Aceptable' nan\n",
            " 'Fuertemente contaminada']\n",
            "CALIDAD_ENTEROC\n",
            "[nan 'Excelente' 'Contaminada' 'Fuertemente contaminada' 'Buena calidad']\n",
            "CALIDAD_E_COLI\n",
            "['Excelente' nan 'Buena calidad' 'Fuertemente contaminada' 'Contaminada'\n",
            " 'Aceptable']\n",
            "CALIDAD_DQO\n",
            "['Contaminada' nan 'Excelente' 'Aceptable' 'Buena calidad'\n",
            " 'Fuertemente contaminada']\n",
            "CALIDAD_DBO\n",
            "['Buena calidad' nan 'Excelente' 'Aceptable' 'Contaminada'\n",
            " 'Fuertemente contaminada']\n",
            "CALIDAD_COLI_FEC\n",
            "['Contaminada' nan 'Buena calidad' 'Fuertemente contaminada' 'Excelente'\n",
            " 'Aceptable']\n",
            "CALIDAD_OD_PORC\n",
            "[nan 'Excelente' 'Contaminada' 'Fuertemente contaminada' 'Aceptable'\n",
            " 'Buena calidad']\n"
          ]
        }
      ]
    },
    {
      "cell_type": "code",
      "source": [
        "QtyLabels=list(dict.fromkeys(QtyLabels))\n",
        "QtyLabels"
      ],
      "metadata": {
        "colab": {
          "base_uri": "https://localhost:8080/"
        },
        "id": "eoddZC5KNoOb",
        "outputId": "c7ad3864-440c-496d-9837-83a4afa7d34e"
      },
      "execution_count": 150,
      "outputs": [
        {
          "output_type": "execute_result",
          "data": {
            "text/plain": [
              "[nan,\n",
              " 'No Toxico',\n",
              " 'Toxicidad moderada',\n",
              " 'Toxicidad alta',\n",
              " 'Toxicidad baja',\n",
              " 'Excelente',\n",
              " 'Buena calidad',\n",
              " 'Contaminada',\n",
              " 'Aceptable',\n",
              " 'Fuertemente contaminada']"
            ]
          },
          "metadata": {},
          "execution_count": 150
        }
      ]
    },
    {
      "cell_type": "code",
      "source": [
        "df_sup.replace({\n",
        "    'Excelente':20,\n",
        "    'Buena calidad':10,\n",
        "    'Aceptable':3,\n",
        "    'Contaminada':-10,\n",
        "    'Fuertemente contaminada':-20,\n",
        "    'No Toxico':1,\n",
        "    'Toxicidad baja':-2,\n",
        "    'Toxicidad moderada':-10,\n",
        "    'Toxicidad alta':-20,\n",
        "    np.NaN:0\n",
        "}, inplace=True)"
      ],
      "metadata": {
        "id": "mpJ6cz4bNwL3"
      },
      "execution_count": 151,
      "outputs": []
    },
    {
      "cell_type": "code",
      "source": [
        "conservarCols =indicadoresCalidadSup + ['ESTADO',\n",
        " 'LATITUD',\n",
        " 'LONGITUD',\n",
        " 'SEMAFORO'                \n",
        "]\n",
        "removerCols = [x for x in df_sup.columns if x not in conservarCols]"
      ],
      "metadata": {
        "id": "iTLPiNwONxBj"
      },
      "execution_count": 152,
      "outputs": []
    },
    {
      "cell_type": "code",
      "source": [
        "# Remover columnas que no utilizaremos\n",
        "df_sup.drop(columns=removerCols, inplace=True)"
      ],
      "metadata": {
        "id": "wdJHSU-zOKXO"
      },
      "execution_count": 153,
      "outputs": []
    },
    {
      "cell_type": "code",
      "source": [
        "df_sup.replace({\n",
        "    'Verde':1,\n",
        "    'Amarillo':2,\n",
        "    'Rojo':3\n",
        "}, inplace=True)\n",
        "plt.scatter(df_sup.index, df_sup['SEMAFORO'])"
      ],
      "metadata": {
        "colab": {
          "base_uri": "https://localhost:8080/",
          "height": 283
        },
        "id": "d4rHRIZqONNM",
        "outputId": "cfb06dfb-4a66-4151-9549-fc2505856bd0"
      },
      "execution_count": 154,
      "outputs": [
        {
          "output_type": "execute_result",
          "data": {
            "text/plain": [
              "<matplotlib.collections.PathCollection at 0x7f7b25c06190>"
            ]
          },
          "metadata": {},
          "execution_count": 154
        },
        {
          "output_type": "display_data",
          "data": {
            "text/plain": [
              "<Figure size 432x288 with 1 Axes>"
            ],
            "image/png": "[encoded data removed]"
          },
          "metadata": {
            "needs_background": "light"
          }
        }
      ]
    },
    {
      "cell_type": "code",
      "source": [
        "df_sup['SEMAFORO'].describe()\n"
      ],
      "metadata": {
        "colab": {
          "base_uri": "https://localhost:8080/"
        },
        "id": "N3HlnmYwOSzZ",
        "outputId": "29a1cf64-9291-4e71-a136-8c3956a97044"
      },
      "execution_count": 155,
      "outputs": [
        {
          "output_type": "execute_result",
          "data": {
            "text/plain": [
              "count    3493.000000\n",
              "mean        1.949614\n",
              "std         0.820194\n",
              "min         1.000000\n",
              "25%         1.000000\n",
              "50%         2.000000\n",
              "75%         3.000000\n",
              "max         3.000000\n",
              "Name: SEMAFORO, dtype: float64"
            ]
          },
          "metadata": {},
          "execution_count": 155
        }
      ]
    },
    {
      "cell_type": "code",
      "source": [
        "df_sup['SEMAFORO'].value_counts()"
      ],
      "metadata": {
        "colab": {
          "base_uri": "https://localhost:8080/"
        },
        "id": "LLOlClYnOViF",
        "outputId": "ebfc213d-33af-4bc9-d7b8-b8424f0d7074"
      },
      "execution_count": 156,
      "outputs": [
        {
          "output_type": "execute_result",
          "data": {
            "text/plain": [
              "1    1267\n",
              "2    1135\n",
              "3    1091\n",
              "Name: SEMAFORO, dtype: int64"
            ]
          },
          "metadata": {},
          "execution_count": 156
        }
      ]
    },
    {
      "cell_type": "code",
      "source": [
        "df_sup"
      ],
      "metadata": {
        "colab": {
          "base_uri": "https://localhost:8080/",
          "height": 557
        },
        "id": "j0WRA0JDOXDy",
        "outputId": "61773f80-da7f-4b52-9328-1e248f347517"
      },
      "execution_count": 157,
      "outputs": [
        {
          "output_type": "execute_result",
          "data": {
            "text/plain": [
              "                   ESTADO   LONGITUD   LATITUD  CALIDAD_DBO  CALIDAD_DQO  \\\n",
              "0          AGUASCALIENTES -102.33911  22.24730           10          -10   \n",
              "1     BAJA CALIFORNIA SUR -109.84290  22.90473            0            0   \n",
              "2     BAJA CALIFORNIA SUR -109.86442  22.89880            0            0   \n",
              "3     BAJA CALIFORNIA SUR -109.88604  22.89609            0            0   \n",
              "4     BAJA CALIFORNIA SUR -109.89657  22.87694            0            0   \n",
              "...                   ...        ...       ...          ...          ...   \n",
              "3488           TAMAULIPAS  -99.42142  26.78971           20           20   \n",
              "3489           TAMAULIPAS  -99.53064  27.43714          -10          -10   \n",
              "3490           TAMAULIPAS  -99.50727  27.49901           10          -10   \n",
              "3491           TAMAULIPAS  -99.52221  27.49631           20            3   \n",
              "3492           TAMAULIPAS  -99.52572  27.51697           20            3   \n",
              "\n",
              "      CALIDAD_SST  CALIDAD_COLI_FEC  CALIDAD_E_COLI  CALIDAD_ENTEROC  \\\n",
              "0              20               -10              20                0   \n",
              "1              20                 0               0               20   \n",
              "2              20                 0               0               20   \n",
              "3              20                 0               0               20   \n",
              "4              20                 0               0               20   \n",
              "...           ...               ...             ...              ...   \n",
              "3488            3               -10             -20                0   \n",
              "3489           10               -10              20                0   \n",
              "3490           10                 3              20                0   \n",
              "3491           10               -10              20                0   \n",
              "3492           10               -10              20                0   \n",
              "\n",
              "      CALIDAD_OD_PORC  CALIDAD_TOX_D_48  CALIDAD_TOX_V_15  SEMAFORO  \n",
              "0                   0                 0                 0         3  \n",
              "1                   0                 0                 0         1  \n",
              "2                   0                 0                 0         1  \n",
              "3                   0                 0                 0         1  \n",
              "4                   0                 0                 0         1  \n",
              "...               ...               ...               ...       ...  \n",
              "3488               10                 1                 1         2  \n",
              "3489                0                 0                 0         3  \n",
              "3490               20                 1                 1         3  \n",
              "3491               20                 1                 1         2  \n",
              "3492               20                 1                 1         2  \n",
              "\n",
              "[3493 rows x 13 columns]"
            ],
            "text/html": [
              "\n",
              "  <div id=\"df-7577fac2-c122-4c9e-a439-f19bf03a5541\">\n",
              "    <div class=\"colab-df-container\">\n",
              "      <div>\n",
              "<style scoped>\n",
              "    .dataframe tbody tr th:only-of-type {\n",
              "        vertical-align: middle;\n",
              "    }\n",
              "\n",
              "    .dataframe tbody tr th {\n",
              "        vertical-align: top;\n",
              "    }\n",
              "\n",
              "    .dataframe thead th {\n",
              "        text-align: right;\n",
              "    }\n",
              "</style>\n",
              "<table border=\"1\" class=\"dataframe\">\n",
              "  <thead>\n",
              "    <tr style=\"text-align: right;\">\n",
              "      <th></th>\n",
              "      <th>ESTADO</th>\n",
              "      <th>LONGITUD</th>\n",
              "      <th>LATITUD</th>\n",
              "      <th>CALIDAD_DBO</th>\n",
              "      <th>CALIDAD_DQO</th>\n",
              "      <th>CALIDAD_SST</th>\n",
              "      <th>CALIDAD_COLI_FEC</th>\n",
              "      <th>CALIDAD_E_COLI</th>\n",
              "      <th>CALIDAD_ENTEROC</th>\n",
              "      <th>CALIDAD_OD_PORC</th>\n",
              "      <th>CALIDAD_TOX_D_48</th>\n",
              "      <th>CALIDAD_TOX_V_15</th>\n",
              "      <th>SEMAFORO</th>\n",
              "    </tr>\n",
              "  </thead>\n",
              "  <tbody>\n",
              "    <tr>\n",
              "      <th>0</th>\n",
              "      <td>AGUASCALIENTES</td>\n",
              "      <td>-102.33911</td>\n",
              "      <td>22.24730</td>\n",
              "      <td>10</td>\n",
              "      <td>-10</td>\n",
              "      <td>20</td>\n",
              "      <td>-10</td>\n",
              "      <td>20</td>\n",
              "      <td>0</td>\n",
              "      <td>0</td>\n",
              "      <td>0</td>\n",
              "      <td>0</td>\n",
              "      <td>3</td>\n",
              "    </tr>\n",
              "    <tr>\n",
              "      <th>1</th>\n",
              "      <td>BAJA CALIFORNIA SUR</td>\n",
              "      <td>-109.84290</td>\n",
              "      <td>22.90473</td>\n",
              "      <td>0</td>\n",
              "      <td>0</td>\n",
              "      <td>20</td>\n",
              "      <td>0</td>\n",
              "      <td>0</td>\n",
              "      <td>20</td>\n",
              "      <td>0</td>\n",
              "      <td>0</td>\n",
              "      <td>0</td>\n",
              "      <td>1</td>\n",
              "    </tr>\n",
              "    <tr>\n",
              "      <th>2</th>\n",
              "      <td>BAJA CALIFORNIA SUR</td>\n",
              "      <td>-109.86442</td>\n",
              "      <td>22.89880</td>\n",
              "      <td>0</td>\n",
              "      <td>0</td>\n",
              "      <td>20</td>\n",
              "      <td>0</td>\n",
              "      <td>0</td>\n",
              "      <td>20</td>\n",
              "      <td>0</td>\n",
              "      <td>0</td>\n",
              "      <td>0</td>\n",
              "      <td>1</td>\n",
              "    </tr>\n",
              "    <tr>\n",
              "      <th>3</th>\n",
              "      <td>BAJA CALIFORNIA SUR</td>\n",
              "      <td>-109.88604</td>\n",
              "      <td>22.89609</td>\n",
              "      <td>0</td>\n",
              "      <td>0</td>\n",
              "      <td>20</td>\n",
              "      <td>0</td>\n",
              "      <td>0</td>\n",
              "      <td>20</td>\n",
              "      <td>0</td>\n",
              "      <td>0</td>\n",
              "      <td>0</td>\n",
              "      <td>1</td>\n",
              "    </tr>\n",
              "    <tr>\n",
              "      <th>4</th>\n",
              "      <td>BAJA CALIFORNIA SUR</td>\n",
              "      <td>-109.89657</td>\n",
              "      <td>22.87694</td>\n",
              "      <td>0</td>\n",
              "      <td>0</td>\n",
              "      <td>20</td>\n",
              "      <td>0</td>\n",
              "      <td>0</td>\n",
              "      <td>20</td>\n",
              "      <td>0</td>\n",
              "      <td>0</td>\n",
              "      <td>0</td>\n",
              "      <td>1</td>\n",
              "    </tr>\n",
              "    <tr>\n",
              "      <th>...</th>\n",
              "      <td>...</td>\n",
              "      <td>...</td>\n",
              "      <td>...</td>\n",
              "      <td>...</td>\n",
              "      <td>...</td>\n",
              "      <td>...</td>\n",
              "      <td>...</td>\n",
              "      <td>...</td>\n",
              "      <td>...</td>\n",
              "      <td>...</td>\n",
              "      <td>...</td>\n",
              "      <td>...</td>\n",
              "      <td>...</td>\n",
              "    </tr>\n",
              "    <tr>\n",
              "      <th>3488</th>\n",
              "      <td>TAMAULIPAS</td>\n",
              "      <td>-99.42142</td>\n",
              "      <td>26.78971</td>\n",
              "      <td>20</td>\n",
              "      <td>20</td>\n",
              "      <td>3</td>\n",
              "      <td>-10</td>\n",
              "      <td>-20</td>\n",
              "      <td>0</td>\n",
              "      <td>10</td>\n",
              "      <td>1</td>\n",
              "      <td>1</td>\n",
              "      <td>2</td>\n",
              "    </tr>\n",
              "    <tr>\n",
              "      <th>3489</th>\n",
              "      <td>TAMAULIPAS</td>\n",
              "      <td>-99.53064</td>\n",
              "      <td>27.43714</td>\n",
              "      <td>-10</td>\n",
              "      <td>-10</td>\n",
              "      <td>10</td>\n",
              "      <td>-10</td>\n",
              "      <td>20</td>\n",
              "      <td>0</td>\n",
              "      <td>0</td>\n",
              "      <td>0</td>\n",
              "      <td>0</td>\n",
              "      <td>3</td>\n",
              "    </tr>\n",
              "    <tr>\n",
              "      <th>3490</th>\n",
              "      <td>TAMAULIPAS</td>\n",
              "      <td>-99.50727</td>\n",
              "      <td>27.49901</td>\n",
              "      <td>10</td>\n",
              "      <td>-10</td>\n",
              "      <td>10</td>\n",
              "      <td>3</td>\n",
              "      <td>20</td>\n",
              "      <td>0</td>\n",
              "      <td>20</td>\n",
              "      <td>1</td>\n",
              "      <td>1</td>\n",
              "      <td>3</td>\n",
              "    </tr>\n",
              "    <tr>\n",
              "      <th>3491</th>\n",
              "      <td>TAMAULIPAS</td>\n",
              "      <td>-99.52221</td>\n",
              "      <td>27.49631</td>\n",
              "      <td>20</td>\n",
              "      <td>3</td>\n",
              "      <td>10</td>\n",
              "      <td>-10</td>\n",
              "      <td>20</td>\n",
              "      <td>0</td>\n",
              "      <td>20</td>\n",
              "      <td>1</td>\n",
              "      <td>1</td>\n",
              "      <td>2</td>\n",
              "    </tr>\n",
              "    <tr>\n",
              "      <th>3492</th>\n",
              "      <td>TAMAULIPAS</td>\n",
              "      <td>-99.52572</td>\n",
              "      <td>27.51697</td>\n",
              "      <td>20</td>\n",
              "      <td>3</td>\n",
              "      <td>10</td>\n",
              "      <td>-10</td>\n",
              "      <td>20</td>\n",
              "      <td>0</td>\n",
              "      <td>20</td>\n",
              "      <td>1</td>\n",
              "      <td>1</td>\n",
              "      <td>2</td>\n",
              "    </tr>\n",
              "  </tbody>\n",
              "</table>\n",
              "<p>3493 rows × 13 columns</p>\n",
              "</div>\n",
              "      <button class=\"colab-df-convert\" onclick=\"convertToInteractive('df-7577fac2-c122-4c9e-a439-f19bf03a5541')\"\n",
              "              title=\"Convert this dataframe to an interactive table.\"\n",
              "              style=\"display:none;\">\n",
              "        \n",
              "  <svg xmlns=\"http://www.w3.org/2000/svg\" height=\"24px\"viewBox=\"0 0 24 24\"\n",
              "       width=\"24px\">\n",
              "    <path d=\"M0 0h24v24H0V0z\" fill=\"none\"/>\n",
              "    <path d=\"M18.56 5.44l.94 2.06.94-2.06 2.06-.94-2.06-.94-.94-2.06-.94 2.06-2.06.94zm-11 1L8.5 8.5l.94-2.06 2.06-.94-2.06-.94L8.5 2.5l-.94 2.06-2.06.94zm10 10l.94 2.06.94-2.06 2.06-.94-2.06-.94-.94-2.06-.94 2.06-2.06.94z\"/><path d=\"M17.41 7.96l-1.37-1.37c-.4-.4-.92-.59-1.43-.59-.52 0-1.04.2-1.43.59L10.3 9.45l-7.72 7.72c-.78.78-.78 2.05 0 2.83L4 21.41c.39.39.9.59 1.41.59.51 0 1.02-.2 1.41-.59l7.78-7.78 2.81-2.81c.8-.78.8-2.07 0-2.86zM5.41 20L4 18.59l7.72-7.72 1.47 1.35L5.41 20z\"/>\n",
              "  </svg>\n",
              "      </button>\n",
              "      \n",
              "  <style>\n",
              "    .colab-df-container {\n",
              "      display:flex;\n",
              "      flex-wrap:wrap;\n",
              "      gap: 12px;\n",
              "    }\n",
              "\n",
              "    .colab-df-convert {\n",
              "      background-color: #E8F0FE;\n",
              "      border: none;\n",
              "      border-radius: 50%;\n",
              "      cursor: pointer;\n",
              "      display: none;\n",
              "      fill: #1967D2;\n",
              "      height: 32px;\n",
              "      padding: 0 0 0 0;\n",
              "      width: 32px;\n",
              "    }\n",
              "\n",
              "    .colab-df-convert:hover {\n",
              "      background-color: #E2EBFA;\n",
              "      box-shadow: 0px 1px 2px rgba(60, 64, 67, 0.3), 0px 1px 3px 1px rgba(60, 64, 67, 0.15);\n",
              "      fill: #174EA6;\n",
              "    }\n",
              "\n",
              "    [theme=dark] .colab-df-convert {\n",
              "      background-color: #3B4455;\n",
              "      fill: #D2E3FC;\n",
              "    }\n",
              "\n",
              "    [theme=dark] .colab-df-convert:hover {\n",
              "      background-color: #434B5C;\n",
              "      box-shadow: 0px 1px 3px 1px rgba(0, 0, 0, 0.15);\n",
              "      filter: drop-shadow(0px 1px 2px rgba(0, 0, 0, 0.3));\n",
              "      fill: #FFFFFF;\n",
              "    }\n",
              "  </style>\n",
              "\n",
              "      <script>\n",
              "        const buttonEl =\n",
              "          document.querySelector('#df-7577fac2-c122-4c9e-a439-f19bf03a5541 button.colab-df-convert');\n",
              "        buttonEl.style.display =\n",
              "          google.colab.kernel.accessAllowed ? 'block' : 'none';\n",
              "\n",
              "        async function convertToInteractive(key) {\n",
              "          const element = document.querySelector('#df-7577fac2-c122-4c9e-a439-f19bf03a5541');\n",
              "          const dataTable =\n",
              "            await google.colab.kernel.invokeFunction('convertToInteractive',\n",
              "                                                     [key], {});\n",
              "          if (!dataTable) return;\n",
              "\n",
              "          const docLinkHtml = 'Like what you see? Visit the ' +\n",
              "            '<a target=\"_blank\" href=https://colab.research.google.com/notebooks/data_table.ipynb>data table notebook</a>'\n",
              "            + ' to learn more about interactive tables.';\n",
              "          element.innerHTML = '';\n",
              "          dataTable['output_type'] = 'display_data';\n",
              "          await google.colab.output.renderOutput(dataTable, element);\n",
              "          const docLink = document.createElement('div');\n",
              "          docLink.innerHTML = docLinkHtml;\n",
              "          element.appendChild(docLink);\n",
              "        }\n",
              "      </script>\n",
              "    </div>\n",
              "  </div>\n",
              "  "
            ]
          },
          "metadata": {},
          "execution_count": 157
        }
      ]
    },
    {
      "cell_type": "code",
      "source": [
        "# Split data\n",
        "X = df_sup.iloc[:,1:-1]\n",
        "y = df_sup.iloc[:,-1]\n",
        "X_train, X_test, y_train, y_test = train_test_split(X, y, test_size=0.2, random_state=42)"
      ],
      "metadata": {
        "id": "ulcGjElNOYI8"
      },
      "execution_count": 159,
      "outputs": []
    },
    {
      "cell_type": "code",
      "source": [
        "classifierRF = RandomForestClassifier(n_estimators=500, max_leaf_nodes=16, n_jobs=-1)\n",
        "classifierRF.fit(X_train, y_train)"
      ],
      "metadata": {
        "colab": {
          "base_uri": "https://localhost:8080/"
        },
        "id": "Ma4SdSVNOcln",
        "outputId": "338fcc82-96a7-44f7-ace5-a9049408a8cc"
      },
      "execution_count": 160,
      "outputs": [
        {
          "output_type": "execute_result",
          "data": {
            "text/plain": [
              "RandomForestClassifier(max_leaf_nodes=16, n_estimators=500, n_jobs=-1)"
            ]
          },
          "metadata": {},
          "execution_count": 160
        }
      ]
    },
    {
      "cell_type": "markdown",
      "source": [
        "# Importancia de parámetros"
      ],
      "metadata": {
        "id": "hYWIlWHkOnR3"
      }
    },
    {
      "cell_type": "code",
      "source": [
        "featureImportances = {}\n",
        "for name, score in zip(df_sup.columns[1:-1], classifierRF.feature_importances_):\n",
        "  featureImportances[name] = score\n",
        "  print('{0:20s} -> {1:6.3f}'.format(name, score*100))"
      ],
      "metadata": {
        "colab": {
          "base_uri": "https://localhost:8080/"
        },
        "id": "uEkUAEmTOkWa",
        "outputId": "a8642072-e2f5-4fec-b92f-0ca6ea0c7461"
      },
      "execution_count": 161,
      "outputs": [
        {
          "output_type": "stream",
          "name": "stdout",
          "text": [
            "LONGITUD             ->  1.192\n",
            "LATITUD              ->  1.190\n",
            "CALIDAD_DBO          ->  6.803\n",
            "CALIDAD_DQO          -> 39.008\n",
            "CALIDAD_SST          ->  1.406\n",
            "CALIDAD_COLI_FEC     -> 23.247\n",
            "CALIDAD_E_COLI       ->  7.004\n",
            "CALIDAD_ENTEROC      -> 13.964\n",
            "CALIDAD_OD_PORC      ->  2.369\n",
            "CALIDAD_TOX_D_48     ->  1.638\n",
            "CALIDAD_TOX_V_15     ->  2.180\n"
          ]
        }
      ]
    },
    {
      "cell_type": "code",
      "source": [
        "_ = pd.DataFrame(featureImportances, index=[0]).T\n",
        "_"
      ],
      "metadata": {
        "colab": {
          "base_uri": "https://localhost:8080/",
          "height": 394
        },
        "id": "SX-EUvUPOztX",
        "outputId": "3a884fa2-0277-4fdb-de22-0b323365fba5"
      },
      "execution_count": 162,
      "outputs": [
        {
          "output_type": "execute_result",
          "data": {
            "text/plain": [
              "                         0\n",
              "LONGITUD          0.011924\n",
              "LATITUD           0.011895\n",
              "CALIDAD_DBO       0.068030\n",
              "CALIDAD_DQO       0.390076\n",
              "CALIDAD_SST       0.014059\n",
              "CALIDAD_COLI_FEC  0.232472\n",
              "CALIDAD_E_COLI    0.070039\n",
              "CALIDAD_ENTEROC   0.139636\n",
              "CALIDAD_OD_PORC   0.023690\n",
              "CALIDAD_TOX_D_48  0.016376\n",
              "CALIDAD_TOX_V_15  0.021804"
            ],
            "text/html": [
              "\n",
              "  <div id=\"df-433b27db-133d-4dc5-a8fd-eecc435d13a0\">\n",
              "    <div class=\"colab-df-container\">\n",
              "      <div>\n",
              "<style scoped>\n",
              "    .dataframe tbody tr th:only-of-type {\n",
              "        vertical-align: middle;\n",
              "    }\n",
              "\n",
              "    .dataframe tbody tr th {\n",
              "        vertical-align: top;\n",
              "    }\n",
              "\n",
              "    .dataframe thead th {\n",
              "        text-align: right;\n",
              "    }\n",
              "</style>\n",
              "<table border=\"1\" class=\"dataframe\">\n",
              "  <thead>\n",
              "    <tr style=\"text-align: right;\">\n",
              "      <th></th>\n",
              "      <th>0</th>\n",
              "    </tr>\n",
              "  </thead>\n",
              "  <tbody>\n",
              "    <tr>\n",
              "      <th>LONGITUD</th>\n",
              "      <td>0.011924</td>\n",
              "    </tr>\n",
              "    <tr>\n",
              "      <th>LATITUD</th>\n",
              "      <td>0.011895</td>\n",
              "    </tr>\n",
              "    <tr>\n",
              "      <th>CALIDAD_DBO</th>\n",
              "      <td>0.068030</td>\n",
              "    </tr>\n",
              "    <tr>\n",
              "      <th>CALIDAD_DQO</th>\n",
              "      <td>0.390076</td>\n",
              "    </tr>\n",
              "    <tr>\n",
              "      <th>CALIDAD_SST</th>\n",
              "      <td>0.014059</td>\n",
              "    </tr>\n",
              "    <tr>\n",
              "      <th>CALIDAD_COLI_FEC</th>\n",
              "      <td>0.232472</td>\n",
              "    </tr>\n",
              "    <tr>\n",
              "      <th>CALIDAD_E_COLI</th>\n",
              "      <td>0.070039</td>\n",
              "    </tr>\n",
              "    <tr>\n",
              "      <th>CALIDAD_ENTEROC</th>\n",
              "      <td>0.139636</td>\n",
              "    </tr>\n",
              "    <tr>\n",
              "      <th>CALIDAD_OD_PORC</th>\n",
              "      <td>0.023690</td>\n",
              "    </tr>\n",
              "    <tr>\n",
              "      <th>CALIDAD_TOX_D_48</th>\n",
              "      <td>0.016376</td>\n",
              "    </tr>\n",
              "    <tr>\n",
              "      <th>CALIDAD_TOX_V_15</th>\n",
              "      <td>0.021804</td>\n",
              "    </tr>\n",
              "  </tbody>\n",
              "</table>\n",
              "</div>\n",
              "      <button class=\"colab-df-convert\" onclick=\"convertToInteractive('df-433b27db-133d-4dc5-a8fd-eecc435d13a0')\"\n",
              "              title=\"Convert this dataframe to an interactive table.\"\n",
              "              style=\"display:none;\">\n",
              "        \n",
              "  <svg xmlns=\"http://www.w3.org/2000/svg\" height=\"24px\"viewBox=\"0 0 24 24\"\n",
              "       width=\"24px\">\n",
              "    <path d=\"M0 0h24v24H0V0z\" fill=\"none\"/>\n",
              "    <path d=\"M18.56 5.44l.94 2.06.94-2.06 2.06-.94-2.06-.94-.94-2.06-.94 2.06-2.06.94zm-11 1L8.5 8.5l.94-2.06 2.06-.94-2.06-.94L8.5 2.5l-.94 2.06-2.06.94zm10 10l.94 2.06.94-2.06 2.06-.94-2.06-.94-.94-2.06-.94 2.06-2.06.94z\"/><path d=\"M17.41 7.96l-1.37-1.37c-.4-.4-.92-.59-1.43-.59-.52 0-1.04.2-1.43.59L10.3 9.45l-7.72 7.72c-.78.78-.78 2.05 0 2.83L4 21.41c.39.39.9.59 1.41.59.51 0 1.02-.2 1.41-.59l7.78-7.78 2.81-2.81c.8-.78.8-2.07 0-2.86zM5.41 20L4 18.59l7.72-7.72 1.47 1.35L5.41 20z\"/>\n",
              "  </svg>\n",
              "      </button>\n",
              "      \n",
              "  <style>\n",
              "    .colab-df-container {\n",
              "      display:flex;\n",
              "      flex-wrap:wrap;\n",
              "      gap: 12px;\n",
              "    }\n",
              "\n",
              "    .colab-df-convert {\n",
              "      background-color: #E8F0FE;\n",
              "      border: none;\n",
              "      border-radius: 50%;\n",
              "      cursor: pointer;\n",
              "      display: none;\n",
              "      fill: #1967D2;\n",
              "      height: 32px;\n",
              "      padding: 0 0 0 0;\n",
              "      width: 32px;\n",
              "    }\n",
              "\n",
              "    .colab-df-convert:hover {\n",
              "      background-color: #E2EBFA;\n",
              "      box-shadow: 0px 1px 2px rgba(60, 64, 67, 0.3), 0px 1px 3px 1px rgba(60, 64, 67, 0.15);\n",
              "      fill: #174EA6;\n",
              "    }\n",
              "\n",
              "    [theme=dark] .colab-df-convert {\n",
              "      background-color: #3B4455;\n",
              "      fill: #D2E3FC;\n",
              "    }\n",
              "\n",
              "    [theme=dark] .colab-df-convert:hover {\n",
              "      background-color: #434B5C;\n",
              "      box-shadow: 0px 1px 3px 1px rgba(0, 0, 0, 0.15);\n",
              "      filter: drop-shadow(0px 1px 2px rgba(0, 0, 0, 0.3));\n",
              "      fill: #FFFFFF;\n",
              "    }\n",
              "  </style>\n",
              "\n",
              "      <script>\n",
              "        const buttonEl =\n",
              "          document.querySelector('#df-433b27db-133d-4dc5-a8fd-eecc435d13a0 button.colab-df-convert');\n",
              "        buttonEl.style.display =\n",
              "          google.colab.kernel.accessAllowed ? 'block' : 'none';\n",
              "\n",
              "        async function convertToInteractive(key) {\n",
              "          const element = document.querySelector('#df-433b27db-133d-4dc5-a8fd-eecc435d13a0');\n",
              "          const dataTable =\n",
              "            await google.colab.kernel.invokeFunction('convertToInteractive',\n",
              "                                                     [key], {});\n",
              "          if (!dataTable) return;\n",
              "\n",
              "          const docLinkHtml = 'Like what you see? Visit the ' +\n",
              "            '<a target=\"_blank\" href=https://colab.research.google.com/notebooks/data_table.ipynb>data table notebook</a>'\n",
              "            + ' to learn more about interactive tables.';\n",
              "          element.innerHTML = '';\n",
              "          dataTable['output_type'] = 'display_data';\n",
              "          await google.colab.output.renderOutput(dataTable, element);\n",
              "          const docLink = document.createElement('div');\n",
              "          docLink.innerHTML = docLinkHtml;\n",
              "          element.appendChild(docLink);\n",
              "        }\n",
              "      </script>\n",
              "    </div>\n",
              "  </div>\n",
              "  "
            ]
          },
          "metadata": {},
          "execution_count": 162
        }
      ]
    },
    {
      "cell_type": "code",
      "source": [
        "import pandas as pd\n",
        "import matplotlib.pyplot as plt\n",
        "from matplotlib.ticker import PercentFormatter\n",
        "\n",
        "_.rename(columns={0:'Importancia'}, inplace=True)\n",
        "_ = _.sort_values(by='Importancia',ascending=False)\n",
        "_[\"Importancia_porcentaje\"] = _[\"Importancia\"].cumsum()/_[\"Importancia\"].sum()*100\n",
        "\n",
        "\n",
        "fig, ax = plt.subplots(figsize=(16,9))\n",
        "ax.bar(_.index, _[\"Importancia\"], color=\"C0\")\n",
        "ax2 = ax.twinx()\n",
        "ax2.plot(_.index, _[\"Importancia_porcentaje\"], color=\"C1\", marker=\"D\", ms=7)\n",
        "ax2.yaxis.set_major_formatter(PercentFormatter())\n",
        "\n",
        "ax.tick_params(axis=\"y\", colors=\"C0\")\n",
        "ax2.tick_params(axis=\"y\", colors=\"C1\")\n",
        "ax.set_xticklabels(_.index, rotation = 45)\n",
        "plt.show()"
      ],
      "metadata": {
        "colab": {
          "base_uri": "https://localhost:8080/",
          "height": 605
        },
        "id": "D-0fybKIO1l5",
        "outputId": "948329e6-6805-4cbd-d2cf-1dbd9a09bf82"
      },
      "execution_count": 163,
      "outputs": [
        {
          "output_type": "display_data",
          "data": {
            "text/plain": [
              "<Figure size 1152x648 with 2 Axes>"
            ],
            "image/png": "[encoded data removed]"
          },
          "metadata": {}
        }
      ]
    },
    {
      "cell_type": "code",
      "source": [
        "_"
      ],
      "metadata": {
        "colab": {
          "base_uri": "https://localhost:8080/",
          "height": 394
        },
        "id": "fpkQ96FDO93I",
        "outputId": "5c6d2326-7cad-41e9-aeb0-595cb7f444f1"
      },
      "execution_count": 164,
      "outputs": [
        {
          "output_type": "execute_result",
          "data": {
            "text/plain": [
              "                  Importancia  Importancia_porcentaje\n",
              "CALIDAD_DQO          0.390076               39.007585\n",
              "CALIDAD_COLI_FEC     0.232472               62.254762\n",
              "CALIDAD_ENTEROC      0.139636               76.218317\n",
              "CALIDAD_E_COLI       0.070039               83.222221\n",
              "CALIDAD_DBO          0.068030               90.025192\n",
              "CALIDAD_OD_PORC      0.023690               92.394227\n",
              "CALIDAD_TOX_V_15     0.021804               94.574603\n",
              "CALIDAD_TOX_D_48     0.016376               96.212169\n",
              "CALIDAD_SST          0.014059               97.618103\n",
              "LONGITUD             0.011924               98.810498\n",
              "LATITUD              0.011895              100.000000"
            ],
            "text/html": [
              "\n",
              "  <div id=\"df-47c8006a-93f1-4bcb-b448-3e23d13a9a32\">\n",
              "    <div class=\"colab-df-container\">\n",
              "      <div>\n",
              "<style scoped>\n",
              "    .dataframe tbody tr th:only-of-type {\n",
              "        vertical-align: middle;\n",
              "    }\n",
              "\n",
              "    .dataframe tbody tr th {\n",
              "        vertical-align: top;\n",
              "    }\n",
              "\n",
              "    .dataframe thead th {\n",
              "        text-align: right;\n",
              "    }\n",
              "</style>\n",
              "<table border=\"1\" class=\"dataframe\">\n",
              "  <thead>\n",
              "    <tr style=\"text-align: right;\">\n",
              "      <th></th>\n",
              "      <th>Importancia</th>\n",
              "      <th>Importancia_porcentaje</th>\n",
              "    </tr>\n",
              "  </thead>\n",
              "  <tbody>\n",
              "    <tr>\n",
              "      <th>CALIDAD_DQO</th>\n",
              "      <td>0.390076</td>\n",
              "      <td>39.007585</td>\n",
              "    </tr>\n",
              "    <tr>\n",
              "      <th>CALIDAD_COLI_FEC</th>\n",
              "      <td>0.232472</td>\n",
              "      <td>62.254762</td>\n",
              "    </tr>\n",
              "    <tr>\n",
              "      <th>CALIDAD_ENTEROC</th>\n",
              "      <td>0.139636</td>\n",
              "      <td>76.218317</td>\n",
              "    </tr>\n",
              "    <tr>\n",
              "      <th>CALIDAD_E_COLI</th>\n",
              "      <td>0.070039</td>\n",
              "      <td>83.222221</td>\n",
              "    </tr>\n",
              "    <tr>\n",
              "      <th>CALIDAD_DBO</th>\n",
              "      <td>0.068030</td>\n",
              "      <td>90.025192</td>\n",
              "    </tr>\n",
              "    <tr>\n",
              "      <th>CALIDAD_OD_PORC</th>\n",
              "      <td>0.023690</td>\n",
              "      <td>92.394227</td>\n",
              "    </tr>\n",
              "    <tr>\n",
              "      <th>CALIDAD_TOX_V_15</th>\n",
              "      <td>0.021804</td>\n",
              "      <td>94.574603</td>\n",
              "    </tr>\n",
              "    <tr>\n",
              "      <th>CALIDAD_TOX_D_48</th>\n",
              "      <td>0.016376</td>\n",
              "      <td>96.212169</td>\n",
              "    </tr>\n",
              "    <tr>\n",
              "      <th>CALIDAD_SST</th>\n",
              "      <td>0.014059</td>\n",
              "      <td>97.618103</td>\n",
              "    </tr>\n",
              "    <tr>\n",
              "      <th>LONGITUD</th>\n",
              "      <td>0.011924</td>\n",
              "      <td>98.810498</td>\n",
              "    </tr>\n",
              "    <tr>\n",
              "      <th>LATITUD</th>\n",
              "      <td>0.011895</td>\n",
              "      <td>100.000000</td>\n",
              "    </tr>\n",
              "  </tbody>\n",
              "</table>\n",
              "</div>\n",
              "      <button class=\"colab-df-convert\" onclick=\"convertToInteractive('df-47c8006a-93f1-4bcb-b448-3e23d13a9a32')\"\n",
              "              title=\"Convert this dataframe to an interactive table.\"\n",
              "              style=\"display:none;\">\n",
              "        \n",
              "  <svg xmlns=\"http://www.w3.org/2000/svg\" height=\"24px\"viewBox=\"0 0 24 24\"\n",
              "       width=\"24px\">\n",
              "    <path d=\"M0 0h24v24H0V0z\" fill=\"none\"/>\n",
              "    <path d=\"M18.56 5.44l.94 2.06.94-2.06 2.06-.94-2.06-.94-.94-2.06-.94 2.06-2.06.94zm-11 1L8.5 8.5l.94-2.06 2.06-.94-2.06-.94L8.5 2.5l-.94 2.06-2.06.94zm10 10l.94 2.06.94-2.06 2.06-.94-2.06-.94-.94-2.06-.94 2.06-2.06.94z\"/><path d=\"M17.41 7.96l-1.37-1.37c-.4-.4-.92-.59-1.43-.59-.52 0-1.04.2-1.43.59L10.3 9.45l-7.72 7.72c-.78.78-.78 2.05 0 2.83L4 21.41c.39.39.9.59 1.41.59.51 0 1.02-.2 1.41-.59l7.78-7.78 2.81-2.81c.8-.78.8-2.07 0-2.86zM5.41 20L4 18.59l7.72-7.72 1.47 1.35L5.41 20z\"/>\n",
              "  </svg>\n",
              "      </button>\n",
              "      \n",
              "  <style>\n",
              "    .colab-df-container {\n",
              "      display:flex;\n",
              "      flex-wrap:wrap;\n",
              "      gap: 12px;\n",
              "    }\n",
              "\n",
              "    .colab-df-convert {\n",
              "      background-color: #E8F0FE;\n",
              "      border: none;\n",
              "      border-radius: 50%;\n",
              "      cursor: pointer;\n",
              "      display: none;\n",
              "      fill: #1967D2;\n",
              "      height: 32px;\n",
              "      padding: 0 0 0 0;\n",
              "      width: 32px;\n",
              "    }\n",
              "\n",
              "    .colab-df-convert:hover {\n",
              "      background-color: #E2EBFA;\n",
              "      box-shadow: 0px 1px 2px rgba(60, 64, 67, 0.3), 0px 1px 3px 1px rgba(60, 64, 67, 0.15);\n",
              "      fill: #174EA6;\n",
              "    }\n",
              "\n",
              "    [theme=dark] .colab-df-convert {\n",
              "      background-color: #3B4455;\n",
              "      fill: #D2E3FC;\n",
              "    }\n",
              "\n",
              "    [theme=dark] .colab-df-convert:hover {\n",
              "      background-color: #434B5C;\n",
              "      box-shadow: 0px 1px 3px 1px rgba(0, 0, 0, 0.15);\n",
              "      filter: drop-shadow(0px 1px 2px rgba(0, 0, 0, 0.3));\n",
              "      fill: #FFFFFF;\n",
              "    }\n",
              "  </style>\n",
              "\n",
              "      <script>\n",
              "        const buttonEl =\n",
              "          document.querySelector('#df-47c8006a-93f1-4bcb-b448-3e23d13a9a32 button.colab-df-convert');\n",
              "        buttonEl.style.display =\n",
              "          google.colab.kernel.accessAllowed ? 'block' : 'none';\n",
              "\n",
              "        async function convertToInteractive(key) {\n",
              "          const element = document.querySelector('#df-47c8006a-93f1-4bcb-b448-3e23d13a9a32');\n",
              "          const dataTable =\n",
              "            await google.colab.kernel.invokeFunction('convertToInteractive',\n",
              "                                                     [key], {});\n",
              "          if (!dataTable) return;\n",
              "\n",
              "          const docLinkHtml = 'Like what you see? Visit the ' +\n",
              "            '<a target=\"_blank\" href=https://colab.research.google.com/notebooks/data_table.ipynb>data table notebook</a>'\n",
              "            + ' to learn more about interactive tables.';\n",
              "          element.innerHTML = '';\n",
              "          dataTable['output_type'] = 'display_data';\n",
              "          await google.colab.output.renderOutput(dataTable, element);\n",
              "          const docLink = document.createElement('div');\n",
              "          docLink.innerHTML = docLinkHtml;\n",
              "          element.appendChild(docLink);\n",
              "        }\n",
              "      </script>\n",
              "    </div>\n",
              "  </div>\n",
              "  "
            ]
          },
          "metadata": {},
          "execution_count": 164
        }
      ]
    },
    {
      "cell_type": "code",
      "source": [
        "# nos quedamos sólo con los que representen 95%\n",
        "mostImportantFeatures = []\n",
        "for i in range(len(_)):\n",
        "    vrow=_.iloc[i]['Importancia_porcentaje']\n",
        "    if vrow<95: \n",
        "        mostImportantFeatures.append(_.iloc[i].name)\n",
        "mostImportantFeatures"
      ],
      "metadata": {
        "colab": {
          "base_uri": "https://localhost:8080/"
        },
        "id": "9viQy8oTPAXA",
        "outputId": "fbcd7a37-45b2-4f25-a1fa-c7d25ef16a04"
      },
      "execution_count": 165,
      "outputs": [
        {
          "output_type": "execute_result",
          "data": {
            "text/plain": [
              "['CALIDAD_DQO',\n",
              " 'CALIDAD_COLI_FEC',\n",
              " 'CALIDAD_ENTEROC',\n",
              " 'CALIDAD_E_COLI',\n",
              " 'CALIDAD_DBO',\n",
              " 'CALIDAD_OD_PORC',\n",
              " 'CALIDAD_TOX_V_15']"
            ]
          },
          "metadata": {},
          "execution_count": 165
        }
      ]
    },
    {
      "cell_type": "code",
      "source": [
        "# Split de información con los features más importantes\n",
        "df_sub2 = df_sup[mostImportantFeatures+['SEMAFORO']]\n",
        "X = df_sub2.iloc[:,:-1]\n",
        "y = df_sub2.iloc[:,-1]\n",
        "X_train, X_test, y_train, y_test = train_test_split(X, y, test_size=0.20, random_state=42)\n",
        "\n",
        "kfold = RepeatedStratifiedKFold(n_splits=5, n_repeats=3)"
      ],
      "metadata": {
        "id": "7un-V2afPrnn"
      },
      "execution_count": 167,
      "outputs": []
    },
    {
      "cell_type": "code",
      "source": [
        "#Model Random Forest\n",
        "pipeline = Pipeline(steps=[('rf', classifierRF)])\n",
        "delta_train_sz = np.linspace(0.1, 1.0, num=15, endpoint=True, retstep=False, dtype=None, axis=0)\n",
        "\n",
        "tr_sizes, tr_scores, val_scores = learning_curve(estimator = pipeline,    \n",
        "                                                X = X_train,\n",
        "                                                y = y_train,\n",
        "                                                cv = kfold,\n",
        "                                                train_sizes = delta_train_sz,\n",
        "                                                random_state=42)\n",
        "mi_LearningCurvePlot(tr_sizes, tr_scores, val_scores, 'Random Forest - Curvas de aprendizaje', 'Datos', 'Precisión')"
      ],
      "metadata": {
        "colab": {
          "base_uri": "https://localhost:8080/",
          "height": 404
        },
        "id": "BAVQAgjbP4ym",
        "outputId": "cfa775a0-ae67-4908-d82b-6b0f9e8e34c7"
      },
      "execution_count": 170,
      "outputs": [
        {
          "output_type": "display_data",
          "data": {
            "text/plain": [
              "<Figure size 504x432 with 1 Axes>"
            ],
            "image/png": "[encoded data removed]"
          },
          "metadata": {
            "needs_background": "light"
          }
        }
      ]
    },
    {
      "cell_type": "markdown",
      "source": [
        "# Evaluación de Random Forest"
      ],
      "metadata": {
        "id": "NyoPy6B4QWCg"
      }
    },
    {
      "cell_type": "code",
      "source": [
        "classifierRF.fit(X_train, np.ravel(y_train))\n",
        "y_pred = classifierRF.predict(X_test)"
      ],
      "metadata": {
        "id": "QN-2bLWkQUXA"
      },
      "execution_count": 171,
      "outputs": []
    },
    {
      "cell_type": "code",
      "source": [
        "print(classification_report(np.ravel(y_test), np.ravel(y_pred), target_names=['Verde_1', 'Amarillo_2', 'Rojo_3']))"
      ],
      "metadata": {
        "colab": {
          "base_uri": "https://localhost:8080/"
        },
        "id": "RHrqVIIYQiur",
        "outputId": "fe779c5f-45c6-41f3-e1c9-1cb9717d3287"
      },
      "execution_count": 185,
      "outputs": [
        {
          "output_type": "stream",
          "name": "stdout",
          "text": [
            "              precision    recall  f1-score   support\n",
            "\n",
            "     Verde_1       0.93      1.00      0.96       239\n",
            "  Amarillo_2       0.99      0.93      0.96       237\n",
            "      Rojo_3       1.00      0.99      0.99       223\n",
            "\n",
            "    accuracy                           0.97       699\n",
            "   macro avg       0.97      0.97      0.97       699\n",
            "weighted avg       0.97      0.97      0.97       699\n",
            "\n"
          ]
        }
      ]
    },
    {
      "cell_type": "code",
      "source": [
        "# {'Verde':1, 'Amarillo':2, 'Rojo':3}\n",
        "cf = confusion_matrix(y_test, y_pred)\n",
        "cf"
      ],
      "metadata": {
        "colab": {
          "base_uri": "https://localhost:8080/"
        },
        "id": "2IgUitM0Qo9B",
        "outputId": "f486f6ab-ff63-4a34-f9e6-950efa25678d"
      },
      "execution_count": 173,
      "outputs": [
        {
          "output_type": "execute_result",
          "data": {
            "text/plain": [
              "array([[239,   0,   0],\n",
              "       [ 17, 220,   0],\n",
              "       [  1,   2, 220]])"
            ]
          },
          "metadata": {},
          "execution_count": 173
        }
      ]
    },
    {
      "cell_type": "code",
      "source": [
        "clases = ['Verde_1', 'Amarillo_2', 'Rojo_3']\n",
        "fig, ax = plt.subplots(1,1)\n",
        "sns.heatmap(cf, annot=True, ax=ax, yticklabels=clases, xticklabels=clases, fmt='3d')\n",
        "plt.title('Matriz de confusión')"
      ],
      "metadata": {
        "colab": {
          "base_uri": "https://localhost:8080/",
          "height": 300
        },
        "id": "9TkxT1VwQpCS",
        "outputId": "7aa3283d-9718-41ac-fd20-ad406a2d76d4"
      },
      "execution_count": 176,
      "outputs": [
        {
          "output_type": "execute_result",
          "data": {
            "text/plain": [
              "Text(0.5, 1.0, 'Matriz de confusión')"
            ]
          },
          "metadata": {},
          "execution_count": 176
        },
        {
          "output_type": "display_data",
          "data": {
            "text/plain": [
              "<Figure size 432x288 with 2 Axes>"
            ],
            "image/png": "[encoded data removed]"
          },
          "metadata": {
            "needs_background": "light"
          }
        }
      ]
    },
    {
      "cell_type": "markdown",
      "source": [
        "El grado de exactitud está dado por la precisión y en el caso de la matriz de confusión se ayuda del métrico de sensibilidad. Para predecir la clase 1 tenemos un métrico de precisión de 100% y métrico de sensibilidad de 93%.\n",
        "Esto se traduce a 18 valores de otras clases que fueron clasificados incorrectamente como clase 1. Aún así nuestro modelo; ponderando ambos métricos en el 'f1-score', obtiene un métrico de 97%. Éste es un métrico que considera precisión y sensibilidad.\n",
        "NOTA: Ésta versión de sklearn presenta los métricos de precission y recall al revés. La matriz de confusión es clara."
      ],
      "metadata": {
        "id": "sY1tU0z4SMq_"
      }
    },
    {
      "cell_type": "markdown",
      "source": [
        "# Evaluación de Decision Tree"
      ],
      "metadata": {
        "id": "rAwgIQgpVrgC"
      }
    },
    {
      "cell_type": "code",
      "source": [
        "#Model Decision Tree\n",
        "\n",
        "classifierDT = DecisionTreeClassifier(max_leaf_nodes=16)\n",
        "pipeline2 = Pipeline(steps=[('dt', classifierDT)])\n",
        "\n",
        "delta_train_sz = np.linspace(0.1, 1.0, num=15, endpoint=True, retstep=False, dtype=None, axis=0)\n",
        "tr_sizes, tr_scores, val_scores = learning_curve(estimator = pipeline2,    \n",
        "                                                X = X_train,\n",
        "                                                y = y_train,\n",
        "                                                cv = kfold,\n",
        "                                                train_sizes = delta_train_sz,\n",
        "                                                random_state=42)\n",
        "mi_LearningCurvePlot(tr_sizes, tr_scores, val_scores, 'DecisionTree - Curvas de aprendizaje', 'Datos', 'Precisión')"
      ],
      "metadata": {
        "colab": {
          "base_uri": "https://localhost:8080/",
          "height": 404
        },
        "id": "rTVsUzIbPvEu",
        "outputId": "a5a3c18e-dd48-4c06-fbf6-5a9360883b0f"
      },
      "execution_count": 186,
      "outputs": [
        {
          "output_type": "display_data",
          "data": {
            "text/plain": [
              "<Figure size 504x432 with 1 Axes>"
            ],
            "image/png": "[encoded data removed]"
          },
          "metadata": {
            "needs_background": "light"
          }
        }
      ]
    },
    {
      "cell_type": "code",
      "source": [
        "classifierDT.fit(X_train, np.ravel(y_train))\n",
        "y_pred = classifierDT.predict(X_test)"
      ],
      "metadata": {
        "id": "wYovJ1eKP0rr"
      },
      "execution_count": 187,
      "outputs": []
    },
    {
      "cell_type": "code",
      "source": [
        "print(classification_report(np.ravel(y_test), np.ravel(y_pred), target_names=['Verde_1', 'Amarillo_2', 'Rojo_3']))"
      ],
      "metadata": {
        "colab": {
          "base_uri": "https://localhost:8080/"
        },
        "id": "CQD4JJ5kVVTH",
        "outputId": "495771a2-a8fb-4e1a-f20f-de30e262c380"
      },
      "execution_count": 188,
      "outputs": [
        {
          "output_type": "stream",
          "name": "stdout",
          "text": [
            "              precision    recall  f1-score   support\n",
            "\n",
            "     Verde_1       0.93      1.00      0.96       239\n",
            "  Amarillo_2       1.00      0.93      0.96       237\n",
            "      Rojo_3       1.00      0.99      1.00       223\n",
            "\n",
            "    accuracy                           0.97       699\n",
            "   macro avg       0.98      0.97      0.97       699\n",
            "weighted avg       0.97      0.97      0.97       699\n",
            "\n"
          ]
        }
      ]
    },
    {
      "cell_type": "code",
      "source": [
        "# {'Verde':1, 'Amarillo':2, 'Rojo':3}\n",
        "cf = confusion_matrix(y_test, y_pred)\n",
        "cf"
      ],
      "metadata": {
        "colab": {
          "base_uri": "https://localhost:8080/"
        },
        "id": "W2ZV7JTmVXRE",
        "outputId": "2ee61423-e141-4e3a-8ddf-c443372a0c6c"
      },
      "execution_count": 189,
      "outputs": [
        {
          "output_type": "execute_result",
          "data": {
            "text/plain": [
              "array([[239,   0,   0],\n",
              "       [ 17, 220,   0],\n",
              "       [  1,   1, 221]])"
            ]
          },
          "metadata": {},
          "execution_count": 189
        }
      ]
    },
    {
      "cell_type": "code",
      "source": [
        "clases = ['Verde_1', 'Amarillo_2', 'Rojo_3']\n",
        "fig, ax = plt.subplots(1,1)\n",
        "sns.heatmap(cf, annot=True, ax=ax, yticklabels=clases, xticklabels=clases, fmt='3d')\n",
        "plt.title('Matriz de confusión')"
      ],
      "metadata": {
        "colab": {
          "base_uri": "https://localhost:8080/",
          "height": 300
        },
        "id": "-oeSqOMXVZej",
        "outputId": "fad0fcd1-066d-458e-b266-0d838660c251"
      },
      "execution_count": 190,
      "outputs": [
        {
          "output_type": "execute_result",
          "data": {
            "text/plain": [
              "Text(0.5, 1.0, 'Matriz de confusión')"
            ]
          },
          "metadata": {},
          "execution_count": 190
        },
        {
          "output_type": "display_data",
          "data": {
            "text/plain": [
              "<Figure size 432x288 with 2 Axes>"
            ],
            "image/png": "[encoded data removed]"
          },
          "metadata": {
            "needs_background": "light"
          }
        }
      ]
    },
    {
      "cell_type": "markdown",
      "source": [
        "Basandonos en los métricos de desempeño. Es mejor el modelo de decision tree gracias a su score de sensibilidad. La clasificación correcta de un sólo dato hace la diferencia con respecto al modelo de Random Forest. Haciéndo énfasis en que éste modelo es menos costoso."
      ],
      "metadata": {
        "id": "RXBg4n6VVwjO"
      }
    },
    {
      "cell_type": "code",
      "source": [],
      "metadata": {
        "id": "LviY-gHMVaUw"
      },
      "execution_count": null,
      "outputs": []
    }
  ]
}