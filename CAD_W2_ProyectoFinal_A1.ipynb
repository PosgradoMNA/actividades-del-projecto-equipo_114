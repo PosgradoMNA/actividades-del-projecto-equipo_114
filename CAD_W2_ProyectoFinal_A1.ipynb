{
  "nbformat": 4,
  "nbformat_minor": 0,
  "metadata": {
    "colab": {
      "provenance": [],
      "include_colab_link": true
    },
    "kernelspec": {
      "name": "python3",
      "display_name": "Python 3"
    },
    "language_info": {
      "name": "python"
    }
  },
  "cells": [
    {
      "cell_type": "markdown",
      "metadata": {
        "id": "view-in-github",
        "colab_type": "text"
      },
      "source": [
        "<a href=\"https://colab.research.google.com/github/PosgradoMNA/actividades-del-projecto-equipo_114/blob/main/CAD_W2_ProyectoFinal_A1.ipynb\" target=\"_parent\"><img src=\"https://colab.research.google.com/assets/colab-badge.svg\" alt=\"Open In Colab\"/></a>"
      ]
    },
    {
      "cell_type": "code",
      "execution_count": null,
      "metadata": {
        "id": "qPDNhhsI5Z2I"
      },
      "outputs": [],
      "source": []
    },
    {
      "cell_type": "markdown",
      "source": [
        "# **Proyecto final - Avance 1**\n",
        "Equipo: \n",
        "  Javier Granados - 566717\n",
        "  Josías Ruiz - 968460"
      ],
      "metadata": {
        "id": "W7cPGCdd6-M3"
      }
    },
    {
      "cell_type": "markdown",
      "source": [
        "El nombre que caracteriza el conjunto de datos: *Spotify Top 200 Charts (2020-2021)* \n",
        "\n",
        "La organización que lo generó: *spotifycharts.com*\n",
        "\n",
        "\n",
        "Incluya un enlace de Internet donde se puedan descargar el base de datos en línea: https://www.kaggle.com/datasets/sashankpillai/spotify-top-200-charts-20202021\n"
      ],
      "metadata": {
        "id": "ckuY7H6R7tvJ"
      }
    },
    {
      "cell_type": "markdown",
      "source": [
        "**Describe el conjunto de datos. ¿Qué datos contiene?**\n",
        "\n",
        "**Highest Charting Position:** The highest position that the song has been on in the Spotify Top 200 Weekly Global Charts in 2020 & 2021.\n",
        "\n",
        "**Number of Times Charted**: The number of times that the song has been on in the Spotify Top 200 Weekly Global Charts in 2020 & 2021.\n",
        "Week of Highest Charting: The week when the song had the Highest Position in the Spotify Top 200 Weekly Global Charts in 2020 & 2021.\n",
        "\n",
        "**Song Name:** Name of the song that has been on in the Spotify Top 200 Weekly Global Charts in 2020 & 2021.\n",
        "\n",
        "**Song iD:** The song ID provided by Spotify (unique to each song).\n",
        "Streams: Approximate number of streams the song has.\n",
        "\n",
        "**Artist:** The main artist/ artists involved in making the song.\n",
        "\n",
        "**Artist Followers:** The number of followers the main artist has on Spotify.\n",
        "\n",
        "**Genre:** The genres the song belongs to.\n",
        "\n",
        "**Release Date:** The initial date that the song was released.\n",
        "\n",
        "**Weeks Charted:** The weeks that the song has been on in the Spotify Top 200 Weekly Global Charts in 2020 & 2021.\n",
        "\n",
        "**Popularity:**The popularity of the track. The value will be between 0 and 100, with 100 being the most popular.\n",
        "\n",
        "**Danceability:** Danceability describes how suitable a track is for dancing based on a combination of musical elements including tempo, rhythm stability, beat strength, and overall regularity. A value of 0.0 is least danceable and 1.0 is most danceable.\n",
        "\n",
        "**Acousticness:** A measure from 0.0 to 1.0 of whether the track is acoustic.\n",
        "\n",
        "**Energy:** Energy is a measure from 0.0 to 1.0 and represents a perceptual measure of intensity and activity. Typically, energetic tracks feel fast, loud, and noisy.\n",
        "\n",
        "**Instrumentalness:** Predicts whether a track contains no vocals. The closer the instrumentalness value is to 1.0, the greater likelihood the track contains no vocal content.\n",
        "\n",
        "**Liveness:** Detects the presence of an audience in the recording. Higher liveness values represent an increased probability that the track was performed live.\n",
        "\n",
        "**Loudness:** The overall loudness of a track in decibels (dB). Loudness values are averaged across the entire track. Values typical range between -60 and 0 db.\n",
        "Speechiness: Speechiness detects the presence of spoken words in a track. The more exclusively speech-like the recording (e.g. talk show, audio book, poetry), the closer to 1.0 the attribute value.\n",
        "\n",
        "**Tempo:** The overall estimated tempo of a track in beats per minute (BPM). In musical terminology, tempo is the speed or pace of a given piece and derives directly from the average beat duration.\n",
        "\n",
        "**Valence:** A measure from 0.0 to 1.0 describing the musical positiveness conveyed by a track. Tracks with high valence sound more positive (e.g. happy, cheerful, euphoric), while tracks with low valence sound more negative (e.g. sad, depressed, angry).\n",
        "\n",
        "**Chord:** The main chord of the song instrumental."
      ],
      "metadata": {
        "id": "YRkxz4rZ_pwI"
      }
    },
    {
      "cell_type": "markdown",
      "source": [],
      "metadata": {
        "id": "Da9IMog98rD1"
      }
    },
    {
      "cell_type": "markdown",
      "source": [
        "¿Cuáles son algunas de las preguntas de investigación que podría responder con estos datos? Enumere al menos OCHO (no responda las preguntas).\n",
        "\n",
        "1. Cuál es el artísta mas relevante?\n",
        "2. Cuál es el género más popular?\n",
        "3. Cuál es el mejor tiempo para publicar una canción?\n",
        "4. La popularidad esta relacionada a que una canción sea bailable?\n",
        "5. Cuales son las caracteristicas más importantes para que una canción sea popular?\n",
        "6. Cual es la relación entre canción popular y los seguidores del artista\n",
        "7. Cuál es la duración promedio de popularidad?\n",
        "8. El género de la canción esta relacionada con su popularidad?\n",
        "\n",
        "¿Qué actor (empresa, sector de la sociedad, organismo descentralizado, gobierno, etc.) estaría interesado en las preguntas mencionadas que identificó?\n",
        "*Cualquier productor musical o artista musical.*"
      ],
      "metadata": {
        "id": "Mwf-0NMB9uZS"
      }
    }
  ]
}